{
 "cells": [
  {
   "cell_type": "code",
   "execution_count": 1,
   "metadata": {},
   "outputs": [],
   "source": [
    "import pandas as pd"
   ]
  },
  {
   "cell_type": "code",
   "execution_count": 6,
   "metadata": {},
   "outputs": [],
   "source": [
    "df = pd.read_csv(\"/Users/dzz1th/Job/mgi/Soroka/data/pc_data/extracted_statements.csv\")\n",
    "\n",
    "employment_statements = df['employment_summary']\n",
    "inflation_statements = df['inflation_summary']\n",
    "\n",
    "\n"
   ]
  },
  {
   "cell_type": "code",
   "execution_count": 15,
   "metadata": {},
   "outputs": [
    {
     "name": "stdout",
     "output_type": "stream",
     "text": [
      "As with overall economic activity, conditions in the labor market have continued to improve. Demand for labor is very strong, and job gains averaged 750,000 per month over the past three months. In August, however, job gains slowed markedly, with the slowdown concentrated in sectors most sensitive to the pandemic, including leisure and hospitality. The unemployment rate was 5.2 percent in August, and this figure understates the shortfall in employment, particularly as participation in the labor market has not moved up from the low rates that have prevailed for most of the past year. Factors related to the pandemic, such as caregiving needs and ongoing fears of the virus, appear to be weighing on employment growth. These factors should diminish with progress on containing the virus, leading to more rapid gains in employment. Looking ahead, FOMC participants project the labor market to continue to improve, with the median projection for the unemployment rate standing at 4.8 percent at the end of this year and 3.5 percent in 2023 and ’24. The economic downturn has not fallen equally on all Americans, and those least able to shoulder the burden have been hardest hit. In particular, despite progress, joblessness continues to fall disproportionately on lower-wage workers in the service sector and on African Americans and Hispanics.\n",
      "We continue to expect that it will be appropriate to maintain the current 0 to ¼ percent target range for the federal funds rate until labor market conditions have reached levels consistent with the Committee’s assessment of maximum employment.  \n",
      "\n",
      "The test for beginning our taper is that we’ve achieved substantial further progress toward our goals of maximum employment.  \n",
      "\n",
      "So the question is really on the maximum-employment test.  \n",
      "\n",
      "If you look at a good number of indicators, you will see that, since last December, when we articulated the test, and the readings today, in many cases more than half of the distance, for example, between the unemployment rate in December of 2020 and typical estimates of the natural rate—50 or 60 percent of that road has been traveled.  \n",
      "I guess my own view would be that the test—the “substantial further progress” test for employment is all but met.  \n",
      "You know, we want to foster a strong labor market.\n",
      "CHAIR POWELL. It’s labor market conditions consistent with maximum employment. And while we have interesting signs that, in many ways, the labor market’s very tight, we also have lots of slack in the labor market, and we think that those imbalances will sort themself out.\n",
      "\n",
      "So I just think, if you look at what people are writing down for year-end 2022 numbers, some people are writing down very low unemployment rates. And that’s only one indicator, but it suggests a very strong labor market.\n",
      "CHRIS RUGABER. Thank you. Thank you. Thank you, Chair Powell. Wider question about jobs and the Fed’s schedule—the Fed’s policy framework that you laid out here. You and other Fed officials have often talked about expecting a job market pickup in September as more children return to school, freeing up more parents to work, COVID abating. You mentioned in the past the extra unemployment benefits expiring. There’s some real-time data suggesting that we may not be seeing much of a return of labor supply. So do you still expect to see that in the next couple of jobs reports? And how would a relatively weak jobs report in September affect your plans? Thank you.\n",
      "\n",
      "CHAIR POWELL. So, you’re right, we have a—really, I’ll call it a unique situation where, by many measures, the labor market is tight. And 11 million job openings, very widespread reports from employers all over the economy saying it’s quite difficult to hire people, wages moving up, and that kind—so, quite a tight labor market. So our view, I think—widespread view a few months ago was that several things were coming together in the fall, including kids back to school, which would, you know, which would lighten caregiving duties, including the expiration of unemployment—extra unemployment benefits, and other things would come together to provide an increase in labor supply, and so we’d get out of this strange world where there’re lots of unemployed people and a high unemployment rate but a labor shortage.\n",
      "\n",
      "And so what happened was, Delta happened. And you had this very sharp spike in Delta cases. And I think, so that affects—for example, when schools are open 60 percent of the time or when they’re always at a threat of being closed because of Delta, the Delta variant, you know, you might want to wait. Rather than going ahead and taking a job and starting work only to have to quit it three weeks later, you’re going to wait until you’re confident of that. So some of that may not have happened. Also, people didn’t, you know—as you know, hiring and spending in these face-to-face service industries, travel and leisure, it just kind of stopped during those months. So we—so that—really, the big shortfall in labor, in jobs, was largely in travel and leisure, and that’s because of—clearly because of Delta. So that all happened. And so what we—we know things that didn’t happen.\n",
      "\n",
      "I think there’s still—it may just be that it’s going to take more time. But it still seems that, inexorably, people will—these are people who were largely working back in February of 2020. They’ll get back to work when it’s time to do that. It just may take a longer time. You’re right, though—it didn’t happen with any force in September, and a lot of that was Delta.\n",
      "So, you know, for me, it wouldn’t take a knockout, great, super strong employment report. It would take a reasonably good employment report for me to feel like that test is met.  \n",
      "Really, we look at a broad range of—a very broad range of metrics when we think about what maximum employment is.  \n",
      "We all saw the benefits of a strong labor market.  \n",
      "If you look at the last two or three years of, before the pandemic hit, you saw—after a lot of long progress, you saw a really strong labor market.  \n",
      "And you saw wages at the low end moving up faster than everywhere else—something that’s great to see.  \n",
      "We also saw the lowest unemployment rates for minorities of various, you know, for African Americans, for example, and also participation rates.  \n",
      "We saw a really, really healthy set of dynamics.  \n",
      "We also said we wouldn’t raise rates just in response to very low unemployment, in the absence of inflation.  \n",
      "It isn’t really just targeting the headline numbers, but it’s about taking all of those things into account in your thinking about what constitutes maximum employment.\n",
      "with the mandate.\n",
      "\n",
      ".\n",
      ".\n"
     ]
    }
   ],
   "source": [
    "print(employment_statements.iloc[54])"
   ]
  },
  {
   "cell_type": "code",
   "execution_count": null,
   "metadata": {},
   "outputs": [],
   "source": []
  }
 ],
 "metadata": {
  "kernelspec": {
   "display_name": "ucl",
   "language": "python",
   "name": "python3"
  },
  "language_info": {
   "codemirror_mode": {
    "name": "ipython",
    "version": 3
   },
   "file_extension": ".py",
   "mimetype": "text/x-python",
   "name": "python",
   "nbconvert_exporter": "python",
   "pygments_lexer": "ipython3",
   "version": "3.10.14"
  }
 },
 "nbformat": 4,
 "nbformat_minor": 2
}
