{
 "cells": [
  {
   "cell_type": "code",
   "execution_count": 1,
   "metadata": {},
   "outputs": [],
   "source": [
    "import json \n",
    "import pandas as pd\n",
    "\n",
    "with open(\"/Users/dzz1th/Job/mgi/Soroka/data/qa_data/text_embeddings.json\", \"r\") as f:\n",
    "    data = json.load(f)\n",
    "\n",
    "    embeddings = data['embeddings']\n",
    "    embeddings = {int(key): value for key, value in embeddings.items()}\n",
    "\n",
    "    text_idxs = data['text_idxs']\n",
    "    text_idxs = {key: int(value) for key, value in text_idxs.items()} \n",
    "    \n",
    "    pairs_ranking = data['pairs_ranking']\n",
    "    pairs_ranking = {tuple(json.loads(key)): value for key, value in pairs_ranking.items()}\n",
    "\n",
    "    pairs = list(pairs_ranking.keys())\n",
    "    pairs = [(embeddings[pair[0]], embeddings[pair[1]]) for pair in pairs]\n",
    "    labels = list(pairs_ranking.values())"
   ]
  },
  {
   "cell_type": "markdown",
   "metadata": {},
   "source": [
    "We have neutral-neutral pairs, and dataset with the hawkish/dovish augmentations.\n",
    "\n",
    "Then, if doc1 > doc2 (more hawkish) -> doc1.hawkish  > doc2, doc2.dovish., doc1 > doc2.dovish\n",
    "If doc1 < doc2 (more dovish) -> doc1.dovish < doc2, doc1 < doc2.hawkish, doc1.dovish < doc2.hawkih\n"
   ]
  },
  {
   "cell_type": "code",
   "execution_count": 27,
   "metadata": {},
   "outputs": [],
   "source": [
    "qa_df = pd.read_csv(\"/Users/dzz1th/Job/mgi/Soroka/data/qa_data/qa_data_labeled.csv\")\n",
    "\n",
    "with open(\"/Users/dzz1th/Job/mgi/Soroka/data/qa_data/train_pairs_ranking.json\", \"r\") as f:\n",
    "    train_pairs_ranking = json.load(f)\n",
    "    train_pairs_ranking = {tuple(json.loads(key)): value for key, value in train_pairs_ranking.items()}\n",
    "\n",
    "with open(\"/Users/dzz1th/Job/mgi/Soroka/data/qa_data/test_pairs_ranking.json\", \"r\") as f:\n",
    "    test_pairs_ranking = json.load(f)\n",
    "    test_pairs_ranking = {tuple(json.loads(key)): value for key, value in test_pairs_ranking.items()}\n",
    "\n",
    "\n",
    "def generate_pairs_ranking(qa_df, pairs_ranking):\n",
    "    result_pairs_ranking = {}\n",
    "\n",
    "    for pair, value in pairs_ranking.items():\n",
    "        try:\n",
    "            if value == 1:\n",
    "                higher_text = pair[0]\n",
    "                lower_text = pair[1]\n",
    "            else:\n",
    "                lower_text = pair[0]\n",
    "                higher_text = pair[1]\n",
    "                \n",
    "            higher_text_date = qa_df.loc[qa_df['text'] == higher_text]['date'].values[0]\n",
    "            lower_text_date = qa_df.loc[qa_df['text'] == lower_text]['date'].values[0]\n",
    "\n",
    "            higher_text_hawkish = qa_df.loc[(qa_df['date'] == higher_text_date) & (qa_df['shift'] == 'hawkish')]['text'].values[0]\n",
    "            higher_text_dovish = qa_df.loc[(qa_df['date'] == higher_text_date) & (qa_df['shift'] == 'dovish')]['text'].values[0]\n",
    "\n",
    "            lower_text_hawkish = qa_df.loc[(qa_df['date'] == lower_text_date) & (qa_df['shift'] == 'hawkish')]['text'].values[0]\n",
    "            lower_text_dovish = qa_df.loc[(qa_df['date'] == lower_text_date) & (qa_df['shift'] == 'dovish')]['text'].values[0]\n",
    "\n",
    "            #Infered Pairs for higher and lower texts\n",
    "            result_pairs_ranking[(higher_text_hawkish, lower_text)] =  abs(value)\n",
    "            result_pairs_ranking[(higher_text, lower_text_dovish)] =  abs(value)\n",
    "            result_pairs_ranking[(higher_text_hawkish, lower_text_dovish)] =  1\n",
    "\n",
    "            #Original Pairs from the triplets \n",
    "            result_pairs_ranking[(higher_text_hawkish, higher_text)] =  0.5\n",
    "            result_pairs_ranking[(higher_text, higher_text_dovish)] =  0.5\n",
    "            result_pairs_ranking[(higher_text_hawkish, higher_text_dovish)] =  1\n",
    "\n",
    "            result_pairs_ranking[(lower_text_hawkish, lower_text)] =  0.5\n",
    "            result_pairs_ranking[(lower_text, lower_text_dovish)] =  0.5\n",
    "            result_pairs_ranking[(lower_text_hawkish, lower_text_dovish)] =  1\n",
    "        except BaseException as exc: #We dodge exceptions for blocks where some augmentations are missing\n",
    "            pass \n",
    "\n",
    "    return result_pairs_ranking"
   ]
  },
  {
   "cell_type": "code",
   "execution_count": 30,
   "metadata": {},
   "outputs": [],
   "source": [
    "train_pairs_ranking = generate_pairs_ranking(qa_df, train_pairs_ranking)\n",
    "test_pairs_ranking = generate_pairs_ranking(qa_df, test_pairs_ranking)\n",
    "\n",
    "train_pairs_ranking = {json.dumps(key): value for key, value in train_pairs_ranking.items()}\n",
    "test_pairs_ranking = {json.dumps(key): value for key, value in test_pairs_ranking.items()}\n",
    "\n",
    "with open(\"/Users/dzz1th/Job/mgi/Soroka/data/qa_data/train_pairs_ranking_linked.json\", \"w\") as f:\n",
    "    json.dump(train_pairs_ranking, f)\n",
    "\n",
    "with open(\"/Users/dzz1th/Job/mgi/Soroka/data/qa_data/test_pairs_ranking_linked.json\", \"w\") as f:\n",
    "    json.dump(test_pairs_ranking, f)"
   ]
  },
  {
   "cell_type": "code",
   "execution_count": 32,
   "metadata": {},
   "outputs": [
    {
     "data": {
      "text/plain": [
       "1158"
      ]
     },
     "execution_count": 32,
     "metadata": {},
     "output_type": "execute_result"
    }
   ],
   "source": [
    "len(test_pairs_ranking)"
   ]
  },
  {
   "cell_type": "code",
   "execution_count": null,
   "metadata": {},
   "outputs": [],
   "source": []
  }
 ],
 "metadata": {
  "kernelspec": {
   "display_name": "ucl",
   "language": "python",
   "name": "python3"
  },
  "language_info": {
   "codemirror_mode": {
    "name": "ipython",
    "version": 3
   },
   "file_extension": ".py",
   "mimetype": "text/x-python",
   "name": "python",
   "nbconvert_exporter": "python",
   "pygments_lexer": "ipython3",
   "version": "3.10.14"
  }
 },
 "nbformat": 4,
 "nbformat_minor": 2
}
