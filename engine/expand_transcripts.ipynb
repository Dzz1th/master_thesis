{
 "cells": [
  {
   "cell_type": "code",
   "execution_count": 1,
   "metadata": {},
   "outputs": [],
   "source": [
    "import pandas as pd"
   ]
  },
  {
   "cell_type": "code",
   "execution_count": 15,
   "metadata": {},
   "outputs": [
    {
     "data": {
      "text/plain": [
       "Index(['balance_sheet_statements', 'balance_sheet_trajectory', 'date',\n",
       "       'employment_concern', 'employment_level', 'employment_score',\n",
       "       'employment_statements', 'employment_summary', 'explicit_augmentations',\n",
       "       'forward_guidance_statements', 'forward_guidance_summary',\n",
       "       'guidance_score', 'inflation_concern', 'inflation_level',\n",
       "       'interest_rate_statements', 'interest_rate_trajectory', 'main_concern',\n",
       "       'sentiment_summary', 'summary', 'text', 'employment_dynamics',\n",
       "       'inflation_dynamics', 'guidance', 'transcript'],\n",
       "      dtype='object')"
      ]
     },
     "execution_count": 15,
     "metadata": {},
     "output_type": "execute_result"
    }
   ],
   "source": [
    "df = pd.read_csv(\"../data/pc_data/summarized_data.csv\")\n",
    "df.columns\n"
   ]
  },
  {
   "cell_type": "code",
   "execution_count": null,
   "metadata": {},
   "outputs": [
    {
     "name": "stderr",
     "output_type": "stream",
     "text": [
      "/var/folders/bg/7dlg6wfn7l1cn6q3xxnwfj_80000gn/T/ipykernel_88192/1339060986.py:13: FutureWarning: The behavior of DataFrame concatenation with empty or all-NA entries is deprecated. In a future version, this will no longer exclude empty or all-NA columns when determining the result dtypes. To retain the old behavior, exclude the relevant entries before the concat operation.\n",
      "  df.loc[len(df)] = new_row\n",
      "/var/folders/bg/7dlg6wfn7l1cn6q3xxnwfj_80000gn/T/ipykernel_88192/1339060986.py:13: FutureWarning: The behavior of DataFrame concatenation with empty or all-NA entries is deprecated. In a future version, this will no longer exclude empty or all-NA columns when determining the result dtypes. To retain the old behavior, exclude the relevant entries before the concat operation.\n",
      "  df.loc[len(df)] = new_row\n"
     ]
    }
   ],
   "source": [
    "new_dates = ['20241218', '20250129']\n",
    "\n",
    "for date in new_dates:\n",
    "    transcript_path = f\"../data/qa_data/{date}.txt\"\n",
    "    with open(transcript_path, 'r') as file:\n",
    "        transcript = file.read()\n",
    "\n",
    "    date = pd.to_datetime(date, format='%Y%m%d')\n",
    "    new_row = {col: None for col in df.columns}\n",
    "    new_row['date'] = date\n",
    "    new_row['text'] = transcript\n",
    "\n",
    "    df.loc[len(df)] = new_row\n",
    "\n",
    "\n"
   ]
  },
  {
   "cell_type": "code",
   "execution_count": 18,
   "metadata": {},
   "outputs": [],
   "source": [
    "df.to_csv(\"../data/pc_data/summarized_data.csv\", index=False)"
   ]
  },
  {
   "cell_type": "code",
   "execution_count": null,
   "metadata": {},
   "outputs": [],
   "source": []
  }
 ],
 "metadata": {
  "kernelspec": {
   "display_name": "ucl",
   "language": "python",
   "name": "python3"
  },
  "language_info": {
   "codemirror_mode": {
    "name": "ipython",
    "version": 3
   },
   "file_extension": ".py",
   "mimetype": "text/x-python",
   "name": "python",
   "nbconvert_exporter": "python",
   "pygments_lexer": "ipython3",
   "version": "3.10.14"
  }
 },
 "nbformat": 4,
 "nbformat_minor": 2
}
