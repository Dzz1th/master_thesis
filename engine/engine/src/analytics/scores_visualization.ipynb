{
 "cells": [
  {
   "cell_type": "code",
   "execution_count": 1,
   "metadata": {},
   "outputs": [],
   "source": [
    "import pandas as pd \n",
    "import matplotlib.pyplot as plt "
   ]
  },
  {
   "cell_type": "code",
   "execution_count": 2,
   "metadata": {},
   "outputs": [],
   "source": [
    "base_path = \"/Users/dzz1th/Job/mgi/Soroka/data/pc_data/\"\n",
    "employment_levels_path = base_path + \"employment_level_pairwise_scores.csv\"\n",
    "employment_dynamics_path = base_path + \"employment_dynamics_pairwise_scores.csv\"\n",
    "inflation_levels_path = base_path + \"inflation_level_pairwise_scores.csv\"\n",
    "inflation_dynamics_path = base_path + \"inflation_dynamics_pairwise_scores.csv\"\n",
    "interest_rate_path = base_path + \"interest_rate_trajectory_pairwise_scores.csv\"\n",
    "balance_sheet_path = base_path + \"balance_sheet_trajectory_pairwise_scores.csv\"\n",
    "guidance_path = base_path + \"forward_guidance_guidance_pairwise_scores.csv\"\n",
    "\n",
    "\n",
    "employment_levels_df = pd.read_csv(employment_levels_path)\n",
    "employment_dynamics_df = pd.read_csv(employment_dynamics_path)\n",
    "inflation_levels_df = pd.read_csv(inflation_levels_path)\n",
    "inflation_dynamics_df = pd.read_csv(inflation_dynamics_path)\n",
    "interest_rate_df = pd.read_csv(interest_rate_path)\n",
    "balance_sheet_df = pd.read_csv(balance_sheet_path)\n",
    "guidance_df = pd.read_csv(guidance_path)"
   ]
  },
  {
   "cell_type": "code",
   "execution_count": 5,
   "metadata": {},
   "outputs": [],
   "source": [
    "from functools import reduce\n",
    "\n",
    "employment_levels_df = employment_levels_df[['date', 'employment_level_score']]\n",
    "employment_dynamics_df = employment_dynamics_df[['date', 'employment_dynamics_score']]\n",
    "inflation_levels_df = inflation_levels_df[['date', 'inflation_level_score']]\n",
    "inflation_dynamics_df = inflation_dynamics_df[['date', 'inflation_dynamics_score']]\n",
    "interest_rate_df = interest_rate_df[['date', 'interest_rate_trajectory_score']]\n",
    "balance_sheet_df = balance_sheet_df[['date', 'balance_sheet_trajectory_score']]\n",
    "guidance_df = guidance_df[['date', 'forward_guidance_guidance_score']]\n",
    "\n",
    "# Create a single dataframe with all score columns\n",
    "df = pd.DataFrame({\n",
    "    'date': employment_levels_df['date'],\n",
    "    'employment_level_score': employment_levels_df['employment_level_score'],\n",
    "    'employment_dynamics_score': employment_dynamics_df['employment_dynamics_score'],\n",
    "    'inflation_level_score': inflation_levels_df['inflation_level_score'],\n",
    "    'inflation_dynamics_score': inflation_dynamics_df['inflation_dynamics_score'],\n",
    "    'interest_rate_trajectory_score': interest_rate_df['interest_rate_trajectory_score'],\n",
    "    'balance_sheet_trajectory_score': balance_sheet_df['balance_sheet_trajectory_score'],\n",
    "    'forward_guidance_guidance_score': guidance_df['forward_guidance_guidance_score']\n",
    "})\n",
    "\n",
    "\n",
    "df['date'] = pd.to_datetime(df['date'])\n",
    "\n",
    "\n",
    "\n"
   ]
  },
  {
   "cell_type": "code",
   "execution_count": null,
   "metadata": {},
   "outputs": [
    {
     "data": {
      "application/vnd.plotly.v1+json": {
       "config": {
        "plotlyServerURL": "https://plot.ly"
       },
       "data": [
        {
         "line": {
          "color": "#1F77B4",
          "width": 2.5
         },
         "marker": {
          "color": "#1F77B4",
          "line": {
           "color": "white",
           "width": 1
          },
          "size": 8
         },
         "mode": "lines+markers",
         "name": "Inflation Level",
         "type": "scatter",
         "x": [
          "2019-01-30T00:00:00.000000000",
          "2019-03-20T00:00:00.000000000",
          "2019-05-01T00:00:00.000000000",
          "2019-06-19T00:00:00.000000000",
          "2019-07-31T00:00:00.000000000",
          "2019-09-18T00:00:00.000000000",
          "2019-10-30T00:00:00.000000000",
          "2019-12-11T00:00:00.000000000",
          "2020-01-29T00:00:00.000000000",
          "2020-03-03T00:00:00.000000000",
          "2020-03-15T00:00:00.000000000",
          "2020-04-29T00:00:00.000000000",
          "2020-06-10T00:00:00.000000000",
          "2020-07-29T00:00:00.000000000",
          "2020-09-16T00:00:00.000000000",
          "2020-11-05T00:00:00.000000000",
          "2020-12-16T00:00:00.000000000",
          "2021-01-27T00:00:00.000000000",
          "2021-03-17T00:00:00.000000000",
          "2021-04-28T00:00:00.000000000",
          "2021-06-16T00:00:00.000000000",
          "2021-07-28T00:00:00.000000000",
          "2021-09-22T00:00:00.000000000",
          "2021-11-03T00:00:00.000000000",
          "2021-12-15T00:00:00.000000000",
          "2022-01-26T00:00:00.000000000",
          "2022-03-16T00:00:00.000000000",
          "2022-05-04T00:00:00.000000000",
          "2022-06-15T00:00:00.000000000",
          "2022-07-27T00:00:00.000000000",
          "2022-09-21T00:00:00.000000000",
          "2022-11-02T00:00:00.000000000",
          "2022-12-14T00:00:00.000000000",
          "2023-02-01T00:00:00.000000000",
          "2023-03-22T00:00:00.000000000",
          "2023-05-03T00:00:00.000000000",
          "2023-06-14T00:00:00.000000000",
          "2023-07-26T00:00:00.000000000",
          "2023-09-20T00:00:00.000000000",
          "2023-11-01T00:00:00.000000000",
          "2023-12-13T00:00:00.000000000",
          "2024-01-31T00:00:00.000000000",
          "2024-03-20T00:00:00.000000000",
          "2024-05-01T00:00:00.000000000",
          "2024-06-12T00:00:00.000000000",
          "2024-07-31T00:00:00.000000000",
          "2024-09-18T00:00:00.000000000",
          "2024-11-07T00:00:00.000000000"
         ],
         "y": {
          "bdata": "x3sV+hZhpj8bn0h96YSZPypV2jcda7Q/rTZuiPBNuz9vVSQ9jj6xPztZmvDCr6A/N2RxiAeAuD+kjLy0IcOSvyCqgsXI5KM/ySfq9ogasb930kADp1HEP+RemjlFuLs/GGQoTk/cxj/Ks35UIrTAP0J2kV1/EJ2/MNgmWBgisD+eGP5zqB29P59fle2+r6E/aPdtvwlOgr85PAwQYXJpPxuXhTiFsqm/g/w1jGvOlb+0B6q13huYv1SgjyrOZ6O/qCxp0MKNsL/ZSfda+2W5v0hFNhIeVry/WFh9vc9ywL84MAptrxevv8D0NDLbvMK/hsCZ0pzvs78PxUoJBPCpvxwSOi+6p7K/OI6+b+yHc7/JOWNA5qu0vz6ODWUk162/WxbFGZFsk7/cQJczwX6xv3H2GSGY5re/txnEVBjatb92Eyueo3Gjv7P0wtEa5LC/AyhiUnZrq7/lqUVyFACYv8S12goKEKO/+5GBpx5Kmr9E+WNtt3G2v6G0lb4u0La/",
          "dtype": "f8"
         }
        }
       ],
       "layout": {
        "annotations": [
         {
          "align": "center",
          "bgcolor": "rgba(255, 255, 255, 0.9)",
          "bordercolor": "red",
          "borderpad": 3,
          "borderwidth": 2,
          "font": {
           "color": "red",
           "family": "Arial",
           "size": 12,
           "weight": "bold"
          },
          "showarrow": false,
          "text": "COVID Impact",
          "x": "2020-03-15T00:00:00",
          "y": 0.45874183329437457
         },
         {
          "align": "center",
          "bgcolor": "rgba(255, 255, 255, 0.9)",
          "bordercolor": "orange",
          "borderpad": 3,
          "borderwidth": 2,
          "font": {
           "color": "orange",
           "family": "Arial",
           "size": 12,
           "weight": "bold"
          },
          "showarrow": false,
          "text": "Transitory Inflation",
          "x": "2020-09-16T00:00:00",
          "y": -0.3283832455501083
         },
         {
          "align": "center",
          "bgcolor": "rgba(255, 255, 255, 0.9)",
          "bordercolor": "purple",
          "borderpad": 3,
          "borderwidth": 2,
          "font": {
           "color": "purple",
           "family": "Arial",
           "size": 12,
           "weight": "bold"
          },
          "showarrow": false,
          "text": "Inflation Peak",
          "x": "2022-07-27T00:00:00",
          "y": -0.04638843490130248
         },
         {
          "align": "center",
          "bgcolor": "rgba(255, 255, 255, 0.9)",
          "bordercolor": "green",
          "borderpad": 3,
          "borderwidth": 2,
          "font": {
           "color": "green",
           "family": "Arial",
           "size": 12,
           "weight": "bold"
          },
          "showarrow": false,
          "text": "Inflation Stabilization",
          "x": "2024-01-31T00:00:00",
          "y": -0.16598060246593
         },
         {
          "align": "center",
          "bgcolor": "rgba(255, 255, 255, 0.8)",
          "bordercolor": "black",
          "borderpad": 3,
          "borderwidth": 1,
          "font": {
           "color": "black",
           "size": 14
          },
          "showarrow": false,
          "text": "COVID Recession",
          "x": "2020-04-15T00:00:00",
          "y": 0.3785983211164257
         },
         {
          "align": "left",
          "bgcolor": "white",
          "bordercolor": "#1F77B4",
          "borderpad": 3,
          "borderwidth": 1,
          "font": {
           "color": "#1F77B4",
           "size": 14
          },
          "showarrow": false,
          "text": "↑ Rising Inflation",
          "x": "2019-03-01T00:00:00",
          "y": 0.14287865689314058
         },
         {
          "align": "left",
          "bgcolor": "white",
          "bordercolor": "#1F77B4",
          "borderpad": 3,
          "borderwidth": 1,
          "font": {
           "color": "#1F77B4",
           "size": 14
          },
          "showarrow": false,
          "text": "↓ Falling Inflation",
          "x": "2019-03-01T00:00:00",
          "y": -0.117110747921042
         }
        ],
        "height": 600,
        "margin": {
         "b": 80,
         "l": 80,
         "r": 60,
         "t": 100
        },
        "paper_bgcolor": "white",
        "plot_bgcolor": "white",
        "shapes": [
         {
          "line": {
           "color": "black",
           "dash": "dash",
           "width": 1
          },
          "type": "line",
          "x0": "2019-01-30T00:00:00",
          "x1": "2024-11-07T00:00:00",
          "y0": 0,
          "y1": 0
         },
         {
          "line": {
           "color": "red",
           "dash": "solid",
           "width": 1.5
          },
          "type": "line",
          "x0": "2020-03-15T00:00:00",
          "x1": "2020-03-15T00:00:00",
          "y0": -0.2463884349013025,
          "y1": 0.2785983211164257
         },
         {
          "line": {
           "color": "orange",
           "dash": "solid",
           "width": 1.5
          },
          "type": "line",
          "x0": "2020-09-16T00:00:00",
          "x1": "2020-09-16T00:00:00",
          "y0": -0.2463884349013025,
          "y1": 0.2785983211164257
         },
         {
          "line": {
           "color": "purple",
           "dash": "solid",
           "width": 1.5
          },
          "type": "line",
          "x0": "2022-07-27T00:00:00",
          "x1": "2022-07-27T00:00:00",
          "y0": -0.2463884349013025,
          "y1": 0.2785983211164257
         },
         {
          "line": {
           "color": "green",
           "dash": "solid",
           "width": 1.5
          },
          "type": "line",
          "x0": "2024-01-31T00:00:00",
          "x1": "2024-01-31T00:00:00",
          "y0": -0.2463884349013025,
          "y1": 0.2785983211164257
         },
         {
          "fillcolor": "rgba(128, 128, 128, 0.2)",
          "layer": "below",
          "line": {
           "width": 0
          },
          "type": "rect",
          "x0": "2020-02-15",
          "x1": "2020-07-15",
          "y0": -0.3463884349013025,
          "y1": 0.3785983211164257
         }
        ],
        "showlegend": false,
        "template": {
         "data": {
          "bar": [
           {
            "error_x": {
             "color": "#2a3f5f"
            },
            "error_y": {
             "color": "#2a3f5f"
            },
            "marker": {
             "line": {
              "color": "#E5ECF6",
              "width": 0.5
             },
             "pattern": {
              "fillmode": "overlay",
              "size": 10,
              "solidity": 0.2
             }
            },
            "type": "bar"
           }
          ],
          "barpolar": [
           {
            "marker": {
             "line": {
              "color": "#E5ECF6",
              "width": 0.5
             },
             "pattern": {
              "fillmode": "overlay",
              "size": 10,
              "solidity": 0.2
             }
            },
            "type": "barpolar"
           }
          ],
          "carpet": [
           {
            "aaxis": {
             "endlinecolor": "#2a3f5f",
             "gridcolor": "white",
             "linecolor": "white",
             "minorgridcolor": "white",
             "startlinecolor": "#2a3f5f"
            },
            "baxis": {
             "endlinecolor": "#2a3f5f",
             "gridcolor": "white",
             "linecolor": "white",
             "minorgridcolor": "white",
             "startlinecolor": "#2a3f5f"
            },
            "type": "carpet"
           }
          ],
          "choropleth": [
           {
            "colorbar": {
             "outlinewidth": 0,
             "ticks": ""
            },
            "type": "choropleth"
           }
          ],
          "contour": [
           {
            "colorbar": {
             "outlinewidth": 0,
             "ticks": ""
            },
            "colorscale": [
             [
              0,
              "#0d0887"
             ],
             [
              0.1111111111111111,
              "#46039f"
             ],
             [
              0.2222222222222222,
              "#7201a8"
             ],
             [
              0.3333333333333333,
              "#9c179e"
             ],
             [
              0.4444444444444444,
              "#bd3786"
             ],
             [
              0.5555555555555556,
              "#d8576b"
             ],
             [
              0.6666666666666666,
              "#ed7953"
             ],
             [
              0.7777777777777778,
              "#fb9f3a"
             ],
             [
              0.8888888888888888,
              "#fdca26"
             ],
             [
              1,
              "#f0f921"
             ]
            ],
            "type": "contour"
           }
          ],
          "contourcarpet": [
           {
            "colorbar": {
             "outlinewidth": 0,
             "ticks": ""
            },
            "type": "contourcarpet"
           }
          ],
          "heatmap": [
           {
            "colorbar": {
             "outlinewidth": 0,
             "ticks": ""
            },
            "colorscale": [
             [
              0,
              "#0d0887"
             ],
             [
              0.1111111111111111,
              "#46039f"
             ],
             [
              0.2222222222222222,
              "#7201a8"
             ],
             [
              0.3333333333333333,
              "#9c179e"
             ],
             [
              0.4444444444444444,
              "#bd3786"
             ],
             [
              0.5555555555555556,
              "#d8576b"
             ],
             [
              0.6666666666666666,
              "#ed7953"
             ],
             [
              0.7777777777777778,
              "#fb9f3a"
             ],
             [
              0.8888888888888888,
              "#fdca26"
             ],
             [
              1,
              "#f0f921"
             ]
            ],
            "type": "heatmap"
           }
          ],
          "histogram": [
           {
            "marker": {
             "pattern": {
              "fillmode": "overlay",
              "size": 10,
              "solidity": 0.2
             }
            },
            "type": "histogram"
           }
          ],
          "histogram2d": [
           {
            "colorbar": {
             "outlinewidth": 0,
             "ticks": ""
            },
            "colorscale": [
             [
              0,
              "#0d0887"
             ],
             [
              0.1111111111111111,
              "#46039f"
             ],
             [
              0.2222222222222222,
              "#7201a8"
             ],
             [
              0.3333333333333333,
              "#9c179e"
             ],
             [
              0.4444444444444444,
              "#bd3786"
             ],
             [
              0.5555555555555556,
              "#d8576b"
             ],
             [
              0.6666666666666666,
              "#ed7953"
             ],
             [
              0.7777777777777778,
              "#fb9f3a"
             ],
             [
              0.8888888888888888,
              "#fdca26"
             ],
             [
              1,
              "#f0f921"
             ]
            ],
            "type": "histogram2d"
           }
          ],
          "histogram2dcontour": [
           {
            "colorbar": {
             "outlinewidth": 0,
             "ticks": ""
            },
            "colorscale": [
             [
              0,
              "#0d0887"
             ],
             [
              0.1111111111111111,
              "#46039f"
             ],
             [
              0.2222222222222222,
              "#7201a8"
             ],
             [
              0.3333333333333333,
              "#9c179e"
             ],
             [
              0.4444444444444444,
              "#bd3786"
             ],
             [
              0.5555555555555556,
              "#d8576b"
             ],
             [
              0.6666666666666666,
              "#ed7953"
             ],
             [
              0.7777777777777778,
              "#fb9f3a"
             ],
             [
              0.8888888888888888,
              "#fdca26"
             ],
             [
              1,
              "#f0f921"
             ]
            ],
            "type": "histogram2dcontour"
           }
          ],
          "mesh3d": [
           {
            "colorbar": {
             "outlinewidth": 0,
             "ticks": ""
            },
            "type": "mesh3d"
           }
          ],
          "parcoords": [
           {
            "line": {
             "colorbar": {
              "outlinewidth": 0,
              "ticks": ""
             }
            },
            "type": "parcoords"
           }
          ],
          "pie": [
           {
            "automargin": true,
            "type": "pie"
           }
          ],
          "scatter": [
           {
            "fillpattern": {
             "fillmode": "overlay",
             "size": 10,
             "solidity": 0.2
            },
            "type": "scatter"
           }
          ],
          "scatter3d": [
           {
            "line": {
             "colorbar": {
              "outlinewidth": 0,
              "ticks": ""
             }
            },
            "marker": {
             "colorbar": {
              "outlinewidth": 0,
              "ticks": ""
             }
            },
            "type": "scatter3d"
           }
          ],
          "scattercarpet": [
           {
            "marker": {
             "colorbar": {
              "outlinewidth": 0,
              "ticks": ""
             }
            },
            "type": "scattercarpet"
           }
          ],
          "scattergeo": [
           {
            "marker": {
             "colorbar": {
              "outlinewidth": 0,
              "ticks": ""
             }
            },
            "type": "scattergeo"
           }
          ],
          "scattergl": [
           {
            "marker": {
             "colorbar": {
              "outlinewidth": 0,
              "ticks": ""
             }
            },
            "type": "scattergl"
           }
          ],
          "scattermap": [
           {
            "marker": {
             "colorbar": {
              "outlinewidth": 0,
              "ticks": ""
             }
            },
            "type": "scattermap"
           }
          ],
          "scattermapbox": [
           {
            "marker": {
             "colorbar": {
              "outlinewidth": 0,
              "ticks": ""
             }
            },
            "type": "scattermapbox"
           }
          ],
          "scatterpolar": [
           {
            "marker": {
             "colorbar": {
              "outlinewidth": 0,
              "ticks": ""
             }
            },
            "type": "scatterpolar"
           }
          ],
          "scatterpolargl": [
           {
            "marker": {
             "colorbar": {
              "outlinewidth": 0,
              "ticks": ""
             }
            },
            "type": "scatterpolargl"
           }
          ],
          "scatterternary": [
           {
            "marker": {
             "colorbar": {
              "outlinewidth": 0,
              "ticks": ""
             }
            },
            "type": "scatterternary"
           }
          ],
          "surface": [
           {
            "colorbar": {
             "outlinewidth": 0,
             "ticks": ""
            },
            "colorscale": [
             [
              0,
              "#0d0887"
             ],
             [
              0.1111111111111111,
              "#46039f"
             ],
             [
              0.2222222222222222,
              "#7201a8"
             ],
             [
              0.3333333333333333,
              "#9c179e"
             ],
             [
              0.4444444444444444,
              "#bd3786"
             ],
             [
              0.5555555555555556,
              "#d8576b"
             ],
             [
              0.6666666666666666,
              "#ed7953"
             ],
             [
              0.7777777777777778,
              "#fb9f3a"
             ],
             [
              0.8888888888888888,
              "#fdca26"
             ],
             [
              1,
              "#f0f921"
             ]
            ],
            "type": "surface"
           }
          ],
          "table": [
           {
            "cells": {
             "fill": {
              "color": "#EBF0F8"
             },
             "line": {
              "color": "white"
             }
            },
            "header": {
             "fill": {
              "color": "#C8D4E3"
             },
             "line": {
              "color": "white"
             }
            },
            "type": "table"
           }
          ]
         },
         "layout": {
          "annotationdefaults": {
           "arrowcolor": "#2a3f5f",
           "arrowhead": 0,
           "arrowwidth": 1
          },
          "autotypenumbers": "strict",
          "coloraxis": {
           "colorbar": {
            "outlinewidth": 0,
            "ticks": ""
           }
          },
          "colorscale": {
           "diverging": [
            [
             0,
             "#8e0152"
            ],
            [
             0.1,
             "#c51b7d"
            ],
            [
             0.2,
             "#de77ae"
            ],
            [
             0.3,
             "#f1b6da"
            ],
            [
             0.4,
             "#fde0ef"
            ],
            [
             0.5,
             "#f7f7f7"
            ],
            [
             0.6,
             "#e6f5d0"
            ],
            [
             0.7,
             "#b8e186"
            ],
            [
             0.8,
             "#7fbc41"
            ],
            [
             0.9,
             "#4d9221"
            ],
            [
             1,
             "#276419"
            ]
           ],
           "sequential": [
            [
             0,
             "#0d0887"
            ],
            [
             0.1111111111111111,
             "#46039f"
            ],
            [
             0.2222222222222222,
             "#7201a8"
            ],
            [
             0.3333333333333333,
             "#9c179e"
            ],
            [
             0.4444444444444444,
             "#bd3786"
            ],
            [
             0.5555555555555556,
             "#d8576b"
            ],
            [
             0.6666666666666666,
             "#ed7953"
            ],
            [
             0.7777777777777778,
             "#fb9f3a"
            ],
            [
             0.8888888888888888,
             "#fdca26"
            ],
            [
             1,
             "#f0f921"
            ]
           ],
           "sequentialminus": [
            [
             0,
             "#0d0887"
            ],
            [
             0.1111111111111111,
             "#46039f"
            ],
            [
             0.2222222222222222,
             "#7201a8"
            ],
            [
             0.3333333333333333,
             "#9c179e"
            ],
            [
             0.4444444444444444,
             "#bd3786"
            ],
            [
             0.5555555555555556,
             "#d8576b"
            ],
            [
             0.6666666666666666,
             "#ed7953"
            ],
            [
             0.7777777777777778,
             "#fb9f3a"
            ],
            [
             0.8888888888888888,
             "#fdca26"
            ],
            [
             1,
             "#f0f921"
            ]
           ]
          },
          "colorway": [
           "#636efa",
           "#EF553B",
           "#00cc96",
           "#ab63fa",
           "#FFA15A",
           "#19d3f3",
           "#FF6692",
           "#B6E880",
           "#FF97FF",
           "#FECB52"
          ],
          "font": {
           "color": "#2a3f5f"
          },
          "geo": {
           "bgcolor": "white",
           "lakecolor": "white",
           "landcolor": "#E5ECF6",
           "showlakes": true,
           "showland": true,
           "subunitcolor": "white"
          },
          "hoverlabel": {
           "align": "left"
          },
          "hovermode": "closest",
          "mapbox": {
           "style": "light"
          },
          "paper_bgcolor": "white",
          "plot_bgcolor": "#E5ECF6",
          "polar": {
           "angularaxis": {
            "gridcolor": "white",
            "linecolor": "white",
            "ticks": ""
           },
           "bgcolor": "#E5ECF6",
           "radialaxis": {
            "gridcolor": "white",
            "linecolor": "white",
            "ticks": ""
           }
          },
          "scene": {
           "xaxis": {
            "backgroundcolor": "#E5ECF6",
            "gridcolor": "white",
            "gridwidth": 2,
            "linecolor": "white",
            "showbackground": true,
            "ticks": "",
            "zerolinecolor": "white"
           },
           "yaxis": {
            "backgroundcolor": "#E5ECF6",
            "gridcolor": "white",
            "gridwidth": 2,
            "linecolor": "white",
            "showbackground": true,
            "ticks": "",
            "zerolinecolor": "white"
           },
           "zaxis": {
            "backgroundcolor": "#E5ECF6",
            "gridcolor": "white",
            "gridwidth": 2,
            "linecolor": "white",
            "showbackground": true,
            "ticks": "",
            "zerolinecolor": "white"
           }
          },
          "shapedefaults": {
           "line": {
            "color": "#2a3f5f"
           }
          },
          "ternary": {
           "aaxis": {
            "gridcolor": "white",
            "linecolor": "white",
            "ticks": ""
           },
           "baxis": {
            "gridcolor": "white",
            "linecolor": "white",
            "ticks": ""
           },
           "bgcolor": "#E5ECF6",
           "caxis": {
            "gridcolor": "white",
            "linecolor": "white",
            "ticks": ""
           }
          },
          "title": {
           "x": 0.05
          },
          "xaxis": {
           "automargin": true,
           "gridcolor": "white",
           "linecolor": "white",
           "ticks": "",
           "title": {
            "standoff": 15
           },
           "zerolinecolor": "white",
           "zerolinewidth": 2
          },
          "yaxis": {
           "automargin": true,
           "gridcolor": "white",
           "linecolor": "white",
           "ticks": "",
           "title": {
            "standoff": 15
           },
           "zerolinecolor": "white",
           "zerolinewidth": 2
          }
         }
        },
        "title": {
         "font": {
          "color": "black",
          "family": "Arial",
          "size": 20
         },
         "text": "Federal Reserve Inflation Assessment (2019-2024)",
         "x": 0.5,
         "xanchor": "center",
         "y": 0.95,
         "yanchor": "top"
        },
        "width": 1000,
        "xaxis": {
         "dtick": "M3",
         "gridcolor": "lightgray",
         "gridwidth": 1,
         "showgrid": true,
         "tickfont": {
          "color": "black",
          "family": "Arial",
          "size": 12
         },
         "tickformat": "%b\n%Y",
         "title": {
          "font": {
           "color": "black",
           "family": "Arial",
           "size": 16
          },
          "text": "FOMC Meeting Date"
         },
         "zeroline": false
        },
        "yaxis": {
         "gridcolor": "lightgray",
         "gridwidth": 1,
         "showgrid": true,
         "tickfont": {
          "color": "#1F77B4",
          "family": "Arial",
          "size": 12
         },
         "title": {
          "font": {
           "color": "#1F77B4",
           "family": "Arial",
           "size": 16
          },
          "text": "Inflation Level Score"
         },
         "zeroline": true,
         "zerolinecolor": "black",
         "zerolinewidth": 1
        }
       }
      }
     },
     "metadata": {},
     "output_type": "display_data"
    },
    {
     "ename": "AttributeError",
     "evalue": "'NoneType' object has no attribute 'encode'",
     "output_type": "error",
     "traceback": [
      "\u001b[0;31m---------------------------------------------------------------------------\u001b[0m",
      "\u001b[0;31mAttributeError\u001b[0m                            Traceback (most recent call last)",
      "Cell \u001b[0;32mIn[7], line 206\u001b[0m\n\u001b[1;32m    203\u001b[0m fig\u001b[38;5;241m.\u001b[39mshow()\n\u001b[1;32m    205\u001b[0m \u001b[38;5;66;03m# Save as a static image for presentations\u001b[39;00m\n\u001b[0;32m--> 206\u001b[0m \u001b[43mfig\u001b[49m\u001b[38;5;241;43m.\u001b[39;49m\u001b[43mwrite_image\u001b[49m\u001b[43m(\u001b[49m\u001b[38;5;124;43m\"\u001b[39;49m\u001b[38;5;124;43mfed_inflation_level_assessment.png\u001b[39;49m\u001b[38;5;124;43m\"\u001b[39;49m\u001b[43m,\u001b[49m\u001b[43m \u001b[49m\u001b[43mscale\u001b[49m\u001b[38;5;241;43m=\u001b[39;49m\u001b[38;5;241;43m2\u001b[39;49m\u001b[43m)\u001b[49m  \u001b[38;5;66;03m# Higher scale for better resolution\u001b[39;00m\n\u001b[1;32m    208\u001b[0m \u001b[38;5;66;03m# Save as HTML\u001b[39;00m\n\u001b[1;32m    209\u001b[0m fig\u001b[38;5;241m.\u001b[39mwrite_html(\u001b[38;5;124m\"\u001b[39m\u001b[38;5;124mfed_inflation_level_assessment.html\u001b[39m\u001b[38;5;124m\"\u001b[39m)\n",
      "File \u001b[0;32m~/opt/anaconda3/envs/ucl/lib/python3.10/site-packages/plotly/basedatatypes.py:3827\u001b[0m, in \u001b[0;36mBaseFigure.write_image\u001b[0;34m(self, *args, **kwargs)\u001b[0m\n\u001b[1;32m   3767\u001b[0m \u001b[38;5;250m\u001b[39m\u001b[38;5;124;03m\"\"\"\u001b[39;00m\n\u001b[1;32m   3768\u001b[0m \u001b[38;5;124;03mConvert a figure to a static image and write it to a file or writeable\u001b[39;00m\n\u001b[1;32m   3769\u001b[0m \u001b[38;5;124;03mobject\u001b[39;00m\n\u001b[0;32m   (...)\u001b[0m\n\u001b[1;32m   3823\u001b[0m \u001b[38;5;124;03mNone\u001b[39;00m\n\u001b[1;32m   3824\u001b[0m \u001b[38;5;124;03m\"\"\"\u001b[39;00m\n\u001b[1;32m   3825\u001b[0m \u001b[38;5;28;01mimport\u001b[39;00m \u001b[38;5;21;01mplotly\u001b[39;00m\u001b[38;5;21;01m.\u001b[39;00m\u001b[38;5;21;01mio\u001b[39;00m \u001b[38;5;28;01mas\u001b[39;00m \u001b[38;5;21;01mpio\u001b[39;00m\n\u001b[0;32m-> 3827\u001b[0m \u001b[38;5;28;01mreturn\u001b[39;00m \u001b[43mpio\u001b[49m\u001b[38;5;241;43m.\u001b[39;49m\u001b[43mwrite_image\u001b[49m\u001b[43m(\u001b[49m\u001b[38;5;28;43mself\u001b[39;49m\u001b[43m,\u001b[49m\u001b[43m \u001b[49m\u001b[38;5;241;43m*\u001b[39;49m\u001b[43margs\u001b[49m\u001b[43m,\u001b[49m\u001b[43m \u001b[49m\u001b[38;5;241;43m*\u001b[39;49m\u001b[38;5;241;43m*\u001b[39;49m\u001b[43mkwargs\u001b[49m\u001b[43m)\u001b[49m\n",
      "File \u001b[0;32m~/opt/anaconda3/envs/ucl/lib/python3.10/site-packages/plotly/io/_kaleido.py:266\u001b[0m, in \u001b[0;36mwrite_image\u001b[0;34m(fig, file, format, scale, width, height, validate, engine)\u001b[0m\n\u001b[1;32m    250\u001b[0m             \u001b[38;5;28;01mraise\u001b[39;00m \u001b[38;5;167;01mValueError\u001b[39;00m(\n\u001b[1;32m    251\u001b[0m \u001b[38;5;250m                \u001b[39m\u001b[38;5;124;03m\"\"\"\u001b[39;00m\n\u001b[1;32m    252\u001b[0m \u001b[38;5;124;03mCannot infer image type from output path '{file}'.\u001b[39;00m\n\u001b[0;32m   (...)\u001b[0m\n\u001b[1;32m    260\u001b[0m                 )\n\u001b[1;32m    261\u001b[0m             )\n\u001b[1;32m    263\u001b[0m     \u001b[38;5;66;03m# Request image\u001b[39;00m\n\u001b[1;32m    264\u001b[0m     \u001b[38;5;66;03m# -------------\u001b[39;00m\n\u001b[1;32m    265\u001b[0m     \u001b[38;5;66;03m# Do this first so we don't create a file if image conversion fails\u001b[39;00m\n\u001b[0;32m--> 266\u001b[0m     img_data \u001b[38;5;241m=\u001b[39m \u001b[43mto_image\u001b[49m\u001b[43m(\u001b[49m\n\u001b[1;32m    267\u001b[0m \u001b[43m        \u001b[49m\u001b[43mfig\u001b[49m\u001b[43m,\u001b[49m\n\u001b[1;32m    268\u001b[0m \u001b[43m        \u001b[49m\u001b[38;5;28;43mformat\u001b[39;49m\u001b[38;5;241;43m=\u001b[39;49m\u001b[38;5;28;43mformat\u001b[39;49m\u001b[43m,\u001b[49m\n\u001b[1;32m    269\u001b[0m \u001b[43m        \u001b[49m\u001b[43mscale\u001b[49m\u001b[38;5;241;43m=\u001b[39;49m\u001b[43mscale\u001b[49m\u001b[43m,\u001b[49m\n\u001b[1;32m    270\u001b[0m \u001b[43m        \u001b[49m\u001b[43mwidth\u001b[49m\u001b[38;5;241;43m=\u001b[39;49m\u001b[43mwidth\u001b[49m\u001b[43m,\u001b[49m\n\u001b[1;32m    271\u001b[0m \u001b[43m        \u001b[49m\u001b[43mheight\u001b[49m\u001b[38;5;241;43m=\u001b[39;49m\u001b[43mheight\u001b[49m\u001b[43m,\u001b[49m\n\u001b[1;32m    272\u001b[0m \u001b[43m        \u001b[49m\u001b[43mvalidate\u001b[49m\u001b[38;5;241;43m=\u001b[39;49m\u001b[43mvalidate\u001b[49m\u001b[43m,\u001b[49m\n\u001b[1;32m    273\u001b[0m \u001b[43m        \u001b[49m\u001b[43mengine\u001b[49m\u001b[38;5;241;43m=\u001b[39;49m\u001b[43mengine\u001b[49m\u001b[43m,\u001b[49m\n\u001b[1;32m    274\u001b[0m \u001b[43m    \u001b[49m\u001b[43m)\u001b[49m\n\u001b[1;32m    276\u001b[0m     \u001b[38;5;66;03m# Open file\u001b[39;00m\n\u001b[1;32m    277\u001b[0m     \u001b[38;5;66;03m# ---------\u001b[39;00m\n\u001b[1;32m    278\u001b[0m     \u001b[38;5;28;01mif\u001b[39;00m path \u001b[38;5;129;01mis\u001b[39;00m \u001b[38;5;28;01mNone\u001b[39;00m:\n\u001b[1;32m    279\u001b[0m         \u001b[38;5;66;03m# We previously failed to make sense of `file` as a pathlib object.\u001b[39;00m\n\u001b[1;32m    280\u001b[0m         \u001b[38;5;66;03m# Attempt to write to `file` as an open file descriptor.\u001b[39;00m\n",
      "File \u001b[0;32m~/opt/anaconda3/envs/ucl/lib/python3.10/site-packages/plotly/io/_kaleido.py:143\u001b[0m, in \u001b[0;36mto_image\u001b[0;34m(fig, format, width, height, scale, validate, engine)\u001b[0m\n\u001b[1;32m    140\u001b[0m \u001b[38;5;66;03m# Validate figure\u001b[39;00m\n\u001b[1;32m    141\u001b[0m \u001b[38;5;66;03m# ---------------\u001b[39;00m\n\u001b[1;32m    142\u001b[0m fig_dict \u001b[38;5;241m=\u001b[39m validate_coerce_fig_to_dict(fig, validate)\n\u001b[0;32m--> 143\u001b[0m img_bytes \u001b[38;5;241m=\u001b[39m \u001b[43mscope\u001b[49m\u001b[38;5;241;43m.\u001b[39;49m\u001b[43mtransform\u001b[49m\u001b[43m(\u001b[49m\n\u001b[1;32m    144\u001b[0m \u001b[43m    \u001b[49m\u001b[43mfig_dict\u001b[49m\u001b[43m,\u001b[49m\u001b[43m \u001b[49m\u001b[38;5;28;43mformat\u001b[39;49m\u001b[38;5;241;43m=\u001b[39;49m\u001b[38;5;28;43mformat\u001b[39;49m\u001b[43m,\u001b[49m\u001b[43m \u001b[49m\u001b[43mwidth\u001b[49m\u001b[38;5;241;43m=\u001b[39;49m\u001b[43mwidth\u001b[49m\u001b[43m,\u001b[49m\u001b[43m \u001b[49m\u001b[43mheight\u001b[49m\u001b[38;5;241;43m=\u001b[39;49m\u001b[43mheight\u001b[49m\u001b[43m,\u001b[49m\u001b[43m \u001b[49m\u001b[43mscale\u001b[49m\u001b[38;5;241;43m=\u001b[39;49m\u001b[43mscale\u001b[49m\n\u001b[1;32m    145\u001b[0m \u001b[43m\u001b[49m\u001b[43m)\u001b[49m\n\u001b[1;32m    147\u001b[0m \u001b[38;5;28;01mreturn\u001b[39;00m img_bytes\n",
      "File \u001b[0;32m~/opt/anaconda3/envs/ucl/lib/python3.10/site-packages/kaleido/scopes/plotly.py:167\u001b[0m, in \u001b[0;36mPlotlyScope.transform\u001b[0;34m(self, figure, format, width, height, scale)\u001b[0m\n\u001b[1;32m    160\u001b[0m     message \u001b[38;5;241m=\u001b[39m response\u001b[38;5;241m.\u001b[39mget(\u001b[38;5;124m\"\u001b[39m\u001b[38;5;124mmessage\u001b[39m\u001b[38;5;124m\"\u001b[39m, \u001b[38;5;28;01mNone\u001b[39;00m)\n\u001b[1;32m    161\u001b[0m     \u001b[38;5;28;01mraise\u001b[39;00m \u001b[38;5;167;01mValueError\u001b[39;00m(\n\u001b[1;32m    162\u001b[0m         \u001b[38;5;124m\"\u001b[39m\u001b[38;5;124mTransform failed with error code \u001b[39m\u001b[38;5;132;01m{code}\u001b[39;00m\u001b[38;5;124m: \u001b[39m\u001b[38;5;132;01m{message}\u001b[39;00m\u001b[38;5;124m\"\u001b[39m\u001b[38;5;241m.\u001b[39mformat(\n\u001b[1;32m    163\u001b[0m             code\u001b[38;5;241m=\u001b[39mcode, message\u001b[38;5;241m=\u001b[39mmessage\n\u001b[1;32m    164\u001b[0m         )\n\u001b[1;32m    165\u001b[0m     )\n\u001b[0;32m--> 167\u001b[0m img \u001b[38;5;241m=\u001b[39m \u001b[43mresponse\u001b[49m\u001b[38;5;241;43m.\u001b[39;49m\u001b[43mget\u001b[49m\u001b[43m(\u001b[49m\u001b[38;5;124;43m\"\u001b[39;49m\u001b[38;5;124;43mresult\u001b[39;49m\u001b[38;5;124;43m\"\u001b[39;49m\u001b[43m)\u001b[49m\u001b[38;5;241;43m.\u001b[39;49m\u001b[43mencode\u001b[49m(\u001b[38;5;124m\"\u001b[39m\u001b[38;5;124mutf-8\u001b[39m\u001b[38;5;124m\"\u001b[39m)\n\u001b[1;32m    169\u001b[0m \u001b[38;5;66;03m# Base64 decode binary types\u001b[39;00m\n\u001b[1;32m    170\u001b[0m \u001b[38;5;28;01mif\u001b[39;00m \u001b[38;5;28mformat\u001b[39m \u001b[38;5;129;01mnot\u001b[39;00m \u001b[38;5;129;01min\u001b[39;00m \u001b[38;5;28mself\u001b[39m\u001b[38;5;241m.\u001b[39m_text_formats:\n",
      "\u001b[0;31mAttributeError\u001b[0m: 'NoneType' object has no attribute 'encode'"
     ]
    }
   ],
   "source": []
  },
  {
   "cell_type": "code",
   "execution_count": 8,
   "metadata": {},
   "outputs": [],
   "source": [
    "### Some magic regarding fixing the inflation scores\n",
    "\n",
    "## Invert Employment Level Scores\n",
    "df['employment_level_score'] = -1 * df['employment_level_score']\n",
    "\n",
    "## Invert Employment Dynamics Scores\n",
    "df['employment_dynamics_score'] = -1 * df['employment_dynamics_score']\n",
    "\n",
    "df['inflation_level_score'] = -1 * df['inflation_level_score']\n",
    "df['inflation_dynamics_score'] = -1 * df['inflation_dynamics_score']\n",
    "\n",
    "\n",
    "## Invert Balance Sheet Scores completely\n",
    "df['balance_sheet_trajectory_score'] = -1 * df['balance_sheet_trajectory_score']"
   ]
  },
  {
   "cell_type": "code",
   "execution_count": 9,
   "metadata": {},
   "outputs": [
    {
     "data": {
      "application/vnd.plotly.v1+json": {
       "config": {
        "plotlyServerURL": "https://plot.ly"
       },
       "data": [
        {
         "line": {
          "color": "#1F77B4",
          "width": 2.5
         },
         "marker": {
          "color": "#1F77B4",
          "line": {
           "color": "white",
           "width": 1
          },
          "size": 8
         },
         "mode": "lines+markers",
         "name": "Inflation Level",
         "type": "scatter",
         "x": [
          "2019-01-30T00:00:00.000000000",
          "2019-03-20T00:00:00.000000000",
          "2019-05-01T00:00:00.000000000",
          "2019-06-19T00:00:00.000000000",
          "2019-07-31T00:00:00.000000000",
          "2019-09-18T00:00:00.000000000",
          "2019-10-30T00:00:00.000000000",
          "2019-12-11T00:00:00.000000000",
          "2020-01-29T00:00:00.000000000",
          "2020-03-03T00:00:00.000000000",
          "2020-03-15T00:00:00.000000000",
          "2020-04-29T00:00:00.000000000",
          "2020-06-10T00:00:00.000000000",
          "2020-07-29T00:00:00.000000000",
          "2020-09-16T00:00:00.000000000",
          "2020-11-05T00:00:00.000000000",
          "2020-12-16T00:00:00.000000000",
          "2021-01-27T00:00:00.000000000",
          "2021-03-17T00:00:00.000000000",
          "2021-04-28T00:00:00.000000000",
          "2021-06-16T00:00:00.000000000",
          "2021-07-28T00:00:00.000000000",
          "2021-09-22T00:00:00.000000000",
          "2021-11-03T00:00:00.000000000",
          "2021-12-15T00:00:00.000000000",
          "2022-01-26T00:00:00.000000000",
          "2022-03-16T00:00:00.000000000",
          "2022-05-04T00:00:00.000000000",
          "2022-06-15T00:00:00.000000000",
          "2022-07-27T00:00:00.000000000",
          "2022-09-21T00:00:00.000000000",
          "2022-11-02T00:00:00.000000000",
          "2022-12-14T00:00:00.000000000",
          "2023-02-01T00:00:00.000000000",
          "2023-03-22T00:00:00.000000000",
          "2023-05-03T00:00:00.000000000",
          "2023-06-14T00:00:00.000000000",
          "2023-07-26T00:00:00.000000000",
          "2023-09-20T00:00:00.000000000",
          "2023-11-01T00:00:00.000000000",
          "2023-12-13T00:00:00.000000000",
          "2024-01-31T00:00:00.000000000",
          "2024-03-20T00:00:00.000000000",
          "2024-05-01T00:00:00.000000000",
          "2024-06-12T00:00:00.000000000",
          "2024-07-31T00:00:00.000000000",
          "2024-09-18T00:00:00.000000000",
          "2024-11-07T00:00:00.000000000"
         ],
         "y": {
          "bdata": "x3sV+hZhpr8bn0h96YSZvypV2jcda7S/rTZuiPBNu79vVSQ9jj6xvztZmvDCr6C/N2RxiAeAuL+kjLy0IcOSPyCqgsXI5KO/ySfq9ogasT930kADp1HEv+RemjlFuLu/GGQoTk/cxr/Ks35UIrTAv0J2kV1/EJ0/MNgmWBgisL+eGP5zqB29v59fle2+r6G/aPdtvwlOgj85PAwQYXJpvxuXhTiFsqk/g/w1jGvOlT+0B6q13huYP1SgjyrOZ6M/qCxp0MKNsD/ZSfda+2W5P0hFNhIeVrw/WFh9vc9ywD84MAptrxevP8D0NDLbvMI/hsCZ0pzvsz8PxUoJBPCpPxwSOi+6p7I/OI6+b+yHcz/JOWNA5qu0Pz6ODWUk160/WxbFGZFskz/cQJczwX6xP3H2GSGY5rc/txnEVBjatT92Eyueo3GjP7P0wtEa5LA/AyhiUnZrqz/lqUVyFACYP8S12goKEKM/+5GBpx5Kmj9E+WNtt3G2P6G0lb4u0LY/",
          "dtype": "f8"
         }
        }
       ],
       "layout": {
        "annotations": [
         {
          "align": "center",
          "bgcolor": "rgba(255, 255, 255, 0.9)",
          "bordercolor": "red",
          "borderpad": 3,
          "borderwidth": 2,
          "font": {
           "color": "red",
           "family": "Arial",
           "size": 12,
           "weight": "bold"
          },
          "showarrow": false,
          "text": "COVID Impact",
          "x": "2020-03-15T00:00:00",
          "y": 0.14125816670562538
         },
         {
          "align": "center",
          "bgcolor": "rgba(255, 255, 255, 0.9)",
          "bordercolor": "orange",
          "borderpad": 3,
          "borderwidth": 2,
          "font": {
           "color": "orange",
           "family": "Arial",
           "size": 12,
           "weight": "bold"
          },
          "showarrow": false,
          "text": "Transitory Inflation",
          "x": "2020-09-16T00:00:00",
          "y": -0.2716167544498917
         },
         {
          "align": "center",
          "bgcolor": "rgba(255, 255, 255, 0.9)",
          "bordercolor": "purple",
          "borderpad": 3,
          "borderwidth": 2,
          "font": {
           "color": "purple",
           "family": "Arial",
           "size": 12,
           "weight": "bold"
          },
          "showarrow": false,
          "text": "Inflation Peak",
          "x": "2022-07-27T00:00:00",
          "y": 0.2463884349013025
         },
         {
          "align": "center",
          "bgcolor": "rgba(255, 255, 255, 0.9)",
          "bordercolor": "green",
          "borderpad": 3,
          "borderwidth": 2,
          "font": {
           "color": "green",
           "family": "Arial",
           "size": 12,
           "weight": "bold"
          },
          "showarrow": false,
          "text": "Inflation Stabilization",
          "x": "2024-01-31T00:00:00",
          "y": -0.03401939753407
         },
         {
          "align": "center",
          "bgcolor": "rgba(255, 255, 255, 0.8)",
          "bordercolor": "black",
          "borderpad": 3,
          "borderwidth": 1,
          "font": {
           "color": "black",
           "size": 14
          },
          "showarrow": false,
          "text": "COVID Recession",
          "x": "2020-04-15T00:00:00",
          "y": 0.3463884349013025
         },
         {
          "align": "left",
          "bgcolor": "white",
          "bordercolor": "#1F77B4",
          "borderpad": 3,
          "borderwidth": 1,
          "font": {
           "color": "#1F77B4",
           "size": 14
          },
          "showarrow": false,
          "text": "↑ Rising Inflation",
          "x": "2019-03-01T00:00:00",
          "y": 0.117110747921042
         },
         {
          "align": "left",
          "bgcolor": "white",
          "bordercolor": "#1F77B4",
          "borderpad": 3,
          "borderwidth": 1,
          "font": {
           "color": "#1F77B4",
           "size": 14
          },
          "showarrow": false,
          "text": "↓ Falling Inflation",
          "x": "2019-03-01T00:00:00",
          "y": -0.14287865689314058
         }
        ],
        "height": 600,
        "margin": {
         "b": 80,
         "l": 80,
         "r": 60,
         "t": 100
        },
        "paper_bgcolor": "white",
        "plot_bgcolor": "white",
        "shapes": [
         {
          "line": {
           "color": "black",
           "dash": "dash",
           "width": 1
          },
          "type": "line",
          "x0": "2019-01-30T00:00:00",
          "x1": "2024-11-07T00:00:00",
          "y0": 0,
          "y1": 0
         },
         {
          "line": {
           "color": "red",
           "dash": "solid",
           "width": 1.5
          },
          "type": "line",
          "x0": "2020-03-15T00:00:00",
          "x1": "2020-03-15T00:00:00",
          "y0": -0.2785983211164257,
          "y1": 0.2463884349013025
         },
         {
          "line": {
           "color": "orange",
           "dash": "solid",
           "width": 1.5
          },
          "type": "line",
          "x0": "2020-09-16T00:00:00",
          "x1": "2020-09-16T00:00:00",
          "y0": -0.2785983211164257,
          "y1": 0.2463884349013025
         },
         {
          "line": {
           "color": "purple",
           "dash": "solid",
           "width": 1.5
          },
          "type": "line",
          "x0": "2022-07-27T00:00:00",
          "x1": "2022-07-27T00:00:00",
          "y0": -0.2785983211164257,
          "y1": 0.2463884349013025
         },
         {
          "line": {
           "color": "green",
           "dash": "solid",
           "width": 1.5
          },
          "type": "line",
          "x0": "2024-01-31T00:00:00",
          "x1": "2024-01-31T00:00:00",
          "y0": -0.2785983211164257,
          "y1": 0.2463884349013025
         },
         {
          "fillcolor": "rgba(128, 128, 128, 0.2)",
          "layer": "below",
          "line": {
           "width": 0
          },
          "type": "rect",
          "x0": "2020-02-15",
          "x1": "2020-07-15",
          "y0": -0.3785983211164257,
          "y1": 0.3463884349013025
         }
        ],
        "showlegend": false,
        "template": {
         "data": {
          "bar": [
           {
            "error_x": {
             "color": "#2a3f5f"
            },
            "error_y": {
             "color": "#2a3f5f"
            },
            "marker": {
             "line": {
              "color": "#E5ECF6",
              "width": 0.5
             },
             "pattern": {
              "fillmode": "overlay",
              "size": 10,
              "solidity": 0.2
             }
            },
            "type": "bar"
           }
          ],
          "barpolar": [
           {
            "marker": {
             "line": {
              "color": "#E5ECF6",
              "width": 0.5
             },
             "pattern": {
              "fillmode": "overlay",
              "size": 10,
              "solidity": 0.2
             }
            },
            "type": "barpolar"
           }
          ],
          "carpet": [
           {
            "aaxis": {
             "endlinecolor": "#2a3f5f",
             "gridcolor": "white",
             "linecolor": "white",
             "minorgridcolor": "white",
             "startlinecolor": "#2a3f5f"
            },
            "baxis": {
             "endlinecolor": "#2a3f5f",
             "gridcolor": "white",
             "linecolor": "white",
             "minorgridcolor": "white",
             "startlinecolor": "#2a3f5f"
            },
            "type": "carpet"
           }
          ],
          "choropleth": [
           {
            "colorbar": {
             "outlinewidth": 0,
             "ticks": ""
            },
            "type": "choropleth"
           }
          ],
          "contour": [
           {
            "colorbar": {
             "outlinewidth": 0,
             "ticks": ""
            },
            "colorscale": [
             [
              0,
              "#0d0887"
             ],
             [
              0.1111111111111111,
              "#46039f"
             ],
             [
              0.2222222222222222,
              "#7201a8"
             ],
             [
              0.3333333333333333,
              "#9c179e"
             ],
             [
              0.4444444444444444,
              "#bd3786"
             ],
             [
              0.5555555555555556,
              "#d8576b"
             ],
             [
              0.6666666666666666,
              "#ed7953"
             ],
             [
              0.7777777777777778,
              "#fb9f3a"
             ],
             [
              0.8888888888888888,
              "#fdca26"
             ],
             [
              1,
              "#f0f921"
             ]
            ],
            "type": "contour"
           }
          ],
          "contourcarpet": [
           {
            "colorbar": {
             "outlinewidth": 0,
             "ticks": ""
            },
            "type": "contourcarpet"
           }
          ],
          "heatmap": [
           {
            "colorbar": {
             "outlinewidth": 0,
             "ticks": ""
            },
            "colorscale": [
             [
              0,
              "#0d0887"
             ],
             [
              0.1111111111111111,
              "#46039f"
             ],
             [
              0.2222222222222222,
              "#7201a8"
             ],
             [
              0.3333333333333333,
              "#9c179e"
             ],
             [
              0.4444444444444444,
              "#bd3786"
             ],
             [
              0.5555555555555556,
              "#d8576b"
             ],
             [
              0.6666666666666666,
              "#ed7953"
             ],
             [
              0.7777777777777778,
              "#fb9f3a"
             ],
             [
              0.8888888888888888,
              "#fdca26"
             ],
             [
              1,
              "#f0f921"
             ]
            ],
            "type": "heatmap"
           }
          ],
          "histogram": [
           {
            "marker": {
             "pattern": {
              "fillmode": "overlay",
              "size": 10,
              "solidity": 0.2
             }
            },
            "type": "histogram"
           }
          ],
          "histogram2d": [
           {
            "colorbar": {
             "outlinewidth": 0,
             "ticks": ""
            },
            "colorscale": [
             [
              0,
              "#0d0887"
             ],
             [
              0.1111111111111111,
              "#46039f"
             ],
             [
              0.2222222222222222,
              "#7201a8"
             ],
             [
              0.3333333333333333,
              "#9c179e"
             ],
             [
              0.4444444444444444,
              "#bd3786"
             ],
             [
              0.5555555555555556,
              "#d8576b"
             ],
             [
              0.6666666666666666,
              "#ed7953"
             ],
             [
              0.7777777777777778,
              "#fb9f3a"
             ],
             [
              0.8888888888888888,
              "#fdca26"
             ],
             [
              1,
              "#f0f921"
             ]
            ],
            "type": "histogram2d"
           }
          ],
          "histogram2dcontour": [
           {
            "colorbar": {
             "outlinewidth": 0,
             "ticks": ""
            },
            "colorscale": [
             [
              0,
              "#0d0887"
             ],
             [
              0.1111111111111111,
              "#46039f"
             ],
             [
              0.2222222222222222,
              "#7201a8"
             ],
             [
              0.3333333333333333,
              "#9c179e"
             ],
             [
              0.4444444444444444,
              "#bd3786"
             ],
             [
              0.5555555555555556,
              "#d8576b"
             ],
             [
              0.6666666666666666,
              "#ed7953"
             ],
             [
              0.7777777777777778,
              "#fb9f3a"
             ],
             [
              0.8888888888888888,
              "#fdca26"
             ],
             [
              1,
              "#f0f921"
             ]
            ],
            "type": "histogram2dcontour"
           }
          ],
          "mesh3d": [
           {
            "colorbar": {
             "outlinewidth": 0,
             "ticks": ""
            },
            "type": "mesh3d"
           }
          ],
          "parcoords": [
           {
            "line": {
             "colorbar": {
              "outlinewidth": 0,
              "ticks": ""
             }
            },
            "type": "parcoords"
           }
          ],
          "pie": [
           {
            "automargin": true,
            "type": "pie"
           }
          ],
          "scatter": [
           {
            "fillpattern": {
             "fillmode": "overlay",
             "size": 10,
             "solidity": 0.2
            },
            "type": "scatter"
           }
          ],
          "scatter3d": [
           {
            "line": {
             "colorbar": {
              "outlinewidth": 0,
              "ticks": ""
             }
            },
            "marker": {
             "colorbar": {
              "outlinewidth": 0,
              "ticks": ""
             }
            },
            "type": "scatter3d"
           }
          ],
          "scattercarpet": [
           {
            "marker": {
             "colorbar": {
              "outlinewidth": 0,
              "ticks": ""
             }
            },
            "type": "scattercarpet"
           }
          ],
          "scattergeo": [
           {
            "marker": {
             "colorbar": {
              "outlinewidth": 0,
              "ticks": ""
             }
            },
            "type": "scattergeo"
           }
          ],
          "scattergl": [
           {
            "marker": {
             "colorbar": {
              "outlinewidth": 0,
              "ticks": ""
             }
            },
            "type": "scattergl"
           }
          ],
          "scattermap": [
           {
            "marker": {
             "colorbar": {
              "outlinewidth": 0,
              "ticks": ""
             }
            },
            "type": "scattermap"
           }
          ],
          "scattermapbox": [
           {
            "marker": {
             "colorbar": {
              "outlinewidth": 0,
              "ticks": ""
             }
            },
            "type": "scattermapbox"
           }
          ],
          "scatterpolar": [
           {
            "marker": {
             "colorbar": {
              "outlinewidth": 0,
              "ticks": ""
             }
            },
            "type": "scatterpolar"
           }
          ],
          "scatterpolargl": [
           {
            "marker": {
             "colorbar": {
              "outlinewidth": 0,
              "ticks": ""
             }
            },
            "type": "scatterpolargl"
           }
          ],
          "scatterternary": [
           {
            "marker": {
             "colorbar": {
              "outlinewidth": 0,
              "ticks": ""
             }
            },
            "type": "scatterternary"
           }
          ],
          "surface": [
           {
            "colorbar": {
             "outlinewidth": 0,
             "ticks": ""
            },
            "colorscale": [
             [
              0,
              "#0d0887"
             ],
             [
              0.1111111111111111,
              "#46039f"
             ],
             [
              0.2222222222222222,
              "#7201a8"
             ],
             [
              0.3333333333333333,
              "#9c179e"
             ],
             [
              0.4444444444444444,
              "#bd3786"
             ],
             [
              0.5555555555555556,
              "#d8576b"
             ],
             [
              0.6666666666666666,
              "#ed7953"
             ],
             [
              0.7777777777777778,
              "#fb9f3a"
             ],
             [
              0.8888888888888888,
              "#fdca26"
             ],
             [
              1,
              "#f0f921"
             ]
            ],
            "type": "surface"
           }
          ],
          "table": [
           {
            "cells": {
             "fill": {
              "color": "#EBF0F8"
             },
             "line": {
              "color": "white"
             }
            },
            "header": {
             "fill": {
              "color": "#C8D4E3"
             },
             "line": {
              "color": "white"
             }
            },
            "type": "table"
           }
          ]
         },
         "layout": {
          "annotationdefaults": {
           "arrowcolor": "#2a3f5f",
           "arrowhead": 0,
           "arrowwidth": 1
          },
          "autotypenumbers": "strict",
          "coloraxis": {
           "colorbar": {
            "outlinewidth": 0,
            "ticks": ""
           }
          },
          "colorscale": {
           "diverging": [
            [
             0,
             "#8e0152"
            ],
            [
             0.1,
             "#c51b7d"
            ],
            [
             0.2,
             "#de77ae"
            ],
            [
             0.3,
             "#f1b6da"
            ],
            [
             0.4,
             "#fde0ef"
            ],
            [
             0.5,
             "#f7f7f7"
            ],
            [
             0.6,
             "#e6f5d0"
            ],
            [
             0.7,
             "#b8e186"
            ],
            [
             0.8,
             "#7fbc41"
            ],
            [
             0.9,
             "#4d9221"
            ],
            [
             1,
             "#276419"
            ]
           ],
           "sequential": [
            [
             0,
             "#0d0887"
            ],
            [
             0.1111111111111111,
             "#46039f"
            ],
            [
             0.2222222222222222,
             "#7201a8"
            ],
            [
             0.3333333333333333,
             "#9c179e"
            ],
            [
             0.4444444444444444,
             "#bd3786"
            ],
            [
             0.5555555555555556,
             "#d8576b"
            ],
            [
             0.6666666666666666,
             "#ed7953"
            ],
            [
             0.7777777777777778,
             "#fb9f3a"
            ],
            [
             0.8888888888888888,
             "#fdca26"
            ],
            [
             1,
             "#f0f921"
            ]
           ],
           "sequentialminus": [
            [
             0,
             "#0d0887"
            ],
            [
             0.1111111111111111,
             "#46039f"
            ],
            [
             0.2222222222222222,
             "#7201a8"
            ],
            [
             0.3333333333333333,
             "#9c179e"
            ],
            [
             0.4444444444444444,
             "#bd3786"
            ],
            [
             0.5555555555555556,
             "#d8576b"
            ],
            [
             0.6666666666666666,
             "#ed7953"
            ],
            [
             0.7777777777777778,
             "#fb9f3a"
            ],
            [
             0.8888888888888888,
             "#fdca26"
            ],
            [
             1,
             "#f0f921"
            ]
           ]
          },
          "colorway": [
           "#636efa",
           "#EF553B",
           "#00cc96",
           "#ab63fa",
           "#FFA15A",
           "#19d3f3",
           "#FF6692",
           "#B6E880",
           "#FF97FF",
           "#FECB52"
          ],
          "font": {
           "color": "#2a3f5f"
          },
          "geo": {
           "bgcolor": "white",
           "lakecolor": "white",
           "landcolor": "#E5ECF6",
           "showlakes": true,
           "showland": true,
           "subunitcolor": "white"
          },
          "hoverlabel": {
           "align": "left"
          },
          "hovermode": "closest",
          "mapbox": {
           "style": "light"
          },
          "paper_bgcolor": "white",
          "plot_bgcolor": "#E5ECF6",
          "polar": {
           "angularaxis": {
            "gridcolor": "white",
            "linecolor": "white",
            "ticks": ""
           },
           "bgcolor": "#E5ECF6",
           "radialaxis": {
            "gridcolor": "white",
            "linecolor": "white",
            "ticks": ""
           }
          },
          "scene": {
           "xaxis": {
            "backgroundcolor": "#E5ECF6",
            "gridcolor": "white",
            "gridwidth": 2,
            "linecolor": "white",
            "showbackground": true,
            "ticks": "",
            "zerolinecolor": "white"
           },
           "yaxis": {
            "backgroundcolor": "#E5ECF6",
            "gridcolor": "white",
            "gridwidth": 2,
            "linecolor": "white",
            "showbackground": true,
            "ticks": "",
            "zerolinecolor": "white"
           },
           "zaxis": {
            "backgroundcolor": "#E5ECF6",
            "gridcolor": "white",
            "gridwidth": 2,
            "linecolor": "white",
            "showbackground": true,
            "ticks": "",
            "zerolinecolor": "white"
           }
          },
          "shapedefaults": {
           "line": {
            "color": "#2a3f5f"
           }
          },
          "ternary": {
           "aaxis": {
            "gridcolor": "white",
            "linecolor": "white",
            "ticks": ""
           },
           "baxis": {
            "gridcolor": "white",
            "linecolor": "white",
            "ticks": ""
           },
           "bgcolor": "#E5ECF6",
           "caxis": {
            "gridcolor": "white",
            "linecolor": "white",
            "ticks": ""
           }
          },
          "title": {
           "x": 0.05
          },
          "xaxis": {
           "automargin": true,
           "gridcolor": "white",
           "linecolor": "white",
           "ticks": "",
           "title": {
            "standoff": 15
           },
           "zerolinecolor": "white",
           "zerolinewidth": 2
          },
          "yaxis": {
           "automargin": true,
           "gridcolor": "white",
           "linecolor": "white",
           "ticks": "",
           "title": {
            "standoff": 15
           },
           "zerolinecolor": "white",
           "zerolinewidth": 2
          }
         }
        },
        "title": {
         "font": {
          "color": "black",
          "family": "Arial",
          "size": 20
         },
         "text": "Federal Reserve Inflation Assessment (2019-2024)",
         "x": 0.5,
         "xanchor": "center",
         "y": 0.95,
         "yanchor": "top"
        },
        "width": 1000,
        "xaxis": {
         "dtick": "M3",
         "gridcolor": "lightgray",
         "gridwidth": 1,
         "showgrid": true,
         "tickfont": {
          "color": "black",
          "family": "Arial",
          "size": 12
         },
         "tickformat": "%b\n%Y",
         "title": {
          "font": {
           "color": "black",
           "family": "Arial",
           "size": 16
          },
          "text": "FOMC Meeting Date"
         },
         "zeroline": false
        },
        "yaxis": {
         "gridcolor": "lightgray",
         "gridwidth": 1,
         "showgrid": true,
         "tickfont": {
          "color": "#1F77B4",
          "family": "Arial",
          "size": 12
         },
         "title": {
          "font": {
           "color": "#1F77B4",
           "family": "Arial",
           "size": 16
          },
          "text": "Inflation Level Score"
         },
         "zeroline": true,
         "zerolinecolor": "black",
         "zerolinewidth": 1
        }
       }
      }
     },
     "metadata": {},
     "output_type": "display_data"
    }
   ],
   "source": [
    "import plotly.graph_objects as go\n",
    "import pandas as pd\n",
    "import numpy as np\n",
    "from datetime import datetime\n",
    "\n",
    "# Convert date to datetime if it's not already\n",
    "if not pd.api.types.is_datetime64_any_dtype(df['date']):\n",
    "    df['date'] = pd.to_datetime(df['date'])\n",
    "\n",
    "# Filter data for our time range (2019-01 to 2024-01)\n",
    "mask = (df['date'] >= '2019-01-01') & (df['date'] <= '2025-01-31')\n",
    "filtered_df = df.loc[mask].copy()\n",
    "\n",
    "# Make sure the data is sorted by date\n",
    "filtered_df = filtered_df.sort_values('date')\n",
    "\n",
    "# Key events with dates and descriptions for inflation\n",
    "key_events = [\n",
    "    {'date': '2020-03-15', 'description': 'COVID Impact', 'color': 'red'},\n",
    "    {'date': '2020-09-16', 'description': 'Transitory Inflation', 'color': 'orange'},\n",
    "    {'date': '2022-07-27', 'description': 'Inflation Peak', 'color': 'purple'},\n",
    "    {'date': '2024-01-31', 'description': 'Inflation Stabilization', 'color': 'green'}\n",
    "]\n",
    "\n",
    "# Create the figure\n",
    "fig = go.Figure()\n",
    "\n",
    "# Add inflation level score\n",
    "fig.add_trace(\n",
    "    go.Scatter(\n",
    "        x=filtered_df['date'], \n",
    "        y=filtered_df['inflation_level_score'],\n",
    "        mode='lines+markers',\n",
    "        name='Inflation Level',\n",
    "        line=dict(color='#1F77B4', width=2.5),  # Blue for inflation level\n",
    "        marker=dict(\n",
    "            size=8,\n",
    "            color='#1F77B4',\n",
    "            line=dict(color='white', width=1)\n",
    "        )\n",
    "    )\n",
    ")\n",
    "\n",
    "# Add reference line at zero\n",
    "fig.add_shape(\n",
    "    type=\"line\",\n",
    "    x0=filtered_df['date'].min(),\n",
    "    y0=0,\n",
    "    x1=filtered_df['date'].max(),\n",
    "    y1=0,\n",
    "    line=dict(color=\"black\", width=1, dash=\"dash\"),\n",
    ")\n",
    "\n",
    "# Add key events as vertical lines with clearly visible annotations\n",
    "for event in key_events:\n",
    "    event_date = pd.Timestamp(event['date'])\n",
    "    \n",
    "    # Find the nearest date in our data\n",
    "    nearest_idx = abs(filtered_df['date'] - event_date).argmin()\n",
    "    \n",
    "    # Find the inflation score on that date (if available)\n",
    "    y_position = 0\n",
    "    if nearest_idx < len(filtered_df):\n",
    "        y_position = filtered_df.iloc[nearest_idx]['inflation_level_score']\n",
    "    \n",
    "    # Add vertical line\n",
    "    fig.add_shape(\n",
    "        type=\"line\",\n",
    "        x0=event_date,\n",
    "        y0=filtered_df['inflation_level_score'].min() - 0.1,\n",
    "        x1=event_date,\n",
    "        y1=filtered_df['inflation_level_score'].max() + 0.1,\n",
    "        line=dict(\n",
    "            color=event['color'],\n",
    "            width=1.5,\n",
    "            dash=\"solid\",\n",
    "        ),\n",
    "    )\n",
    "    \n",
    "    # Position adjustments for annotations to prevent overlap and move out of middle\n",
    "    # Vary the positions based on event date\n",
    "    y_offsets = {\n",
    "        '2020-03-15': 0.3,\n",
    "        '2020-09-16': -0.3,\n",
    "        '2022-07-27': 0.1,\n",
    "        '2024-01-31': -0.1\n",
    "    }\n",
    "    \n",
    "    y_offset = y_offsets.get(event['date'], 0)\n",
    "    \n",
    "    # Add clear text labels\n",
    "    fig.add_annotation(\n",
    "        x=event_date,\n",
    "        y=y_position + y_offset,\n",
    "        text=event['description'],\n",
    "        showarrow=False,\n",
    "        font=dict(size=12, color=event['color'], family=\"Arial\", weight=\"bold\"),\n",
    "        align=\"center\",\n",
    "        bgcolor=\"rgba(255, 255, 255, 0.9)\",\n",
    "        bordercolor=event['color'],\n",
    "        borderwidth=2,\n",
    "        borderpad=3,\n",
    "    )\n",
    "\n",
    "# Add recession shading for COVID period\n",
    "fig.add_shape(\n",
    "    type=\"rect\",\n",
    "    x0=\"2020-02-15\", \n",
    "    x1=\"2020-07-15\",\n",
    "    y0=filtered_df['inflation_level_score'].min() - 0.2,\n",
    "    y1=filtered_df['inflation_level_score'].max() + 0.2,\n",
    "    fillcolor=\"rgba(128, 128, 128, 0.2)\", \n",
    "    line=dict(width=0),\n",
    "    layer=\"below\",\n",
    ")\n",
    "\n",
    "# Add clear text label for COVID recession\n",
    "fig.add_annotation(\n",
    "    x=pd.Timestamp(\"2020-04-15\"),\n",
    "    y=filtered_df['inflation_level_score'].max() + 0.2,\n",
    "    text=\"COVID Recession\",\n",
    "    showarrow=False,\n",
    "    font=dict(size=14, color=\"black\"),\n",
    "    align=\"center\",\n",
    "    bgcolor=\"rgba(255, 255, 255, 0.8)\",\n",
    "    bordercolor=\"black\",\n",
    "    borderwidth=1,\n",
    "    borderpad=3,\n",
    ")\n",
    "\n",
    "# Add annotations for inflation level score - moved to edges\n",
    "fig.add_annotation(\n",
    "    x=pd.Timestamp(\"2019-03-01\"),\n",
    "    y=filtered_df['inflation_level_score'].max() * 0.8,\n",
    "    text=\"↑ Rising Inflation\",\n",
    "    showarrow=False,\n",
    "    font=dict(size=14, color=\"#1F77B4\"),\n",
    "    align=\"left\",\n",
    "    bgcolor=\"white\",\n",
    "    bordercolor=\"#1F77B4\",\n",
    "    borderwidth=1,\n",
    "    borderpad=3,\n",
    ")\n",
    "\n",
    "fig.add_annotation(\n",
    "    x=pd.Timestamp(\"2019-03-01\"),\n",
    "    y=filtered_df['inflation_level_score'].min() * 0.8,\n",
    "    text=\"↓ Falling Inflation\",\n",
    "    showarrow=False,\n",
    "    font=dict(size=14, color=\"#1F77B4\"),\n",
    "    align=\"left\",\n",
    "    bgcolor=\"white\",\n",
    "    bordercolor=\"#1F77B4\",\n",
    "    borderwidth=1,\n",
    "    borderpad=3,\n",
    ")\n",
    "\n",
    "# Update layout with clear, print-friendly styling\n",
    "fig.update_layout(\n",
    "    title={\n",
    "        'text': 'Federal Reserve Inflation Assessment (2019-2024)',\n",
    "        'y':0.95,\n",
    "        'x':0.5,\n",
    "        'xanchor': 'center',\n",
    "        'yanchor': 'top',\n",
    "        'font': dict(size=20, family=\"Arial\", color=\"black\")\n",
    "    },\n",
    "    showlegend=False,  # No legend needed\n",
    "    plot_bgcolor='white',\n",
    "    paper_bgcolor='white',\n",
    "    height=600,\n",
    "    width=1000,\n",
    "    margin=dict(l=80, r=60, t=100, b=80)\n",
    ")\n",
    "\n",
    "# Update x-axis\n",
    "fig.update_xaxes(\n",
    "    title_text=\"FOMC Meeting Date\",\n",
    "    title_font=dict(size=16, family=\"Arial\", color=\"black\"),\n",
    "    showgrid=True,\n",
    "    gridcolor='lightgray',\n",
    "    gridwidth=1,\n",
    "    dtick=\"M3\",\n",
    "    tickformat=\"%b\\n%Y\",\n",
    "    tickfont=dict(size=12, family=\"Arial\", color=\"black\"),\n",
    "    zeroline=False\n",
    ")\n",
    "\n",
    "# Update y-axis\n",
    "fig.update_yaxes(\n",
    "    title_text=\"Inflation Level Score\",\n",
    "    title_font=dict(size=16, family=\"Arial\", color=\"#1F77B4\"),\n",
    "    showgrid=True,\n",
    "    gridcolor='lightgray',\n",
    "    gridwidth=1,\n",
    "    zeroline=True,\n",
    "    zerolinecolor='black',\n",
    "    zerolinewidth=1,\n",
    "    tickfont=dict(size=12, family=\"Arial\", color=\"#1F77B4\"),\n",
    ")\n",
    "\n",
    "# Show the figure\n",
    "fig.show()\n",
    "\n",
    "# Save as a static image for presentations\n",
    "fig.write_image(\"fed_inflation_level_assessment.png\", scale=2)  # Higher scale for better resolution\n",
    "\n",
    "# Save as HTML\n",
    "fig.write_html(\"fed_inflation_level_assessment.html\")"
   ]
  },
  {
   "cell_type": "code",
   "execution_count": null,
   "metadata": {},
   "outputs": [],
   "source": []
  }
 ],
 "metadata": {
  "kernelspec": {
   "display_name": "ucl",
   "language": "python",
   "name": "python3"
  },
  "language_info": {
   "codemirror_mode": {
    "name": "ipython",
    "version": 3
   },
   "file_extension": ".py",
   "mimetype": "text/x-python",
   "name": "python",
   "nbconvert_exporter": "python",
   "pygments_lexer": "ipython3",
   "version": "3.10.14"
  }
 },
 "nbformat": 4,
 "nbformat_minor": 2
}
