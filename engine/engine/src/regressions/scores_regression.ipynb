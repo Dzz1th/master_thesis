{
 "cells": [
  {
   "cell_type": "code",
   "execution_count": 19,
   "metadata": {},
   "outputs": [],
   "source": [
    "import pandas as pd \n",
    "import matplotlib.pyplot as plt "
   ]
  },
  {
   "cell_type": "code",
   "execution_count": 20,
   "metadata": {},
   "outputs": [],
   "source": [
    "base_path = \"/Users/dzz1th/Job/mgi/Soroka/data/pc_data/\"\n",
    "employment_levels_path = base_path + \"employment_level_pairwise_scores.csv\"\n",
    "employment_dynamics_path = base_path + \"employment_dynamics_pairwise_scores.csv\"\n",
    "inflation_levels_path = base_path + \"inflation_level_pairwise_scores.csv\"\n",
    "inflation_dynamics_path = base_path + \"inflation_dynamics_pairwise_scores.csv\"\n",
    "interest_rate_path = base_path + \"interest_rate_trajectory_pairwise_scores.csv\"\n",
    "balance_sheet_path = base_path + \"balance_sheet_trajectory_pairwise_scores.csv\"\n",
    "guidance_path = base_path + \"forward_guidance_guidance_pairwise_scores.csv\"\n",
    "\n",
    "\n",
    "employment_levels_df = pd.read_csv(employment_levels_path)\n",
    "employment_dynamics_df = pd.read_csv(employment_dynamics_path)\n",
    "inflation_levels_df = pd.read_csv(inflation_levels_path)\n",
    "inflation_dynamics_df = pd.read_csv(inflation_dynamics_path)\n",
    "interest_rate_df = pd.read_csv(interest_rate_path)\n",
    "balance_sheet_df = pd.read_csv(balance_sheet_path)\n",
    "guidance_df = pd.read_csv(guidance_path)"
   ]
  },
  {
   "cell_type": "code",
   "execution_count": 21,
   "metadata": {},
   "outputs": [],
   "source": [
    "from functools import reduce\n",
    "\n",
    "employment_levels_df = employment_levels_df[['date', 'employment_level_score']]\n",
    "employment_dynamics_df = employment_dynamics_df[['date', 'employment_dynamics_score']]\n",
    "inflation_levels_df = inflation_levels_df[['date', 'inflation_level_score']]\n",
    "inflation_dynamics_df = inflation_dynamics_df[['date', 'inflation_dynamics_score']]\n",
    "interest_rate_df = interest_rate_df[['date', 'interest_rate_trajectory_score']]\n",
    "balance_sheet_df = balance_sheet_df[['date', 'balance_sheet_trajectory_score']]\n",
    "guidance_df = guidance_df[['date', 'forward_guidance_guidance_score']]\n",
    "\n",
    "# Create a single dataframe with all score columns\n",
    "df = pd.DataFrame({\n",
    "    'date': employment_levels_df['date'],\n",
    "    'employment_level_score': employment_levels_df['employment_level_score'],\n",
    "    'employment_dynamics_score': employment_dynamics_df['employment_dynamics_score'],\n",
    "    'inflation_level_score': inflation_levels_df['inflation_level_score'],\n",
    "    'inflation_dynamics_score': inflation_dynamics_df['inflation_dynamics_score'],\n",
    "    'interest_rate_trajectory_score': interest_rate_df['interest_rate_trajectory_score'],\n",
    "    'balance_sheet_trajectory_score': balance_sheet_df['balance_sheet_trajectory_score'],\n",
    "    'forward_guidance_guidance_score': guidance_df['forward_guidance_guidance_score']\n",
    "})\n",
    "\n",
    "\n",
    "df['date'] = pd.to_datetime(df['date'])"
   ]
  },
  {
   "cell_type": "code",
   "execution_count": 22,
   "metadata": {},
   "outputs": [],
   "source": [
    "### Some magic regarding fixing the inflation scores\n",
    "\n",
    "## Invert Employment Level Scores\n",
    "df['employment_level_score'] = -1 * df['employment_level_score']\n",
    "\n",
    "## Invert Employment Dynamics Scores\n",
    "df['employment_dynamics_score'] = -1 * df['employment_dynamics_score']\n",
    "\n",
    "## Invert Inflation Level Scores since 2020-03-15\n",
    "df['inflation_level_score'] = -1 * df['inflation_level_score']\n",
    "#df.loc[df['date'] >= '2020-03-15', 'inflation_level_score'] = -df.loc[df['date'] >= '2020-03-15', 'inflation_level_score']\n",
    "\n",
    "## Invert Inflation Dynamics Scores since 2020-03-15\n",
    "df['inflation_dynamics_score'] = -1 * df['inflation_dynamics_score']\n",
    "#df.loc[df['date'] >= '2020-03-15', 'inflation_dynamics_score'] = -df.loc[df['date'] >= '2020-03-15', 'inflation_dynamics_score']\n",
    "\n",
    "## Invert Balance Sheet Scores completely\n",
    "df['balance_sheet_trajectory_score'] = -1 * df['balance_sheet_trajectory_score']"
   ]
  },
  {
   "cell_type": "code",
   "execution_count": 23,
   "metadata": {},
   "outputs": [],
   "source": [
    "df.to_csv('current_scores.csv')"
   ]
  },
  {
   "cell_type": "code",
   "execution_count": 24,
   "metadata": {},
   "outputs": [
    {
     "name": "stderr",
     "output_type": "stream",
     "text": [
      "/var/folders/bg/7dlg6wfn7l1cn6q3xxnwfj_80000gn/T/ipykernel_89137/889955710.py:15: FutureWarning: The default fill_method='pad' in Series.pct_change is deprecated and will be removed in a future version. Either fill in any non-leading NA values prior to calling pct_change or specify 'fill_method=None' to not fill NA values.\n",
      "  df[f'{col}_pct_diff_{lag}'] = df[f'{col}_score'].pct_change(periods=lag)\n",
      "/var/folders/bg/7dlg6wfn7l1cn6q3xxnwfj_80000gn/T/ipykernel_89137/889955710.py:15: FutureWarning: The default fill_method='pad' in Series.pct_change is deprecated and will be removed in a future version. Either fill in any non-leading NA values prior to calling pct_change or specify 'fill_method=None' to not fill NA values.\n",
      "  df[f'{col}_pct_diff_{lag}'] = df[f'{col}_score'].pct_change(periods=lag)\n",
      "/var/folders/bg/7dlg6wfn7l1cn6q3xxnwfj_80000gn/T/ipykernel_89137/889955710.py:15: FutureWarning: The default fill_method='pad' in Series.pct_change is deprecated and will be removed in a future version. Either fill in any non-leading NA values prior to calling pct_change or specify 'fill_method=None' to not fill NA values.\n",
      "  df[f'{col}_pct_diff_{lag}'] = df[f'{col}_score'].pct_change(periods=lag)\n",
      "/var/folders/bg/7dlg6wfn7l1cn6q3xxnwfj_80000gn/T/ipykernel_89137/889955710.py:15: FutureWarning: The default fill_method='pad' in Series.pct_change is deprecated and will be removed in a future version. Either fill in any non-leading NA values prior to calling pct_change or specify 'fill_method=None' to not fill NA values.\n",
      "  df[f'{col}_pct_diff_{lag}'] = df[f'{col}_score'].pct_change(periods=lag)\n",
      "/var/folders/bg/7dlg6wfn7l1cn6q3xxnwfj_80000gn/T/ipykernel_89137/889955710.py:15: FutureWarning: The default fill_method='pad' in Series.pct_change is deprecated and will be removed in a future version. Either fill in any non-leading NA values prior to calling pct_change or specify 'fill_method=None' to not fill NA values.\n",
      "  df[f'{col}_pct_diff_{lag}'] = df[f'{col}_score'].pct_change(periods=lag)\n",
      "/var/folders/bg/7dlg6wfn7l1cn6q3xxnwfj_80000gn/T/ipykernel_89137/889955710.py:15: FutureWarning: The default fill_method='pad' in Series.pct_change is deprecated and will be removed in a future version. Either fill in any non-leading NA values prior to calling pct_change or specify 'fill_method=None' to not fill NA values.\n",
      "  df[f'{col}_pct_diff_{lag}'] = df[f'{col}_score'].pct_change(periods=lag)\n",
      "/var/folders/bg/7dlg6wfn7l1cn6q3xxnwfj_80000gn/T/ipykernel_89137/889955710.py:15: FutureWarning: The default fill_method='pad' in Series.pct_change is deprecated and will be removed in a future version. Either fill in any non-leading NA values prior to calling pct_change or specify 'fill_method=None' to not fill NA values.\n",
      "  df[f'{col}_pct_diff_{lag}'] = df[f'{col}_score'].pct_change(periods=lag)\n",
      "/var/folders/bg/7dlg6wfn7l1cn6q3xxnwfj_80000gn/T/ipykernel_89137/889955710.py:15: FutureWarning: The default fill_method='pad' in Series.pct_change is deprecated and will be removed in a future version. Either fill in any non-leading NA values prior to calling pct_change or specify 'fill_method=None' to not fill NA values.\n",
      "  df[f'{col}_pct_diff_{lag}'] = df[f'{col}_score'].pct_change(periods=lag)\n",
      "/var/folders/bg/7dlg6wfn7l1cn6q3xxnwfj_80000gn/T/ipykernel_89137/889955710.py:15: FutureWarning: The default fill_method='pad' in Series.pct_change is deprecated and will be removed in a future version. Either fill in any non-leading NA values prior to calling pct_change or specify 'fill_method=None' to not fill NA values.\n",
      "  df[f'{col}_pct_diff_{lag}'] = df[f'{col}_score'].pct_change(periods=lag)\n",
      "/var/folders/bg/7dlg6wfn7l1cn6q3xxnwfj_80000gn/T/ipykernel_89137/889955710.py:15: FutureWarning: The default fill_method='pad' in Series.pct_change is deprecated and will be removed in a future version. Either fill in any non-leading NA values prior to calling pct_change or specify 'fill_method=None' to not fill NA values.\n",
      "  df[f'{col}_pct_diff_{lag}'] = df[f'{col}_score'].pct_change(periods=lag)\n",
      "/var/folders/bg/7dlg6wfn7l1cn6q3xxnwfj_80000gn/T/ipykernel_89137/889955710.py:15: FutureWarning: The default fill_method='pad' in Series.pct_change is deprecated and will be removed in a future version. Either fill in any non-leading NA values prior to calling pct_change or specify 'fill_method=None' to not fill NA values.\n",
      "  df[f'{col}_pct_diff_{lag}'] = df[f'{col}_score'].pct_change(periods=lag)\n",
      "/var/folders/bg/7dlg6wfn7l1cn6q3xxnwfj_80000gn/T/ipykernel_89137/889955710.py:15: FutureWarning: The default fill_method='pad' in Series.pct_change is deprecated and will be removed in a future version. Either fill in any non-leading NA values prior to calling pct_change or specify 'fill_method=None' to not fill NA values.\n",
      "  df[f'{col}_pct_diff_{lag}'] = df[f'{col}_score'].pct_change(periods=lag)\n",
      "/var/folders/bg/7dlg6wfn7l1cn6q3xxnwfj_80000gn/T/ipykernel_89137/889955710.py:15: FutureWarning: The default fill_method='pad' in Series.pct_change is deprecated and will be removed in a future version. Either fill in any non-leading NA values prior to calling pct_change or specify 'fill_method=None' to not fill NA values.\n",
      "  df[f'{col}_pct_diff_{lag}'] = df[f'{col}_score'].pct_change(periods=lag)\n",
      "/var/folders/bg/7dlg6wfn7l1cn6q3xxnwfj_80000gn/T/ipykernel_89137/889955710.py:15: FutureWarning: The default fill_method='pad' in Series.pct_change is deprecated and will be removed in a future version. Either fill in any non-leading NA values prior to calling pct_change or specify 'fill_method=None' to not fill NA values.\n",
      "  df[f'{col}_pct_diff_{lag}'] = df[f'{col}_score'].pct_change(periods=lag)\n",
      "/var/folders/bg/7dlg6wfn7l1cn6q3xxnwfj_80000gn/T/ipykernel_89137/889955710.py:15: FutureWarning: The default fill_method='pad' in Series.pct_change is deprecated and will be removed in a future version. Either fill in any non-leading NA values prior to calling pct_change or specify 'fill_method=None' to not fill NA values.\n",
      "  df[f'{col}_pct_diff_{lag}'] = df[f'{col}_score'].pct_change(periods=lag)\n"
     ]
    }
   ],
   "source": [
    "base_cols = ['employment_level', 'employment_dynamics',\t'inflation_level', 'inflation_dynamics', 'interest_rate_trajectory', 'balance_sheet_trajectory', 'forward_guidance_guidance']\n",
    "\n",
    "\n",
    "max_lags = 3\n",
    "\n",
    "### Create ordinary diffs\n",
    "for col in base_cols:\n",
    "    for lag in range(1, max_lags + 1):\n",
    "        df[f'{col}_ord_diff_{lag}'] = df[f'{col}_score'].diff(lag)\n",
    "\n",
    "\n",
    "### Create pct_diffs \n",
    "for col in base_cols:\n",
    "    for lag in range(1, max_lags+1):\n",
    "        df[f'{col}_pct_diff_{lag}'] = df[f'{col}_score'].pct_change(periods=lag)\n",
    "\n",
    "\n",
    "## Compute diff * level_t-1\n",
    "for col in base_cols:\n",
    "    for lag in range(1, max_lags + 1):\n",
    "        df[f'{col}_diff_mult_level_{lag}'] = df[f'{col}_score'].diff(lag) * df[f'{col}_score'].shift(lag)\n",
    "\n",
    "## Compute cross differences (diff level * diff dynamics)\n",
    "for lag in range(1, max_lags+1):\n",
    "    df[f'employment_cross_diff'] = df[f'employment_level_score'].diff(lag) * df[f'employment_dynamics_score'].diff(lag)\n",
    "    df['inflation_cross_diff'] = df[f'inflation_level_score'].diff(lag) * df[f'inflation_dynamics_score'].diff(lag)"
   ]
  },
  {
   "cell_type": "code",
   "execution_count": 25,
   "metadata": {},
   "outputs": [
    {
     "data": {
      "image/png": "[encoded data removed]",
      "text/plain": [
       "<Figure size 640x480 with 1 Axes>"
      ]
     },
     "metadata": {},
     "output_type": "display_data"
    }
   ],
   "source": [
    "import matplotlib.pyplot as plt \n",
    "import matplotlib.dates as mdates\n",
    "import numpy as np\n",
    "\n",
    "def sigmoid(x):\n",
    "    return 1/ (1 + np.exp(-x))\n",
    "\n",
    "margin = 0.01\n",
    "start_interval = '2012-01-01'\n",
    "end_interval = '2025-01-01'\n",
    "\n",
    "plot_df = df[(df['date'] >= start_interval) & (df['date'] <= end_interval)]\n",
    "\n",
    "base_col = 'interest_rate_trajectory_ord_diff'\n",
    "\n",
    "plt.plot(plot_df['date'], plot_df[base_col + '_1'])\n",
    "plt.plot(plot_df['date'], plot_df[base_col + '_2'])\n",
    "plt.plot(plot_df['date'], plot_df[base_col + '_3'])\n",
    "plt.title('Dynamics of Inflation by infered scores')\n",
    "# Format x-axis\n",
    "plt.gca().xaxis.set_major_formatter(mdates.DateFormatter('%Y/%m'))  # Format as YYYY\n",
    "plt.xticks(rotation=45)  # Rotate labels for better readability\n",
    "\n",
    "# Add horizontal lines\n",
    "plt.axhline(y=0, color='black', linestyle='--', alpha=0.5, label='Zero line')\n",
    "plt.axhline(y=0.01, color='red', linestyle='--', alpha=0.3, label='Upper bound')\n",
    "plt.axhline(y=-0.01, color='red', linestyle='--', alpha=0.3, label='Lower bound')\n",
    "\n",
    "plt.legend(['Lag 1', 'Lag 2', 'Lag 3'])\n",
    "\n",
    "plt.tight_layout()\n",
    "plt.show()\n",
    "\n",
    "\n"
   ]
  },
  {
   "cell_type": "code",
   "execution_count": 26,
   "metadata": {},
   "outputs": [
    {
     "data": {
      "text/html": [
       "<div>\n",
       "<style scoped>\n",
       "    .dataframe tbody tr th:only-of-type {\n",
       "        vertical-align: middle;\n",
       "    }\n",
       "\n",
       "    .dataframe tbody tr th {\n",
       "        vertical-align: top;\n",
       "    }\n",
       "\n",
       "    .dataframe thead th {\n",
       "        text-align: right;\n",
       "    }\n",
       "</style>\n",
       "<table border=\"1\" class=\"dataframe\">\n",
       "  <thead>\n",
       "    <tr style=\"text-align: right;\">\n",
       "      <th></th>\n",
       "      <th>inflation_level_score</th>\n",
       "      <th>inflation_dynamics_score</th>\n",
       "      <th>employment_level_score</th>\n",
       "      <th>employment_dynamics_score</th>\n",
       "      <th>interest_rate_trajectory_score</th>\n",
       "      <th>balance_sheet_trajectory_score</th>\n",
       "      <th>forward_guidance_guidance_score</th>\n",
       "    </tr>\n",
       "  </thead>\n",
       "  <tbody>\n",
       "    <tr>\n",
       "      <th>inflation_level_score</th>\n",
       "      <td>1.000000</td>\n",
       "      <td>0.617589</td>\n",
       "      <td>0.077452</td>\n",
       "      <td>0.165698</td>\n",
       "      <td>0.413475</td>\n",
       "      <td>-0.488797</td>\n",
       "      <td>-0.084240</td>\n",
       "    </tr>\n",
       "    <tr>\n",
       "      <th>inflation_dynamics_score</th>\n",
       "      <td>0.617589</td>\n",
       "      <td>1.000000</td>\n",
       "      <td>0.103163</td>\n",
       "      <td>0.209221</td>\n",
       "      <td>0.502452</td>\n",
       "      <td>-0.478671</td>\n",
       "      <td>-0.130290</td>\n",
       "    </tr>\n",
       "    <tr>\n",
       "      <th>employment_level_score</th>\n",
       "      <td>0.077452</td>\n",
       "      <td>0.103163</td>\n",
       "      <td>1.000000</td>\n",
       "      <td>0.886940</td>\n",
       "      <td>0.308719</td>\n",
       "      <td>-0.283335</td>\n",
       "      <td>-0.376620</td>\n",
       "    </tr>\n",
       "    <tr>\n",
       "      <th>employment_dynamics_score</th>\n",
       "      <td>0.165698</td>\n",
       "      <td>0.209221</td>\n",
       "      <td>0.886940</td>\n",
       "      <td>1.000000</td>\n",
       "      <td>0.391699</td>\n",
       "      <td>-0.400352</td>\n",
       "      <td>-0.358816</td>\n",
       "    </tr>\n",
       "    <tr>\n",
       "      <th>interest_rate_trajectory_score</th>\n",
       "      <td>0.413475</td>\n",
       "      <td>0.502452</td>\n",
       "      <td>0.308719</td>\n",
       "      <td>0.391699</td>\n",
       "      <td>1.000000</td>\n",
       "      <td>-0.581336</td>\n",
       "      <td>-0.275192</td>\n",
       "    </tr>\n",
       "    <tr>\n",
       "      <th>balance_sheet_trajectory_score</th>\n",
       "      <td>-0.488797</td>\n",
       "      <td>-0.478671</td>\n",
       "      <td>-0.283335</td>\n",
       "      <td>-0.400352</td>\n",
       "      <td>-0.581336</td>\n",
       "      <td>1.000000</td>\n",
       "      <td>0.243880</td>\n",
       "    </tr>\n",
       "    <tr>\n",
       "      <th>forward_guidance_guidance_score</th>\n",
       "      <td>-0.084240</td>\n",
       "      <td>-0.130290</td>\n",
       "      <td>-0.376620</td>\n",
       "      <td>-0.358816</td>\n",
       "      <td>-0.275192</td>\n",
       "      <td>0.243880</td>\n",
       "      <td>1.000000</td>\n",
       "    </tr>\n",
       "  </tbody>\n",
       "</table>\n",
       "</div>"
      ],
      "text/plain": [
       "                                 inflation_level_score  \\\n",
       "inflation_level_score                         1.000000   \n",
       "inflation_dynamics_score                      0.617589   \n",
       "employment_level_score                        0.077452   \n",
       "employment_dynamics_score                     0.165698   \n",
       "interest_rate_trajectory_score                0.413475   \n",
       "balance_sheet_trajectory_score               -0.488797   \n",
       "forward_guidance_guidance_score              -0.084240   \n",
       "\n",
       "                                 inflation_dynamics_score  \\\n",
       "inflation_level_score                            0.617589   \n",
       "inflation_dynamics_score                         1.000000   \n",
       "employment_level_score                           0.103163   \n",
       "employment_dynamics_score                        0.209221   \n",
       "interest_rate_trajectory_score                   0.502452   \n",
       "balance_sheet_trajectory_score                  -0.478671   \n",
       "forward_guidance_guidance_score                 -0.130290   \n",
       "\n",
       "                                 employment_level_score  \\\n",
       "inflation_level_score                          0.077452   \n",
       "inflation_dynamics_score                       0.103163   \n",
       "employment_level_score                         1.000000   \n",
       "employment_dynamics_score                      0.886940   \n",
       "interest_rate_trajectory_score                 0.308719   \n",
       "balance_sheet_trajectory_score                -0.283335   \n",
       "forward_guidance_guidance_score               -0.376620   \n",
       "\n",
       "                                 employment_dynamics_score  \\\n",
       "inflation_level_score                             0.165698   \n",
       "inflation_dynamics_score                          0.209221   \n",
       "employment_level_score                            0.886940   \n",
       "employment_dynamics_score                         1.000000   \n",
       "interest_rate_trajectory_score                    0.391699   \n",
       "balance_sheet_trajectory_score                   -0.400352   \n",
       "forward_guidance_guidance_score                  -0.358816   \n",
       "\n",
       "                                 interest_rate_trajectory_score  \\\n",
       "inflation_level_score                                  0.413475   \n",
       "inflation_dynamics_score                               0.502452   \n",
       "employment_level_score                                 0.308719   \n",
       "employment_dynamics_score                              0.391699   \n",
       "interest_rate_trajectory_score                         1.000000   \n",
       "balance_sheet_trajectory_score                        -0.581336   \n",
       "forward_guidance_guidance_score                       -0.275192   \n",
       "\n",
       "                                 balance_sheet_trajectory_score  \\\n",
       "inflation_level_score                                 -0.488797   \n",
       "inflation_dynamics_score                              -0.478671   \n",
       "employment_level_score                                -0.283335   \n",
       "employment_dynamics_score                             -0.400352   \n",
       "interest_rate_trajectory_score                        -0.581336   \n",
       "balance_sheet_trajectory_score                         1.000000   \n",
       "forward_guidance_guidance_score                        0.243880   \n",
       "\n",
       "                                 forward_guidance_guidance_score  \n",
       "inflation_level_score                                  -0.084240  \n",
       "inflation_dynamics_score                               -0.130290  \n",
       "employment_level_score                                 -0.376620  \n",
       "employment_dynamics_score                              -0.358816  \n",
       "interest_rate_trajectory_score                         -0.275192  \n",
       "balance_sheet_trajectory_score                          0.243880  \n",
       "forward_guidance_guidance_score                         1.000000  "
      ]
     },
     "execution_count": 26,
     "metadata": {},
     "output_type": "execute_result"
    }
   ],
   "source": [
    "df[['inflation_level_score', 'inflation_dynamics_score', 'employment_level_score', 'employment_dynamics_score', 'interest_rate_trajectory_score', 'balance_sheet_trajectory_score', 'forward_guidance_guidance_score']].corr()"
   ]
  },
  {
   "cell_type": "code",
   "execution_count": 27,
   "metadata": {},
   "outputs": [
    {
     "name": "stdout",
     "output_type": "stream",
     "text": [
      "Visualization has been saved to scores_visualization.html\n"
     ]
    }
   ],
   "source": [
    "import plotly.graph_objects as go\n",
    "from plotly.subplots import make_subplots\n",
    "import plotly.io as pio\n",
    "\n",
    "start_interval = '2012-01-01'\n",
    "end_interval = '2025-01-01'\n",
    "\n",
    "plot_df = df[(df['date'] >= start_interval) & (df['date'] <= end_interval)]\n",
    "\n",
    "# Create subplots with one column\n",
    "fig = make_subplots(\n",
    "    rows=len(base_cols), \n",
    "    cols=1,\n",
    "    vertical_spacing=0.05,\n",
    "    shared_xaxes=False,\n",
    "    subplot_titles=[col.replace('_', ' ').title() for col in base_cols]  # Add titles above\n",
    ")\n",
    "\n",
    "# Add traces for each score in separate subplots\n",
    "for idx, col in enumerate(base_cols):\n",
    "    col_name = col + '_score'\n",
    "    \n",
    "    fig.add_trace(\n",
    "        go.Scatter(\n",
    "            x=plot_df['date'],\n",
    "            y=plot_df[col_name],\n",
    "            name=col.replace('_', ' ').title(),\n",
    "            mode='lines',\n",
    "            hovertemplate=\n",
    "            '<b>Date</b>: %{x|%Y-%m-%d}<br>' +\n",
    "            '<b>Score</b>: %{y:.3f}<br>'\n",
    "        ),\n",
    "        row=idx+1,\n",
    "        col=1\n",
    "    )\n",
    "\n",
    "# Update layout\n",
    "fig.update_layout(\n",
    "    title={\n",
    "        'text': 'Evolution of Different Scores Over Time',\n",
    "        'y':0.98,\n",
    "        'x':0.5,\n",
    "        'xanchor': 'center',\n",
    "        'yanchor': 'top',\n",
    "        'font': dict(size=20)\n",
    "    },\n",
    "    height=170 * len(base_cols),\n",
    "    width=1000,\n",
    "    showlegend=False,\n",
    "    margin=dict(t=100, b=20, l=50, r=50),\n",
    ")\n",
    "\n",
    "# Update subplot titles to be closer to their plots\n",
    "for i in range(len(fig.layout.annotations)):\n",
    "    fig.layout.annotations[i].update(y=fig.layout.annotations[i].y - 0.03)\n",
    "\n",
    "# Add range selector buttons to all subplots\n",
    "for i in range(1, len(base_cols) + 1):\n",
    "    # Update x-axes\n",
    "    fig.update_xaxes(\n",
    "        rangeselector=dict(\n",
    "            buttons=list([\n",
    "                dict(count=6, label=\"6M\", step=\"month\", stepmode=\"backward\"),\n",
    "                dict(count=1, label=\"1Y\", step=\"year\", stepmode=\"backward\"),\n",
    "                dict(count=2, label=\"2Y\", step=\"year\", stepmode=\"backward\"),\n",
    "                dict(count=5, label=\"5Y\", step=\"year\", stepmode=\"backward\"),\n",
    "                dict(step=\"all\", label=\"All\")\n",
    "            ]),\n",
    "            font=dict(size=8),\n",
    "            y=1.1,\n",
    "        ),\n",
    "        row=i, \n",
    "        col=1,\n",
    "        showgrid=True, \n",
    "        gridwidth=1, \n",
    "        gridcolor='LightGray',\n",
    "        dtick=\"M6\",\n",
    "        tickformat=\"%Y-%m\"\n",
    "    )\n",
    "    \n",
    "    # Update y-axes\n",
    "    fig.update_yaxes(\n",
    "        title_text=\"Score\",\n",
    "        showgrid=True,\n",
    "        gridwidth=1,\n",
    "        gridcolor='LightGray',\n",
    "        row=i,\n",
    "        col=1\n",
    "    )\n",
    "\n",
    "# Save the figure as an HTML file\n",
    "output_path = 'scores_visualization.html'\n",
    "pio.write_html(fig, file=output_path, auto_open=True)\n",
    "\n",
    "print(f\"Visualization has been saved to {output_path}\")"
   ]
  },
  {
   "cell_type": "code",
   "execution_count": 13,
   "metadata": {},
   "outputs": [
    {
     "data": {
      "application/vnd.plotly.v1+json": {
       "config": {
        "plotlyServerURL": "https://plot.ly"
       },
       "data": [
        {
         "line": {
          "color": "#3366CC",
          "width": 2.5
         },
         "marker": {
          "color": "#3366CC",
          "line": {
           "color": "white",
           "width": 1
          },
          "size": 8
         },
         "mode": "lines+markers",
         "name": "Employment Level Score",
         "type": "scatter",
         "x": [
          "2019-01-30T00:00:00.000000000",
          "2019-03-20T00:00:00.000000000",
          "2019-05-01T00:00:00.000000000",
          "2019-06-19T00:00:00.000000000",
          "2019-07-31T00:00:00.000000000",
          "2019-09-18T00:00:00.000000000",
          "2019-10-30T00:00:00.000000000",
          "2019-12-11T00:00:00.000000000",
          "2020-01-29T00:00:00.000000000",
          "2020-03-03T00:00:00.000000000",
          "2020-03-15T00:00:00.000000000",
          "2020-04-29T00:00:00.000000000",
          "2020-06-10T00:00:00.000000000",
          "2020-07-29T00:00:00.000000000",
          "2020-09-16T00:00:00.000000000",
          "2020-11-05T00:00:00.000000000",
          "2020-12-16T00:00:00.000000000",
          "2021-01-27T00:00:00.000000000",
          "2021-03-17T00:00:00.000000000",
          "2021-04-28T00:00:00.000000000",
          "2021-06-16T00:00:00.000000000",
          "2021-07-28T00:00:00.000000000",
          "2021-09-22T00:00:00.000000000",
          "2021-11-03T00:00:00.000000000",
          "2021-12-15T00:00:00.000000000",
          "2022-01-26T00:00:00.000000000",
          "2022-03-16T00:00:00.000000000",
          "2022-05-04T00:00:00.000000000",
          "2022-06-15T00:00:00.000000000",
          "2022-07-27T00:00:00.000000000",
          "2022-09-21T00:00:00.000000000",
          "2022-11-02T00:00:00.000000000",
          "2022-12-14T00:00:00.000000000",
          "2023-02-01T00:00:00.000000000",
          "2023-03-22T00:00:00.000000000",
          "2023-05-03T00:00:00.000000000",
          "2023-06-14T00:00:00.000000000",
          "2023-07-26T00:00:00.000000000",
          "2023-09-20T00:00:00.000000000",
          "2023-11-01T00:00:00.000000000",
          "2023-12-13T00:00:00.000000000",
          "2024-01-31T00:00:00.000000000",
          "2024-03-20T00:00:00.000000000",
          "2024-05-01T00:00:00.000000000",
          "2024-06-12T00:00:00.000000000",
          "2024-07-31T00:00:00.000000000",
          "2024-09-18T00:00:00.000000000",
          "2024-11-07T00:00:00.000000000"
         ],
         "y": {
          "bdata": "q31OijysrT8gQIfXXU28P2e60Kr6ybk/ARk3qIEkoD++Y7MiTR+xP1tKQH8D160/2Ghh6/G2uT9+my7Y+AuJPwOETJFCCLM/DfT9SRg4lz9pgTT9sPyxPy/BJj/Gu7K/HUQlQrYtrr+frX9rTpayv457eTGI7Ke/d27UNenEsr/9ennAog6qv7wAi9Q2Ibu/nbj7KiTwpL/FVgWL+K2ivx2clOwCN6C/5FtwWOCOj78pN3mmC06Mv3vvUxo1sau/tCtRxw37Y78ECaD3bAOtP/+gv3j84as/YE60GwvSsT+1ec1Tc7acPye91csmS62/2xGMkLKOl78MFWzod86dP5U3OPZeVKW/i7m/IJ3CkD8yqPLZCsmKvxLlRtLI8ZE/jT45SnwqoD/3SqyiDJakv/OhXCghxoW/zWwsBf0PkT+YsefE9z2BP2IDYLsPM6s/MYZSM9WXkT/SmWjg4N6gPzwr7o4aI5w/M0tzPMILnb9vZJDOZz+Zv0In05wjsJq/",
          "dtype": "f8"
         }
        }
       ],
       "layout": {
        "annotations": [
         {
          "align": "center",
          "bgcolor": "rgba(255, 255, 255, 0.9)",
          "bordercolor": "red",
          "borderpad": 3,
          "borderwidth": 2,
          "font": {
           "color": "red",
           "family": "Arial",
           "size": 12,
           "weight": "bold"
          },
          "showarrow": false,
          "text": "COVID impact",
          "x": "2020-04-29T00:00:00",
          "y": 0.0068222900220692995
         },
         {
          "align": "center",
          "bgcolor": "rgba(255, 255, 255, 0.9)",
          "bordercolor": "green",
          "borderpad": 3,
          "borderwidth": 2,
          "font": {
           "color": "green",
           "family": "Arial",
           "size": 12,
           "weight": "bold"
          },
          "showarrow": false,
          "text": "Recovery begins",
          "x": "2021-01-27T00:00:00",
          "y": -0.2059755581763992
         },
         {
          "align": "center",
          "bgcolor": "rgba(255, 255, 255, 0.9)",
          "bordercolor": "purple",
          "borderpad": 3,
          "borderwidth": 2,
          "font": {
           "color": "purple",
           "family": "Arial",
           "size": 12,
           "weight": "bold"
          },
          "showarrow": false,
          "text": "Peak tightness",
          "x": "2022-05-04T00:00:00",
          "y": 0.1496112578046324
         },
         {
          "align": "center",
          "bgcolor": "rgba(255, 255, 255, 0.9)",
          "bordercolor": "orange",
          "borderpad": 3,
          "borderwidth": 2,
          "font": {
           "color": "orange",
           "family": "Arial",
           "size": 12,
           "weight": "bold"
          },
          "showarrow": false,
          "text": "Pivot in narrative",
          "x": "2022-07-27T00:00:00",
          "y": -0.137213985807602
         },
         {
          "align": "center",
          "bgcolor": "rgba(255, 255, 255, 0.9)",
          "bordercolor": "blue",
          "borderpad": 3,
          "borderwidth": 2,
          "font": {
           "color": "blue",
           "family": "Arial",
           "size": 12,
           "weight": "bold"
          },
          "showarrow": false,
          "text": "Balanced, non overheated",
          "x": "2023-11-01T00:00:00",
          "y": 0.1166625532539058
         },
         {
          "align": "center",
          "bgcolor": "rgba(255, 255, 255, 0.8)",
          "bordercolor": "black",
          "borderpad": 3,
          "borderwidth": 1,
          "font": {
           "color": "black",
           "size": 14
          },
          "showarrow": false,
          "text": "COVID Recession",
          "x": "2020-04-15T00:00:00",
          "y": 0.2105555201713746
         },
         {
          "align": "left",
          "bgcolor": "white",
          "bordercolor": "#3366CC",
          "borderpad": 3,
          "borderwidth": 1,
          "font": {
           "color": "#3366CC",
           "size": 14
          },
          "showarrow": false,
          "text": "↑ Improving Employment",
          "x": "2019-06-15T00:00:00",
          "y": 0.15
         },
         {
          "align": "left",
          "bgcolor": "white",
          "bordercolor": "#3366CC",
          "borderpad": 3,
          "borderwidth": 1,
          "font": {
           "color": "#3366CC",
           "size": 14
          },
          "showarrow": false,
          "text": "↓ Deteriorating Employment",
          "x": "2019-06-15T00:00:00",
          "y": -0.15
         }
        ],
        "height": 600,
        "margin": {
         "b": 80,
         "l": 80,
         "r": 60,
         "t": 100
        },
        "paper_bgcolor": "white",
        "plot_bgcolor": "white",
        "shapes": [
         {
          "line": {
           "color": "black",
           "dash": "dash",
           "width": 1
          },
          "type": "line",
          "x0": "2019-01-30T00:00:00",
          "x1": "2024-11-07T00:00:00",
          "y0": 0,
          "y1": 0
         },
         {
          "line": {
           "color": "red",
           "dash": "solid",
           "width": 1.5
          },
          "type": "line",
          "x0": "2020-04-29T00:00:00",
          "x1": "2020-04-29T00:00:00",
          "y0": -0.1559755581763992,
          "y1": 0.1605555201713746
         },
         {
          "line": {
           "color": "green",
           "dash": "solid",
           "width": 1.5
          },
          "type": "line",
          "x0": "2021-01-27T00:00:00",
          "x1": "2021-01-27T00:00:00",
          "y0": -0.1559755581763992,
          "y1": 0.1605555201713746
         },
         {
          "line": {
           "color": "purple",
           "dash": "solid",
           "width": 1.5
          },
          "type": "line",
          "x0": "2022-05-04T00:00:00",
          "x1": "2022-05-04T00:00:00",
          "y0": -0.1559755581763992,
          "y1": 0.1605555201713746
         },
         {
          "line": {
           "color": "orange",
           "dash": "solid",
           "width": 1.5
          },
          "type": "line",
          "x0": "2022-07-27T00:00:00",
          "x1": "2022-07-27T00:00:00",
          "y0": -0.1559755581763992,
          "y1": 0.1605555201713746
         },
         {
          "line": {
           "color": "blue",
           "dash": "solid",
           "width": 1.5
          },
          "type": "line",
          "x0": "2023-11-01T00:00:00",
          "x1": "2023-11-01T00:00:00",
          "y0": -0.1559755581763992,
          "y1": 0.1605555201713746
         },
         {
          "fillcolor": "rgba(128, 128, 128, 0.2)",
          "layer": "below",
          "line": {
           "width": 0
          },
          "type": "rect",
          "x0": "2020-02-15",
          "x1": "2020-07-15",
          "y0": -0.2059755581763992,
          "y1": 0.2105555201713746
         }
        ],
        "showlegend": false,
        "template": {
         "data": {
          "bar": [
           {
            "error_x": {
             "color": "#2a3f5f"
            },
            "error_y": {
             "color": "#2a3f5f"
            },
            "marker": {
             "line": {
              "color": "#E5ECF6",
              "width": 0.5
             },
             "pattern": {
              "fillmode": "overlay",
              "size": 10,
              "solidity": 0.2
             }
            },
            "type": "bar"
           }
          ],
          "barpolar": [
           {
            "marker": {
             "line": {
              "color": "#E5ECF6",
              "width": 0.5
             },
             "pattern": {
              "fillmode": "overlay",
              "size": 10,
              "solidity": 0.2
             }
            },
            "type": "barpolar"
           }
          ],
          "carpet": [
           {
            "aaxis": {
             "endlinecolor": "#2a3f5f",
             "gridcolor": "white",
             "linecolor": "white",
             "minorgridcolor": "white",
             "startlinecolor": "#2a3f5f"
            },
            "baxis": {
             "endlinecolor": "#2a3f5f",
             "gridcolor": "white",
             "linecolor": "white",
             "minorgridcolor": "white",
             "startlinecolor": "#2a3f5f"
            },
            "type": "carpet"
           }
          ],
          "choropleth": [
           {
            "colorbar": {
             "outlinewidth": 0,
             "ticks": ""
            },
            "type": "choropleth"
           }
          ],
          "contour": [
           {
            "colorbar": {
             "outlinewidth": 0,
             "ticks": ""
            },
            "colorscale": [
             [
              0,
              "#0d0887"
             ],
             [
              0.1111111111111111,
              "#46039f"
             ],
             [
              0.2222222222222222,
              "#7201a8"
             ],
             [
              0.3333333333333333,
              "#9c179e"
             ],
             [
              0.4444444444444444,
              "#bd3786"
             ],
             [
              0.5555555555555556,
              "#d8576b"
             ],
             [
              0.6666666666666666,
              "#ed7953"
             ],
             [
              0.7777777777777778,
              "#fb9f3a"
             ],
             [
              0.8888888888888888,
              "#fdca26"
             ],
             [
              1,
              "#f0f921"
             ]
            ],
            "type": "contour"
           }
          ],
          "contourcarpet": [
           {
            "colorbar": {
             "outlinewidth": 0,
             "ticks": ""
            },
            "type": "contourcarpet"
           }
          ],
          "heatmap": [
           {
            "colorbar": {
             "outlinewidth": 0,
             "ticks": ""
            },
            "colorscale": [
             [
              0,
              "#0d0887"
             ],
             [
              0.1111111111111111,
              "#46039f"
             ],
             [
              0.2222222222222222,
              "#7201a8"
             ],
             [
              0.3333333333333333,
              "#9c179e"
             ],
             [
              0.4444444444444444,
              "#bd3786"
             ],
             [
              0.5555555555555556,
              "#d8576b"
             ],
             [
              0.6666666666666666,
              "#ed7953"
             ],
             [
              0.7777777777777778,
              "#fb9f3a"
             ],
             [
              0.8888888888888888,
              "#fdca26"
             ],
             [
              1,
              "#f0f921"
             ]
            ],
            "type": "heatmap"
           }
          ],
          "histogram": [
           {
            "marker": {
             "pattern": {
              "fillmode": "overlay",
              "size": 10,
              "solidity": 0.2
             }
            },
            "type": "histogram"
           }
          ],
          "histogram2d": [
           {
            "colorbar": {
             "outlinewidth": 0,
             "ticks": ""
            },
            "colorscale": [
             [
              0,
              "#0d0887"
             ],
             [
              0.1111111111111111,
              "#46039f"
             ],
             [
              0.2222222222222222,
              "#7201a8"
             ],
             [
              0.3333333333333333,
              "#9c179e"
             ],
             [
              0.4444444444444444,
              "#bd3786"
             ],
             [
              0.5555555555555556,
              "#d8576b"
             ],
             [
              0.6666666666666666,
              "#ed7953"
             ],
             [
              0.7777777777777778,
              "#fb9f3a"
             ],
             [
              0.8888888888888888,
              "#fdca26"
             ],
             [
              1,
              "#f0f921"
             ]
            ],
            "type": "histogram2d"
           }
          ],
          "histogram2dcontour": [
           {
            "colorbar": {
             "outlinewidth": 0,
             "ticks": ""
            },
            "colorscale": [
             [
              0,
              "#0d0887"
             ],
             [
              0.1111111111111111,
              "#46039f"
             ],
             [
              0.2222222222222222,
              "#7201a8"
             ],
             [
              0.3333333333333333,
              "#9c179e"
             ],
             [
              0.4444444444444444,
              "#bd3786"
             ],
             [
              0.5555555555555556,
              "#d8576b"
             ],
             [
              0.6666666666666666,
              "#ed7953"
             ],
             [
              0.7777777777777778,
              "#fb9f3a"
             ],
             [
              0.8888888888888888,
              "#fdca26"
             ],
             [
              1,
              "#f0f921"
             ]
            ],
            "type": "histogram2dcontour"
           }
          ],
          "mesh3d": [
           {
            "colorbar": {
             "outlinewidth": 0,
             "ticks": ""
            },
            "type": "mesh3d"
           }
          ],
          "parcoords": [
           {
            "line": {
             "colorbar": {
              "outlinewidth": 0,
              "ticks": ""
             }
            },
            "type": "parcoords"
           }
          ],
          "pie": [
           {
            "automargin": true,
            "type": "pie"
           }
          ],
          "scatter": [
           {
            "fillpattern": {
             "fillmode": "overlay",
             "size": 10,
             "solidity": 0.2
            },
            "type": "scatter"
           }
          ],
          "scatter3d": [
           {
            "line": {
             "colorbar": {
              "outlinewidth": 0,
              "ticks": ""
             }
            },
            "marker": {
             "colorbar": {
              "outlinewidth": 0,
              "ticks": ""
             }
            },
            "type": "scatter3d"
           }
          ],
          "scattercarpet": [
           {
            "marker": {
             "colorbar": {
              "outlinewidth": 0,
              "ticks": ""
             }
            },
            "type": "scattercarpet"
           }
          ],
          "scattergeo": [
           {
            "marker": {
             "colorbar": {
              "outlinewidth": 0,
              "ticks": ""
             }
            },
            "type": "scattergeo"
           }
          ],
          "scattergl": [
           {
            "marker": {
             "colorbar": {
              "outlinewidth": 0,
              "ticks": ""
             }
            },
            "type": "scattergl"
           }
          ],
          "scattermap": [
           {
            "marker": {
             "colorbar": {
              "outlinewidth": 0,
              "ticks": ""
             }
            },
            "type": "scattermap"
           }
          ],
          "scattermapbox": [
           {
            "marker": {
             "colorbar": {
              "outlinewidth": 0,
              "ticks": ""
             }
            },
            "type": "scattermapbox"
           }
          ],
          "scatterpolar": [
           {
            "marker": {
             "colorbar": {
              "outlinewidth": 0,
              "ticks": ""
             }
            },
            "type": "scatterpolar"
           }
          ],
          "scatterpolargl": [
           {
            "marker": {
             "colorbar": {
              "outlinewidth": 0,
              "ticks": ""
             }
            },
            "type": "scatterpolargl"
           }
          ],
          "scatterternary": [
           {
            "marker": {
             "colorbar": {
              "outlinewidth": 0,
              "ticks": ""
             }
            },
            "type": "scatterternary"
           }
          ],
          "surface": [
           {
            "colorbar": {
             "outlinewidth": 0,
             "ticks": ""
            },
            "colorscale": [
             [
              0,
              "#0d0887"
             ],
             [
              0.1111111111111111,
              "#46039f"
             ],
             [
              0.2222222222222222,
              "#7201a8"
             ],
             [
              0.3333333333333333,
              "#9c179e"
             ],
             [
              0.4444444444444444,
              "#bd3786"
             ],
             [
              0.5555555555555556,
              "#d8576b"
             ],
             [
              0.6666666666666666,
              "#ed7953"
             ],
             [
              0.7777777777777778,
              "#fb9f3a"
             ],
             [
              0.8888888888888888,
              "#fdca26"
             ],
             [
              1,
              "#f0f921"
             ]
            ],
            "type": "surface"
           }
          ],
          "table": [
           {
            "cells": {
             "fill": {
              "color": "#EBF0F8"
             },
             "line": {
              "color": "white"
             }
            },
            "header": {
             "fill": {
              "color": "#C8D4E3"
             },
             "line": {
              "color": "white"
             }
            },
            "type": "table"
           }
          ]
         },
         "layout": {
          "annotationdefaults": {
           "arrowcolor": "#2a3f5f",
           "arrowhead": 0,
           "arrowwidth": 1
          },
          "autotypenumbers": "strict",
          "coloraxis": {
           "colorbar": {
            "outlinewidth": 0,
            "ticks": ""
           }
          },
          "colorscale": {
           "diverging": [
            [
             0,
             "#8e0152"
            ],
            [
             0.1,
             "#c51b7d"
            ],
            [
             0.2,
             "#de77ae"
            ],
            [
             0.3,
             "#f1b6da"
            ],
            [
             0.4,
             "#fde0ef"
            ],
            [
             0.5,
             "#f7f7f7"
            ],
            [
             0.6,
             "#e6f5d0"
            ],
            [
             0.7,
             "#b8e186"
            ],
            [
             0.8,
             "#7fbc41"
            ],
            [
             0.9,
             "#4d9221"
            ],
            [
             1,
             "#276419"
            ]
           ],
           "sequential": [
            [
             0,
             "#0d0887"
            ],
            [
             0.1111111111111111,
             "#46039f"
            ],
            [
             0.2222222222222222,
             "#7201a8"
            ],
            [
             0.3333333333333333,
             "#9c179e"
            ],
            [
             0.4444444444444444,
             "#bd3786"
            ],
            [
             0.5555555555555556,
             "#d8576b"
            ],
            [
             0.6666666666666666,
             "#ed7953"
            ],
            [
             0.7777777777777778,
             "#fb9f3a"
            ],
            [
             0.8888888888888888,
             "#fdca26"
            ],
            [
             1,
             "#f0f921"
            ]
           ],
           "sequentialminus": [
            [
             0,
             "#0d0887"
            ],
            [
             0.1111111111111111,
             "#46039f"
            ],
            [
             0.2222222222222222,
             "#7201a8"
            ],
            [
             0.3333333333333333,
             "#9c179e"
            ],
            [
             0.4444444444444444,
             "#bd3786"
            ],
            [
             0.5555555555555556,
             "#d8576b"
            ],
            [
             0.6666666666666666,
             "#ed7953"
            ],
            [
             0.7777777777777778,
             "#fb9f3a"
            ],
            [
             0.8888888888888888,
             "#fdca26"
            ],
            [
             1,
             "#f0f921"
            ]
           ]
          },
          "colorway": [
           "#636efa",
           "#EF553B",
           "#00cc96",
           "#ab63fa",
           "#FFA15A",
           "#19d3f3",
           "#FF6692",
           "#B6E880",
           "#FF97FF",
           "#FECB52"
          ],
          "font": {
           "color": "#2a3f5f"
          },
          "geo": {
           "bgcolor": "white",
           "lakecolor": "white",
           "landcolor": "#E5ECF6",
           "showlakes": true,
           "showland": true,
           "subunitcolor": "white"
          },
          "hoverlabel": {
           "align": "left"
          },
          "hovermode": "closest",
          "mapbox": {
           "style": "light"
          },
          "paper_bgcolor": "white",
          "plot_bgcolor": "#E5ECF6",
          "polar": {
           "angularaxis": {
            "gridcolor": "white",
            "linecolor": "white",
            "ticks": ""
           },
           "bgcolor": "#E5ECF6",
           "radialaxis": {
            "gridcolor": "white",
            "linecolor": "white",
            "ticks": ""
           }
          },
          "scene": {
           "xaxis": {
            "backgroundcolor": "#E5ECF6",
            "gridcolor": "white",
            "gridwidth": 2,
            "linecolor": "white",
            "showbackground": true,
            "ticks": "",
            "zerolinecolor": "white"
           },
           "yaxis": {
            "backgroundcolor": "#E5ECF6",
            "gridcolor": "white",
            "gridwidth": 2,
            "linecolor": "white",
            "showbackground": true,
            "ticks": "",
            "zerolinecolor": "white"
           },
           "zaxis": {
            "backgroundcolor": "#E5ECF6",
            "gridcolor": "white",
            "gridwidth": 2,
            "linecolor": "white",
            "showbackground": true,
            "ticks": "",
            "zerolinecolor": "white"
           }
          },
          "shapedefaults": {
           "line": {
            "color": "#2a3f5f"
           }
          },
          "ternary": {
           "aaxis": {
            "gridcolor": "white",
            "linecolor": "white",
            "ticks": ""
           },
           "baxis": {
            "gridcolor": "white",
            "linecolor": "white",
            "ticks": ""
           },
           "bgcolor": "#E5ECF6",
           "caxis": {
            "gridcolor": "white",
            "linecolor": "white",
            "ticks": ""
           }
          },
          "title": {
           "x": 0.05
          },
          "xaxis": {
           "automargin": true,
           "gridcolor": "white",
           "linecolor": "white",
           "ticks": "",
           "title": {
            "standoff": 15
           },
           "zerolinecolor": "white",
           "zerolinewidth": 2
          },
          "yaxis": {
           "automargin": true,
           "gridcolor": "white",
           "linecolor": "white",
           "ticks": "",
           "title": {
            "standoff": 15
           },
           "zerolinecolor": "white",
           "zerolinewidth": 2
          }
         }
        },
        "title": {
         "font": {
          "color": "black",
          "family": "Arial",
          "size": 20
         },
         "text": "Federal Reserve Employment Assessment (2019-2024)",
         "x": 0.5,
         "xanchor": "center",
         "y": 0.95,
         "yanchor": "top"
        },
        "width": 1000,
        "xaxis": {
         "dtick": "M3",
         "gridcolor": "lightgray",
         "gridwidth": 1,
         "showgrid": true,
         "tickfont": {
          "color": "black",
          "family": "Arial",
          "size": 12
         },
         "tickformat": "%b\n%Y",
         "title": {
          "font": {
           "color": "black",
           "family": "Arial",
           "size": 16
          },
          "text": "FOMC Meeting Date"
         },
         "zeroline": false
        },
        "yaxis": {
         "gridcolor": "lightgray",
         "gridwidth": 1,
         "showgrid": true,
         "tickfont": {
          "color": "black",
          "family": "Arial",
          "size": 12
         },
         "title": {
          "font": {
           "color": "black",
           "family": "Arial",
           "size": 16
          },
          "text": "Employment Level Score"
         },
         "zeroline": true,
         "zerolinecolor": "black",
         "zerolinewidth": 1
        }
       }
      }
     },
     "metadata": {},
     "output_type": "display_data"
    }
   ],
   "source": [
    "import plotly.graph_objects as go\n",
    "import pandas as pd\n",
    "import numpy as np\n",
    "from datetime import datetime\n",
    "\n",
    "# Convert date to datetime if it's not already\n",
    "if not pd.api.types.is_datetime64_any_dtype(df['date']):\n",
    "    df['date'] = pd.to_datetime(df['date'])\n",
    "\n",
    "# Filter data for our time range (2019-01 to 2024-01)\n",
    "mask = (df['date'] >= '2011-01-01') & (df['date'] <= '2025-01-31')\n",
    "filtered_df = df.loc[mask].copy()\n",
    "\n",
    "# Make sure the data is sorted by date\n",
    "filtered_df = filtered_df.sort_values('date')\n",
    "\n",
    "# Key events with dates and descriptions\n",
    "key_events = [\n",
    "    {'date': '2020-04-29', 'description': 'FED acknowledges significant drop in employment', 'color': 'red'},\n",
    "    {'date': '2021-01-27', 'description': 'FED acknowledges recovery begins', 'color': 'green'},\n",
    "    {'date': '2022-05-04', 'description': 'Peak labor market tightness', 'color': 'purple'},\n",
    "    {'date': '2022-07-27', 'description': 'FED: \"We need to see the labor market cool\"', 'color': 'orange'},\n",
    "    {'date': '2023-11-01', 'description': 'FED: \"Balanced, non overheated\"', 'color': 'blue'}\n",
    "]\n",
    "\n",
    "# Create the plot\n",
    "fig = go.Figure()\n",
    "\n",
    "# Add a simple line with markers\n",
    "fig.add_trace(\n",
    "    go.Scatter(\n",
    "        x=filtered_df['date'], \n",
    "        y=filtered_df['employment_level_score'],\n",
    "        mode='lines+markers',\n",
    "        name='Employment Level Score',\n",
    "        line=dict(color='#3366CC', width=2.5),\n",
    "        marker=dict(\n",
    "            size=8,\n",
    "            color='#3366CC',\n",
    "            line=dict(color='white', width=1)\n",
    "        )\n",
    "    )\n",
    ")\n",
    "\n",
    "# Add reference line at zero with clear styling\n",
    "fig.add_shape(\n",
    "    type=\"line\",\n",
    "    x0=filtered_df['date'].min(),\n",
    "    y0=0,\n",
    "    x1=filtered_df['date'].max(),\n",
    "    y1=0,\n",
    "    line=dict(color=\"black\", width=1, dash=\"dash\"),\n",
    ")\n",
    "\n",
    "# Add key events as vertical lines with clearly visible annotations\n",
    "for event in key_events:\n",
    "    event_date = pd.Timestamp(event['date'])\n",
    "    \n",
    "    # Find the nearest date in our data\n",
    "    nearest_idx = abs(filtered_df['date'] - event_date).argmin()\n",
    "    \n",
    "    # Find the employment score on that date\n",
    "    y_position = filtered_df.iloc[nearest_idx]['employment_level_score']\n",
    "    \n",
    "    # Add vertical line\n",
    "    fig.add_shape(\n",
    "        type=\"line\",\n",
    "        x0=event_date,\n",
    "        y0=filtered_df['employment_level_score'].min() - 0.05,\n",
    "        x1=event_date,\n",
    "        y1=filtered_df['employment_level_score'].max() + 0.05,\n",
    "        line=dict(\n",
    "            color=event['color'],\n",
    "            width=1.5,\n",
    "            dash=\"solid\",\n",
    "        ),\n",
    "    )\n",
    "    \n",
    "    # Add text labels directly on the chart for key events\n",
    "    # Position the annotations strategically so they don't overlap\n",
    "    position_adjustments = {\n",
    "        '2020-04-29': {'x_offset': 0, 'y_offset': 0.08},\n",
    "        '2021-01-27': {'x_offset': 0, 'y_offset': -0.1},\n",
    "        '2022-05-04': {'x_offset': 0, 'y_offset': 0.08},\n",
    "        '2022-07-27': {'x_offset': 0, 'y_offset': -0.08},\n",
    "        '2023-11-01': {'x_offset': 0, 'y_offset': 0.1}\n",
    "    }\n",
    "    \n",
    "    adj = position_adjustments.get(event['date'], {'x_offset': 0, 'y_offset': 0})\n",
    "    \n",
    "    # Create short labels for static display\n",
    "    short_labels = {\n",
    "        '2020-04-29': 'COVID impact',\n",
    "        '2021-01-27': 'Recovery begins',\n",
    "        '2022-05-04': 'Peak tightness',\n",
    "        '2022-07-27': 'Pivot in narrative',\n",
    "        '2023-11-01': 'Balanced, non overheated'\n",
    "    }\n",
    "    \n",
    "    # Add clear text labels\n",
    "    fig.add_annotation(\n",
    "        x=event_date,\n",
    "        y=y_position + adj['y_offset'],\n",
    "        text=short_labels.get(event['date'], event['description']),\n",
    "        showarrow=False,\n",
    "        font=dict(size=12, color=event['color'], family=\"Arial\", weight=\"bold\"),\n",
    "        align=\"center\",\n",
    "        bgcolor=\"rgba(255, 255, 255, 0.9)\",\n",
    "        bordercolor=event['color'],\n",
    "        borderwidth=2,\n",
    "        borderpad=3\n",
    "    )\n",
    "\n",
    "# Add recession shading for COVID period\n",
    "fig.add_shape(\n",
    "    type=\"rect\",\n",
    "    x0=\"2020-02-15\", \n",
    "    x1=\"2020-07-15\",\n",
    "    y0=filtered_df['employment_level_score'].min() - 0.1,\n",
    "    y1=filtered_df['employment_level_score'].max() + 0.1,\n",
    "    fillcolor=\"rgba(128, 128, 128, 0.2)\", \n",
    "    line=dict(width=0),\n",
    "    layer=\"below\"\n",
    ")\n",
    "\n",
    "# Add clear text label for COVID recession\n",
    "fig.add_annotation(\n",
    "    x=pd.Timestamp(\"2020-04-15\"),\n",
    "    y=filtered_df['employment_level_score'].max() + 0.1,\n",
    "    text=\"COVID Recession\",\n",
    "    showarrow=False,\n",
    "    font=dict(size=14, color=\"black\"),\n",
    "    align=\"center\",\n",
    "    bgcolor=\"rgba(255, 255, 255, 0.8)\",\n",
    "    bordercolor=\"black\",\n",
    "    borderwidth=1,\n",
    "    borderpad=3\n",
    ")\n",
    "\n",
    "# Update layout with clear, print-friendly styling\n",
    "fig.update_layout(\n",
    "    title={\n",
    "        'text': 'Federal Reserve Employment Assessment (2019-2024)',\n",
    "        'y':0.95,\n",
    "        'x':0.5,\n",
    "        'xanchor': 'center',\n",
    "        'yanchor': 'top',\n",
    "        'font': dict(size=20, family=\"Arial\", color=\"black\")\n",
    "    },\n",
    "    showlegend=False,  # No legend needed for static display\n",
    "    plot_bgcolor='white',\n",
    "    paper_bgcolor='white',\n",
    "    height=600,\n",
    "    width=1000,\n",
    "    margin=dict(l=80, r=60, t=100, b=80)\n",
    ")\n",
    "\n",
    "# Use update_xaxes and update_yaxes with print-friendly settings\n",
    "fig.update_xaxes(\n",
    "    title_text=\"FOMC Meeting Date\",\n",
    "    title_font=dict(size=16, family=\"Arial\", color=\"black\"),\n",
    "    showgrid=True,\n",
    "    gridcolor='lightgray',\n",
    "    gridwidth=1,\n",
    "    dtick=\"M3\",\n",
    "    tickformat=\"%b\\n%Y\",\n",
    "    tickfont=dict(size=12, family=\"Arial\", color=\"black\"),\n",
    "    zeroline=False\n",
    ")\n",
    "\n",
    "fig.update_yaxes(\n",
    "    title_text=\"Employment Level Score\",\n",
    "    title_font=dict(size=16, family=\"Arial\", color=\"black\"),\n",
    "    showgrid=True,\n",
    "    gridcolor='lightgray',\n",
    "    gridwidth=1,\n",
    "    zeroline=True,\n",
    "    zerolinecolor='black',\n",
    "    zerolinewidth=1,\n",
    "    tickfont=dict(size=12, family=\"Arial\", color=\"black\")\n",
    ")\n",
    "\n",
    "# Add static text annotations explaining the scores\n",
    "fig.add_annotation(\n",
    "    x=pd.Timestamp(\"2019-06-15\"),\n",
    "    y=0.15,\n",
    "    text=\"↑ Improving Employment\",\n",
    "    showarrow=False,\n",
    "    font=dict(size=14, color=\"#3366CC\"),\n",
    "    align=\"left\",\n",
    "    bgcolor=\"white\",\n",
    "    bordercolor=\"#3366CC\",\n",
    "    borderwidth=1,\n",
    "    borderpad=3\n",
    ")\n",
    "\n",
    "fig.add_annotation(\n",
    "    x=pd.Timestamp(\"2019-06-15\"),\n",
    "    y=-0.15,\n",
    "    text=\"↓ Deteriorating Employment\",\n",
    "    showarrow=False,\n",
    "    font=dict(size=14, color=\"#3366CC\"),\n",
    "    align=\"left\",\n",
    "    bgcolor=\"white\",\n",
    "    bordercolor=\"#3366CC\",\n",
    "    borderwidth=1,\n",
    "    borderpad=3\n",
    ")\n",
    "\n",
    "# Show the figure\n",
    "fig.show()\n",
    "\n",
    "# Save as a static image for presentations\n",
    "fig.write_image(\"fed_employment_assessment_static.png\", scale=2)  # Higher scale for better resolution\n",
    "\n",
    "# Save as HTML just in case\n",
    "fig.write_html(\"fed_employment_assessment_static.html\")"
   ]
  },
  {
   "cell_type": "code",
   "execution_count": 19,
   "metadata": {},
   "outputs": [
    {
     "data": {
      "application/vnd.plotly.v1+json": {
       "config": {
        "plotlyServerURL": "https://plot.ly"
       },
       "data": [
        {
         "line": {
          "color": "#1F77B4",
          "width": 2.5
         },
         "marker": {
          "color": "#1F77B4",
          "line": {
           "color": "white",
           "width": 1
          },
          "size": 8
         },
         "mode": "lines+markers",
         "name": "Inflation Level",
         "type": "scatter",
         "x": [
          "2019-01-30T00:00:00.000000000",
          "2019-03-20T00:00:00.000000000",
          "2019-05-01T00:00:00.000000000",
          "2019-06-19T00:00:00.000000000",
          "2019-07-31T00:00:00.000000000",
          "2019-09-18T00:00:00.000000000",
          "2019-10-30T00:00:00.000000000",
          "2019-12-11T00:00:00.000000000",
          "2020-01-29T00:00:00.000000000",
          "2020-03-03T00:00:00.000000000",
          "2020-03-15T00:00:00.000000000",
          "2020-04-29T00:00:00.000000000",
          "2020-06-10T00:00:00.000000000",
          "2020-07-29T00:00:00.000000000",
          "2020-09-16T00:00:00.000000000",
          "2020-11-05T00:00:00.000000000",
          "2020-12-16T00:00:00.000000000",
          "2021-01-27T00:00:00.000000000",
          "2021-03-17T00:00:00.000000000",
          "2021-04-28T00:00:00.000000000",
          "2021-06-16T00:00:00.000000000",
          "2021-07-28T00:00:00.000000000",
          "2021-09-22T00:00:00.000000000",
          "2021-11-03T00:00:00.000000000",
          "2021-12-15T00:00:00.000000000",
          "2022-01-26T00:00:00.000000000",
          "2022-03-16T00:00:00.000000000",
          "2022-05-04T00:00:00.000000000",
          "2022-06-15T00:00:00.000000000",
          "2022-07-27T00:00:00.000000000",
          "2022-09-21T00:00:00.000000000",
          "2022-11-02T00:00:00.000000000",
          "2022-12-14T00:00:00.000000000",
          "2023-02-01T00:00:00.000000000",
          "2023-03-22T00:00:00.000000000",
          "2023-05-03T00:00:00.000000000",
          "2023-06-14T00:00:00.000000000",
          "2023-07-26T00:00:00.000000000",
          "2023-09-20T00:00:00.000000000",
          "2023-11-01T00:00:00.000000000",
          "2023-12-13T00:00:00.000000000",
          "2024-01-31T00:00:00.000000000",
          "2024-03-20T00:00:00.000000000",
          "2024-05-01T00:00:00.000000000",
          "2024-06-12T00:00:00.000000000",
          "2024-07-31T00:00:00.000000000",
          "2024-09-18T00:00:00.000000000",
          "2024-11-07T00:00:00.000000000"
         ],
         "y": {
          "bdata": "x3sV+hZhpj8bn0h96YSZPypV2jcda7Q/rTZuiPBNuz9vVSQ9jj6xPztZmvDCr6A/N2RxiAeAuD+kjLy0IcOSvyCqgsXI5KM/ySfq9ogasb930kADp1HEv+RemjlFuLu/GGQoTk/cxr/Ks35UIrTAv0J2kV1/EJ0/MNgmWBgisL+eGP5zqB29v59fle2+r6G/aPdtvwlOgj85PAwQYXJpvxuXhTiFsqk/g/w1jGvOlT+0B6q13huYP1SgjyrOZ6M/qCxp0MKNsD/ZSfda+2W5P0hFNhIeVrw/WFh9vc9ywD84MAptrxevP8D0NDLbvMI/hsCZ0pzvsz8PxUoJBPCpPxwSOi+6p7I/OI6+b+yHcz/JOWNA5qu0Pz6ODWUk160/WxbFGZFskz/cQJczwX6xP3H2GSGY5rc/txnEVBjatT92Eyueo3GjP7P0wtEa5LA/AyhiUnZrqz/lqUVyFACYP8S12goKEKM/+5GBpx5Kmj9E+WNtt3G2P6G0lb4u0LY/",
          "dtype": "f8"
         }
        }
       ],
       "layout": {
        "annotations": [
         {
          "align": "center",
          "bgcolor": "rgba(255, 255, 255, 0.9)",
          "bordercolor": "red",
          "borderpad": 3,
          "borderwidth": 2,
          "font": {
           "color": "red",
           "family": "Arial",
           "size": 12,
           "weight": "bold"
          },
          "showarrow": false,
          "text": "COVID Impact",
          "x": "2020-03-15T00:00:00",
          "y": 0.14125816670562538
         },
         {
          "align": "center",
          "bgcolor": "rgba(255, 255, 255, 0.9)",
          "bordercolor": "orange",
          "borderpad": 3,
          "borderwidth": 2,
          "font": {
           "color": "orange",
           "family": "Arial",
           "size": 12,
           "weight": "bold"
          },
          "showarrow": false,
          "text": "Transitory Inflation",
          "x": "2020-09-16T00:00:00",
          "y": -0.2716167544498917
         },
         {
          "align": "center",
          "bgcolor": "rgba(255, 255, 255, 0.9)",
          "bordercolor": "purple",
          "borderpad": 3,
          "borderwidth": 2,
          "font": {
           "color": "purple",
           "family": "Arial",
           "size": 12,
           "weight": "bold"
          },
          "showarrow": false,
          "text": "Inflation Peak",
          "x": "2022-07-27T00:00:00",
          "y": 0.2463884349013025
         },
         {
          "align": "center",
          "bgcolor": "rgba(255, 255, 255, 0.9)",
          "bordercolor": "green",
          "borderpad": 3,
          "borderwidth": 2,
          "font": {
           "color": "green",
           "family": "Arial",
           "size": 12,
           "weight": "bold"
          },
          "showarrow": false,
          "text": "Inflation Stabilization",
          "x": "2024-01-31T00:00:00",
          "y": -0.03401939753407
         },
         {
          "align": "center",
          "bgcolor": "rgba(255, 255, 255, 0.8)",
          "bordercolor": "black",
          "borderpad": 3,
          "borderwidth": 1,
          "font": {
           "color": "black",
           "size": 14
          },
          "showarrow": false,
          "text": "COVID Recession",
          "x": "2020-04-15T00:00:00",
          "y": 0.3463884349013025
         },
         {
          "align": "left",
          "bgcolor": "white",
          "bordercolor": "#1F77B4",
          "borderpad": 3,
          "borderwidth": 1,
          "font": {
           "color": "#1F77B4",
           "size": 14
          },
          "showarrow": false,
          "text": "↑ Rising Inflation",
          "x": "2019-03-01T00:00:00",
          "y": 0.117110747921042
         },
         {
          "align": "left",
          "bgcolor": "white",
          "bordercolor": "#1F77B4",
          "borderpad": 3,
          "borderwidth": 1,
          "font": {
           "color": "#1F77B4",
           "size": 14
          },
          "showarrow": false,
          "text": "↓ Falling Inflation",
          "x": "2019-03-01T00:00:00",
          "y": -0.14287865689314058
         }
        ],
        "height": 600,
        "margin": {
         "b": 80,
         "l": 80,
         "r": 60,
         "t": 100
        },
        "paper_bgcolor": "white",
        "plot_bgcolor": "white",
        "shapes": [
         {
          "line": {
           "color": "black",
           "dash": "dash",
           "width": 1
          },
          "type": "line",
          "x0": "2019-01-30T00:00:00",
          "x1": "2024-11-07T00:00:00",
          "y0": 0,
          "y1": 0
         },
         {
          "line": {
           "color": "red",
           "dash": "solid",
           "width": 1.5
          },
          "type": "line",
          "x0": "2020-03-15T00:00:00",
          "x1": "2020-03-15T00:00:00",
          "y0": -0.2785983211164257,
          "y1": 0.2463884349013025
         },
         {
          "line": {
           "color": "orange",
           "dash": "solid",
           "width": 1.5
          },
          "type": "line",
          "x0": "2020-09-16T00:00:00",
          "x1": "2020-09-16T00:00:00",
          "y0": -0.2785983211164257,
          "y1": 0.2463884349013025
         },
         {
          "line": {
           "color": "purple",
           "dash": "solid",
           "width": 1.5
          },
          "type": "line",
          "x0": "2022-07-27T00:00:00",
          "x1": "2022-07-27T00:00:00",
          "y0": -0.2785983211164257,
          "y1": 0.2463884349013025
         },
         {
          "line": {
           "color": "green",
           "dash": "solid",
           "width": 1.5
          },
          "type": "line",
          "x0": "2024-01-31T00:00:00",
          "x1": "2024-01-31T00:00:00",
          "y0": -0.2785983211164257,
          "y1": 0.2463884349013025
         },
         {
          "fillcolor": "rgba(128, 128, 128, 0.2)",
          "layer": "below",
          "line": {
           "width": 0
          },
          "type": "rect",
          "x0": "2020-02-15",
          "x1": "2020-07-15",
          "y0": -0.3785983211164257,
          "y1": 0.3463884349013025
         }
        ],
        "showlegend": false,
        "template": {
         "data": {
          "bar": [
           {
            "error_x": {
             "color": "#2a3f5f"
            },
            "error_y": {
             "color": "#2a3f5f"
            },
            "marker": {
             "line": {
              "color": "#E5ECF6",
              "width": 0.5
             },
             "pattern": {
              "fillmode": "overlay",
              "size": 10,
              "solidity": 0.2
             }
            },
            "type": "bar"
           }
          ],
          "barpolar": [
           {
            "marker": {
             "line": {
              "color": "#E5ECF6",
              "width": 0.5
             },
             "pattern": {
              "fillmode": "overlay",
              "size": 10,
              "solidity": 0.2
             }
            },
            "type": "barpolar"
           }
          ],
          "carpet": [
           {
            "aaxis": {
             "endlinecolor": "#2a3f5f",
             "gridcolor": "white",
             "linecolor": "white",
             "minorgridcolor": "white",
             "startlinecolor": "#2a3f5f"
            },
            "baxis": {
             "endlinecolor": "#2a3f5f",
             "gridcolor": "white",
             "linecolor": "white",
             "minorgridcolor": "white",
             "startlinecolor": "#2a3f5f"
            },
            "type": "carpet"
           }
          ],
          "choropleth": [
           {
            "colorbar": {
             "outlinewidth": 0,
             "ticks": ""
            },
            "type": "choropleth"
           }
          ],
          "contour": [
           {
            "colorbar": {
             "outlinewidth": 0,
             "ticks": ""
            },
            "colorscale": [
             [
              0,
              "#0d0887"
             ],
             [
              0.1111111111111111,
              "#46039f"
             ],
             [
              0.2222222222222222,
              "#7201a8"
             ],
             [
              0.3333333333333333,
              "#9c179e"
             ],
             [
              0.4444444444444444,
              "#bd3786"
             ],
             [
              0.5555555555555556,
              "#d8576b"
             ],
             [
              0.6666666666666666,
              "#ed7953"
             ],
             [
              0.7777777777777778,
              "#fb9f3a"
             ],
             [
              0.8888888888888888,
              "#fdca26"
             ],
             [
              1,
              "#f0f921"
             ]
            ],
            "type": "contour"
           }
          ],
          "contourcarpet": [
           {
            "colorbar": {
             "outlinewidth": 0,
             "ticks": ""
            },
            "type": "contourcarpet"
           }
          ],
          "heatmap": [
           {
            "colorbar": {
             "outlinewidth": 0,
             "ticks": ""
            },
            "colorscale": [
             [
              0,
              "#0d0887"
             ],
             [
              0.1111111111111111,
              "#46039f"
             ],
             [
              0.2222222222222222,
              "#7201a8"
             ],
             [
              0.3333333333333333,
              "#9c179e"
             ],
             [
              0.4444444444444444,
              "#bd3786"
             ],
             [
              0.5555555555555556,
              "#d8576b"
             ],
             [
              0.6666666666666666,
              "#ed7953"
             ],
             [
              0.7777777777777778,
              "#fb9f3a"
             ],
             [
              0.8888888888888888,
              "#fdca26"
             ],
             [
              1,
              "#f0f921"
             ]
            ],
            "type": "heatmap"
           }
          ],
          "histogram": [
           {
            "marker": {
             "pattern": {
              "fillmode": "overlay",
              "size": 10,
              "solidity": 0.2
             }
            },
            "type": "histogram"
           }
          ],
          "histogram2d": [
           {
            "colorbar": {
             "outlinewidth": 0,
             "ticks": ""
            },
            "colorscale": [
             [
              0,
              "#0d0887"
             ],
             [
              0.1111111111111111,
              "#46039f"
             ],
             [
              0.2222222222222222,
              "#7201a8"
             ],
             [
              0.3333333333333333,
              "#9c179e"
             ],
             [
              0.4444444444444444,
              "#bd3786"
             ],
             [
              0.5555555555555556,
              "#d8576b"
             ],
             [
              0.6666666666666666,
              "#ed7953"
             ],
             [
              0.7777777777777778,
              "#fb9f3a"
             ],
             [
              0.8888888888888888,
              "#fdca26"
             ],
             [
              1,
              "#f0f921"
             ]
            ],
            "type": "histogram2d"
           }
          ],
          "histogram2dcontour": [
           {
            "colorbar": {
             "outlinewidth": 0,
             "ticks": ""
            },
            "colorscale": [
             [
              0,
              "#0d0887"
             ],
             [
              0.1111111111111111,
              "#46039f"
             ],
             [
              0.2222222222222222,
              "#7201a8"
             ],
             [
              0.3333333333333333,
              "#9c179e"
             ],
             [
              0.4444444444444444,
              "#bd3786"
             ],
             [
              0.5555555555555556,
              "#d8576b"
             ],
             [
              0.6666666666666666,
              "#ed7953"
             ],
             [
              0.7777777777777778,
              "#fb9f3a"
             ],
             [
              0.8888888888888888,
              "#fdca26"
             ],
             [
              1,
              "#f0f921"
             ]
            ],
            "type": "histogram2dcontour"
           }
          ],
          "mesh3d": [
           {
            "colorbar": {
             "outlinewidth": 0,
             "ticks": ""
            },
            "type": "mesh3d"
           }
          ],
          "parcoords": [
           {
            "line": {
             "colorbar": {
              "outlinewidth": 0,
              "ticks": ""
             }
            },
            "type": "parcoords"
           }
          ],
          "pie": [
           {
            "automargin": true,
            "type": "pie"
           }
          ],
          "scatter": [
           {
            "fillpattern": {
             "fillmode": "overlay",
             "size": 10,
             "solidity": 0.2
            },
            "type": "scatter"
           }
          ],
          "scatter3d": [
           {
            "line": {
             "colorbar": {
              "outlinewidth": 0,
              "ticks": ""
             }
            },
            "marker": {
             "colorbar": {
              "outlinewidth": 0,
              "ticks": ""
             }
            },
            "type": "scatter3d"
           }
          ],
          "scattercarpet": [
           {
            "marker": {
             "colorbar": {
              "outlinewidth": 0,
              "ticks": ""
             }
            },
            "type": "scattercarpet"
           }
          ],
          "scattergeo": [
           {
            "marker": {
             "colorbar": {
              "outlinewidth": 0,
              "ticks": ""
             }
            },
            "type": "scattergeo"
           }
          ],
          "scattergl": [
           {
            "marker": {
             "colorbar": {
              "outlinewidth": 0,
              "ticks": ""
             }
            },
            "type": "scattergl"
           }
          ],
          "scattermap": [
           {
            "marker": {
             "colorbar": {
              "outlinewidth": 0,
              "ticks": ""
             }
            },
            "type": "scattermap"
           }
          ],
          "scattermapbox": [
           {
            "marker": {
             "colorbar": {
              "outlinewidth": 0,
              "ticks": ""
             }
            },
            "type": "scattermapbox"
           }
          ],
          "scatterpolar": [
           {
            "marker": {
             "colorbar": {
              "outlinewidth": 0,
              "ticks": ""
             }
            },
            "type": "scatterpolar"
           }
          ],
          "scatterpolargl": [
           {
            "marker": {
             "colorbar": {
              "outlinewidth": 0,
              "ticks": ""
             }
            },
            "type": "scatterpolargl"
           }
          ],
          "scatterternary": [
           {
            "marker": {
             "colorbar": {
              "outlinewidth": 0,
              "ticks": ""
             }
            },
            "type": "scatterternary"
           }
          ],
          "surface": [
           {
            "colorbar": {
             "outlinewidth": 0,
             "ticks": ""
            },
            "colorscale": [
             [
              0,
              "#0d0887"
             ],
             [
              0.1111111111111111,
              "#46039f"
             ],
             [
              0.2222222222222222,
              "#7201a8"
             ],
             [
              0.3333333333333333,
              "#9c179e"
             ],
             [
              0.4444444444444444,
              "#bd3786"
             ],
             [
              0.5555555555555556,
              "#d8576b"
             ],
             [
              0.6666666666666666,
              "#ed7953"
             ],
             [
              0.7777777777777778,
              "#fb9f3a"
             ],
             [
              0.8888888888888888,
              "#fdca26"
             ],
             [
              1,
              "#f0f921"
             ]
            ],
            "type": "surface"
           }
          ],
          "table": [
           {
            "cells": {
             "fill": {
              "color": "#EBF0F8"
             },
             "line": {
              "color": "white"
             }
            },
            "header": {
             "fill": {
              "color": "#C8D4E3"
             },
             "line": {
              "color": "white"
             }
            },
            "type": "table"
           }
          ]
         },
         "layout": {
          "annotationdefaults": {
           "arrowcolor": "#2a3f5f",
           "arrowhead": 0,
           "arrowwidth": 1
          },
          "autotypenumbers": "strict",
          "coloraxis": {
           "colorbar": {
            "outlinewidth": 0,
            "ticks": ""
           }
          },
          "colorscale": {
           "diverging": [
            [
             0,
             "#8e0152"
            ],
            [
             0.1,
             "#c51b7d"
            ],
            [
             0.2,
             "#de77ae"
            ],
            [
             0.3,
             "#f1b6da"
            ],
            [
             0.4,
             "#fde0ef"
            ],
            [
             0.5,
             "#f7f7f7"
            ],
            [
             0.6,
             "#e6f5d0"
            ],
            [
             0.7,
             "#b8e186"
            ],
            [
             0.8,
             "#7fbc41"
            ],
            [
             0.9,
             "#4d9221"
            ],
            [
             1,
             "#276419"
            ]
           ],
           "sequential": [
            [
             0,
             "#0d0887"
            ],
            [
             0.1111111111111111,
             "#46039f"
            ],
            [
             0.2222222222222222,
             "#7201a8"
            ],
            [
             0.3333333333333333,
             "#9c179e"
            ],
            [
             0.4444444444444444,
             "#bd3786"
            ],
            [
             0.5555555555555556,
             "#d8576b"
            ],
            [
             0.6666666666666666,
             "#ed7953"
            ],
            [
             0.7777777777777778,
             "#fb9f3a"
            ],
            [
             0.8888888888888888,
             "#fdca26"
            ],
            [
             1,
             "#f0f921"
            ]
           ],
           "sequentialminus": [
            [
             0,
             "#0d0887"
            ],
            [
             0.1111111111111111,
             "#46039f"
            ],
            [
             0.2222222222222222,
             "#7201a8"
            ],
            [
             0.3333333333333333,
             "#9c179e"
            ],
            [
             0.4444444444444444,
             "#bd3786"
            ],
            [
             0.5555555555555556,
             "#d8576b"
            ],
            [
             0.6666666666666666,
             "#ed7953"
            ],
            [
             0.7777777777777778,
             "#fb9f3a"
            ],
            [
             0.8888888888888888,
             "#fdca26"
            ],
            [
             1,
             "#f0f921"
            ]
           ]
          },
          "colorway": [
           "#636efa",
           "#EF553B",
           "#00cc96",
           "#ab63fa",
           "#FFA15A",
           "#19d3f3",
           "#FF6692",
           "#B6E880",
           "#FF97FF",
           "#FECB52"
          ],
          "font": {
           "color": "#2a3f5f"
          },
          "geo": {
           "bgcolor": "white",
           "lakecolor": "white",
           "landcolor": "#E5ECF6",
           "showlakes": true,
           "showland": true,
           "subunitcolor": "white"
          },
          "hoverlabel": {
           "align": "left"
          },
          "hovermode": "closest",
          "mapbox": {
           "style": "light"
          },
          "paper_bgcolor": "white",
          "plot_bgcolor": "#E5ECF6",
          "polar": {
           "angularaxis": {
            "gridcolor": "white",
            "linecolor": "white",
            "ticks": ""
           },
           "bgcolor": "#E5ECF6",
           "radialaxis": {
            "gridcolor": "white",
            "linecolor": "white",
            "ticks": ""
           }
          },
          "scene": {
           "xaxis": {
            "backgroundcolor": "#E5ECF6",
            "gridcolor": "white",
            "gridwidth": 2,
            "linecolor": "white",
            "showbackground": true,
            "ticks": "",
            "zerolinecolor": "white"
           },
           "yaxis": {
            "backgroundcolor": "#E5ECF6",
            "gridcolor": "white",
            "gridwidth": 2,
            "linecolor": "white",
            "showbackground": true,
            "ticks": "",
            "zerolinecolor": "white"
           },
           "zaxis": {
            "backgroundcolor": "#E5ECF6",
            "gridcolor": "white",
            "gridwidth": 2,
            "linecolor": "white",
            "showbackground": true,
            "ticks": "",
            "zerolinecolor": "white"
           }
          },
          "shapedefaults": {
           "line": {
            "color": "#2a3f5f"
           }
          },
          "ternary": {
           "aaxis": {
            "gridcolor": "white",
            "linecolor": "white",
            "ticks": ""
           },
           "baxis": {
            "gridcolor": "white",
            "linecolor": "white",
            "ticks": ""
           },
           "bgcolor": "#E5ECF6",
           "caxis": {
            "gridcolor": "white",
            "linecolor": "white",
            "ticks": ""
           }
          },
          "title": {
           "x": 0.05
          },
          "xaxis": {
           "automargin": true,
           "gridcolor": "white",
           "linecolor": "white",
           "ticks": "",
           "title": {
            "standoff": 15
           },
           "zerolinecolor": "white",
           "zerolinewidth": 2
          },
          "yaxis": {
           "automargin": true,
           "gridcolor": "white",
           "linecolor": "white",
           "ticks": "",
           "title": {
            "standoff": 15
           },
           "zerolinecolor": "white",
           "zerolinewidth": 2
          }
         }
        },
        "title": {
         "font": {
          "color": "black",
          "family": "Arial",
          "size": 20
         },
         "text": "Federal Reserve Inflation Assessment (2019-2024)",
         "x": 0.5,
         "xanchor": "center",
         "y": 0.95,
         "yanchor": "top"
        },
        "width": 1000,
        "xaxis": {
         "dtick": "M3",
         "gridcolor": "lightgray",
         "gridwidth": 1,
         "showgrid": true,
         "tickfont": {
          "color": "black",
          "family": "Arial",
          "size": 12
         },
         "tickformat": "%b\n%Y",
         "title": {
          "font": {
           "color": "black",
           "family": "Arial",
           "size": 16
          },
          "text": "FOMC Meeting Date"
         },
         "zeroline": false
        },
        "yaxis": {
         "gridcolor": "lightgray",
         "gridwidth": 1,
         "showgrid": true,
         "tickfont": {
          "color": "#1F77B4",
          "family": "Arial",
          "size": 12
         },
         "title": {
          "font": {
           "color": "#1F77B4",
           "family": "Arial",
           "size": 16
          },
          "text": "Inflation Level Score"
         },
         "zeroline": true,
         "zerolinecolor": "black",
         "zerolinewidth": 1
        }
       }
      }
     },
     "metadata": {},
     "output_type": "display_data"
    }
   ],
   "source": [
    "import plotly.graph_objects as go\n",
    "import pandas as pd\n",
    "import numpy as np\n",
    "from datetime import datetime\n",
    "\n",
    "# Convert date to datetime if it's not already\n",
    "if not pd.api.types.is_datetime64_any_dtype(df['date']):\n",
    "    df['date'] = pd.to_datetime(df['date'])\n",
    "\n",
    "# Filter data for our time range (2019-01 to 2024-01)\n",
    "mask = (df['date'] >= '2019-01-01') & (df['date'] <= '2025-01-31')\n",
    "filtered_df = df.loc[mask].copy()\n",
    "\n",
    "# Make sure the data is sorted by date\n",
    "filtered_df = filtered_df.sort_values('date')\n",
    "\n",
    "# Key events with dates and descriptions for inflation\n",
    "key_events = [\n",
    "    {'date': '2020-03-15', 'description': 'COVID Impact', 'color': 'red'},\n",
    "    {'date': '2020-09-16', 'description': 'Transitory Inflation', 'color': 'orange'},\n",
    "    {'date': '2022-07-27', 'description': 'Inflation Peak', 'color': 'purple'},\n",
    "    {'date': '2024-01-31', 'description': 'Inflation Stabilization', 'color': 'green'}\n",
    "]\n",
    "\n",
    "# Create the figure\n",
    "fig = go.Figure()\n",
    "\n",
    "# Add inflation level score\n",
    "fig.add_trace(\n",
    "    go.Scatter(\n",
    "        x=filtered_df['date'], \n",
    "        y=filtered_df['inflation_level_score'],\n",
    "        mode='lines+markers',\n",
    "        name='Inflation Level',\n",
    "        line=dict(color='#1F77B4', width=2.5),  # Blue for inflation level\n",
    "        marker=dict(\n",
    "            size=8,\n",
    "            color='#1F77B4',\n",
    "            line=dict(color='white', width=1)\n",
    "        )\n",
    "    )\n",
    ")\n",
    "\n",
    "# Add reference line at zero\n",
    "fig.add_shape(\n",
    "    type=\"line\",\n",
    "    x0=filtered_df['date'].min(),\n",
    "    y0=0,\n",
    "    x1=filtered_df['date'].max(),\n",
    "    y1=0,\n",
    "    line=dict(color=\"black\", width=1, dash=\"dash\"),\n",
    ")\n",
    "\n",
    "# Add key events as vertical lines with clearly visible annotations\n",
    "for event in key_events:\n",
    "    event_date = pd.Timestamp(event['date'])\n",
    "    \n",
    "    # Find the nearest date in our data\n",
    "    nearest_idx = abs(filtered_df['date'] - event_date).argmin()\n",
    "    \n",
    "    # Find the inflation score on that date (if available)\n",
    "    y_position = 0\n",
    "    if nearest_idx < len(filtered_df):\n",
    "        y_position = filtered_df.iloc[nearest_idx]['inflation_level_score']\n",
    "    \n",
    "    # Add vertical line\n",
    "    fig.add_shape(\n",
    "        type=\"line\",\n",
    "        x0=event_date,\n",
    "        y0=filtered_df['inflation_level_score'].min() - 0.1,\n",
    "        x1=event_date,\n",
    "        y1=filtered_df['inflation_level_score'].max() + 0.1,\n",
    "        line=dict(\n",
    "            color=event['color'],\n",
    "            width=1.5,\n",
    "            dash=\"solid\",\n",
    "        ),\n",
    "    )\n",
    "    \n",
    "    # Position adjustments for annotations to prevent overlap and move out of middle\n",
    "    # Vary the positions based on event date\n",
    "    y_offsets = {\n",
    "        '2020-03-15': 0.3,\n",
    "        '2020-09-16': -0.3,\n",
    "        '2022-07-27': 0.1,\n",
    "        '2024-01-31': -0.1\n",
    "    }\n",
    "    \n",
    "    y_offset = y_offsets.get(event['date'], 0)\n",
    "    \n",
    "    # Add clear text labels\n",
    "    fig.add_annotation(\n",
    "        x=event_date,\n",
    "        y=y_position + y_offset,\n",
    "        text=event['description'],\n",
    "        showarrow=False,\n",
    "        font=dict(size=12, color=event['color'], family=\"Arial\", weight=\"bold\"),\n",
    "        align=\"center\",\n",
    "        bgcolor=\"rgba(255, 255, 255, 0.9)\",\n",
    "        bordercolor=event['color'],\n",
    "        borderwidth=2,\n",
    "        borderpad=3,\n",
    "    )\n",
    "\n",
    "# Add recession shading for COVID period\n",
    "fig.add_shape(\n",
    "    type=\"rect\",\n",
    "    x0=\"2020-02-15\", \n",
    "    x1=\"2020-07-15\",\n",
    "    y0=filtered_df['inflation_level_score'].min() - 0.2,\n",
    "    y1=filtered_df['inflation_level_score'].max() + 0.2,\n",
    "    fillcolor=\"rgba(128, 128, 128, 0.2)\", \n",
    "    line=dict(width=0),\n",
    "    layer=\"below\",\n",
    ")\n",
    "\n",
    "# Add clear text label for COVID recession\n",
    "fig.add_annotation(\n",
    "    x=pd.Timestamp(\"2020-04-15\"),\n",
    "    y=filtered_df['inflation_level_score'].max() + 0.2,\n",
    "    text=\"COVID Recession\",\n",
    "    showarrow=False,\n",
    "    font=dict(size=14, color=\"black\"),\n",
    "    align=\"center\",\n",
    "    bgcolor=\"rgba(255, 255, 255, 0.8)\",\n",
    "    bordercolor=\"black\",\n",
    "    borderwidth=1,\n",
    "    borderpad=3,\n",
    ")\n",
    "\n",
    "# Add annotations for inflation level score - moved to edges\n",
    "fig.add_annotation(\n",
    "    x=pd.Timestamp(\"2019-03-01\"),\n",
    "    y=filtered_df['inflation_level_score'].max() * 0.8,\n",
    "    text=\"↑ Rising Inflation\",\n",
    "    showarrow=False,\n",
    "    font=dict(size=14, color=\"#1F77B4\"),\n",
    "    align=\"left\",\n",
    "    bgcolor=\"white\",\n",
    "    bordercolor=\"#1F77B4\",\n",
    "    borderwidth=1,\n",
    "    borderpad=3,\n",
    ")\n",
    "\n",
    "fig.add_annotation(\n",
    "    x=pd.Timestamp(\"2019-03-01\"),\n",
    "    y=filtered_df['inflation_level_score'].min() * 0.8,\n",
    "    text=\"↓ Falling Inflation\",\n",
    "    showarrow=False,\n",
    "    font=dict(size=14, color=\"#1F77B4\"),\n",
    "    align=\"left\",\n",
    "    bgcolor=\"white\",\n",
    "    bordercolor=\"#1F77B4\",\n",
    "    borderwidth=1,\n",
    "    borderpad=3,\n",
    ")\n",
    "\n",
    "# Update layout with clear, print-friendly styling\n",
    "fig.update_layout(\n",
    "    title={\n",
    "        'text': 'Federal Reserve Inflation Assessment (2019-2024)',\n",
    "        'y':0.95,\n",
    "        'x':0.5,\n",
    "        'xanchor': 'center',\n",
    "        'yanchor': 'top',\n",
    "        'font': dict(size=20, family=\"Arial\", color=\"black\")\n",
    "    },\n",
    "    showlegend=False,  # No legend needed\n",
    "    plot_bgcolor='white',\n",
    "    paper_bgcolor='white',\n",
    "    height=600,\n",
    "    width=1000,\n",
    "    margin=dict(l=80, r=60, t=100, b=80)\n",
    ")\n",
    "\n",
    "# Update x-axis\n",
    "fig.update_xaxes(\n",
    "    title_text=\"FOMC Meeting Date\",\n",
    "    title_font=dict(size=16, family=\"Arial\", color=\"black\"),\n",
    "    showgrid=True,\n",
    "    gridcolor='lightgray',\n",
    "    gridwidth=1,\n",
    "    dtick=\"M3\",\n",
    "    tickformat=\"%b\\n%Y\",\n",
    "    tickfont=dict(size=12, family=\"Arial\", color=\"black\"),\n",
    "    zeroline=False\n",
    ")\n",
    "\n",
    "# Update y-axis\n",
    "fig.update_yaxes(\n",
    "    title_text=\"Inflation Level Score\",\n",
    "    title_font=dict(size=16, family=\"Arial\", color=\"#1F77B4\"),\n",
    "    showgrid=True,\n",
    "    gridcolor='lightgray',\n",
    "    gridwidth=1,\n",
    "    zeroline=True,\n",
    "    zerolinecolor='black',\n",
    "    zerolinewidth=1,\n",
    "    tickfont=dict(size=12, family=\"Arial\", color=\"#1F77B4\"),\n",
    ")\n",
    "\n",
    "# Show the figure\n",
    "fig.show()\n",
    "\n",
    "# Save as a static image for presentations\n",
    "fig.write_image(\"fed_inflation_level_assessment.png\", scale=2)  # Higher scale for better resolution\n",
    "\n",
    "# Save as HTML\n",
    "fig.write_html(\"fed_inflation_level_assessment.html\")"
   ]
  },
  {
   "cell_type": "code",
   "execution_count": 81,
   "metadata": {},
   "outputs": [
    {
     "data": {
      "application/vnd.plotly.v1+json": {
       "config": {
        "plotlyServerURL": "https://plot.ly"
       },
       "data": [
        {
         "line": {
          "color": "#1F77B4",
          "width": 2.5
         },
         "marker": {
          "color": "#1F77B4",
          "line": {
           "color": "white",
           "width": 1
          },
          "size": 8
         },
         "mode": "lines+markers",
         "name": "Interest Rate Trajectory",
         "type": "scatter",
         "x": [
          "2018-03-21T00:00:00.000000000",
          "2018-06-13T00:00:00.000000000",
          "2018-09-26T00:00:00.000000000",
          "2018-12-19T00:00:00.000000000",
          "2019-01-30T00:00:00.000000000",
          "2019-03-20T00:00:00.000000000",
          "2019-05-01T00:00:00.000000000",
          "2019-06-19T00:00:00.000000000",
          "2019-07-31T00:00:00.000000000",
          "2019-09-18T00:00:00.000000000",
          "2019-10-30T00:00:00.000000000",
          "2019-12-11T00:00:00.000000000",
          "2020-01-29T00:00:00.000000000",
          "2020-03-03T00:00:00.000000000",
          "2020-03-15T00:00:00.000000000",
          "2020-04-29T00:00:00.000000000",
          "2020-06-10T00:00:00.000000000",
          "2020-07-29T00:00:00.000000000",
          "2020-09-16T00:00:00.000000000",
          "2020-11-05T00:00:00.000000000",
          "2020-12-16T00:00:00.000000000",
          "2021-01-27T00:00:00.000000000",
          "2021-03-17T00:00:00.000000000",
          "2021-04-28T00:00:00.000000000",
          "2021-06-16T00:00:00.000000000",
          "2021-07-28T00:00:00.000000000",
          "2021-09-22T00:00:00.000000000",
          "2021-11-03T00:00:00.000000000",
          "2021-12-15T00:00:00.000000000",
          "2022-01-26T00:00:00.000000000",
          "2022-03-16T00:00:00.000000000",
          "2022-05-04T00:00:00.000000000",
          "2022-06-15T00:00:00.000000000",
          "2022-07-27T00:00:00.000000000",
          "2022-09-21T00:00:00.000000000",
          "2022-11-02T00:00:00.000000000",
          "2022-12-14T00:00:00.000000000",
          "2023-02-01T00:00:00.000000000",
          "2023-03-22T00:00:00.000000000",
          "2023-05-03T00:00:00.000000000",
          "2023-06-14T00:00:00.000000000",
          "2023-07-26T00:00:00.000000000",
          "2023-09-20T00:00:00.000000000",
          "2023-11-01T00:00:00.000000000",
          "2023-12-13T00:00:00.000000000",
          "2024-01-31T00:00:00.000000000",
          "2024-03-20T00:00:00.000000000",
          "2024-05-01T00:00:00.000000000",
          "2024-06-12T00:00:00.000000000",
          "2024-07-31T00:00:00.000000000",
          "2024-09-18T00:00:00.000000000",
          "2024-11-07T00:00:00.000000000"
         ],
         "y": {
          "bdata": "trhp1Q8DrT/DmohrwmScPw1x/YpKVIg/C8IkVsW/hr/vRUVKfx+qv8ofmiJm/52/aXzPW2B8kb9vjBDuyP+lv62di7GV8LC/caa92vXBsr+Caz66tM2qv6HEA9+2X4M/PX1brXYyn79v6WDysu53vxRGNT1POLS/n9W7BFJxsr8Mj2FbH9a3v8WBTWykirq/HvCySAevur88+wfb2+G5v5CWR54uV76/qM0+8pHLvL8TJVShRf29v2sTThx+uLq/QFyxBWJCuL89jmc6QgDBv3o9AGM6taq/nqPNlhI7s79Fesy8IVmiv87SzspwB3W/w3gUByr0lj+7hQ7yTQWdPwuIHrGqhrQ/KJE9rYePjz9I1CBzCSizP/sqZAd1Cbk/OSeX9yb5sT989xSaJzGrP07U+P8w3Zu/4hxB1txHlb+im9aBCViTP79J63c/oZ0/hWYDoxGMlD/ogVwnrNWRP0j0ml3DjZW/hv+jK4uxqL8emK6cFdauv1CyWqoSVmy/a2K5ulmnmr/apvGnqiGeP6TvUSvMJYo/fO+yiT/xZb8=",
          "dtype": "f8"
         }
        }
       ],
       "layout": {
        "annotations": [
         {
          "align": "center",
          "bgcolor": "rgba(255, 255, 255, 0.9)",
          "bordercolor": "red",
          "borderpad": 3,
          "borderwidth": 2,
          "font": {
           "color": "red",
           "family": "Arial",
           "size": 12,
           "weight": "bold"
          },
          "showarrow": false,
          "text": "Trade War/Volatility",
          "x": "2018-12-19T00:00:00",
          "y": 0.1888920386396469
         },
         {
          "align": "center",
          "bgcolor": "rgba(255, 255, 255, 0.9)",
          "bordercolor": "orange",
          "borderpad": 3,
          "borderwidth": 2,
          "font": {
           "color": "orange",
           "family": "Arial",
           "size": 12,
           "weight": "bold"
          },
          "showarrow": false,
          "text": "\"Appropriate\" Rate",
          "x": "2019-12-11T00:00:00",
          "y": 0.2094599043663684
         },
         {
          "align": "center",
          "bgcolor": "rgba(255, 255, 255, 0.9)",
          "bordercolor": "purple",
          "borderpad": 3,
          "borderwidth": 2,
          "font": {
           "color": "purple",
           "family": "Arial",
           "size": 12,
           "weight": "bold"
          },
          "showarrow": false,
          "text": "Peak Rates",
          "x": "2022-11-02T00:00:00",
          "y": 0.2978005545659179
         },
         {
          "align": "center",
          "bgcolor": "rgba(255, 255, 255, 0.9)",
          "bordercolor": "orange",
          "borderpad": 3,
          "borderwidth": 2,
          "font": {
           "color": "orange",
           "family": "Arial",
           "size": 12,
           "weight": "bold"
          },
          "showarrow": false,
          "text": "Hikes->Plateau",
          "x": "2023-03-22T00:00:00",
          "y": -0.22721096575097122
         },
         {
          "align": "center",
          "bgcolor": "rgba(255, 255, 255, 0.9)",
          "bordercolor": "green",
          "borderpad": 3,
          "borderwidth": 2,
          "font": {
           "color": "green",
           "family": "Arial",
           "size": 12,
           "weight": "bold"
          },
          "showarrow": false,
          "text": "Cuts Later this Year",
          "x": "2024-03-20T00:00:00",
          "y": 0.1397729154813559
         },
         {
          "align": "center",
          "bgcolor": "rgba(255, 255, 255, 0.9)",
          "bordercolor": "blue",
          "borderpad": 3,
          "borderwidth": 2,
          "font": {
           "color": "blue",
           "family": "Arial",
           "size": 12,
           "weight": "bold"
          },
          "showarrow": false,
          "text": "First Cut",
          "x": "2024-09-18T00:00:00",
          "y": -0.18723259442136442
         },
         {
          "align": "center",
          "bgcolor": "rgba(255, 255, 255, 0.8)",
          "bordercolor": "black",
          "borderpad": 3,
          "borderwidth": 1,
          "font": {
           "color": "black",
           "size": 14
          },
          "showarrow": false,
          "text": "COVID Recession",
          "x": "2020-04-15T00:00:00",
          "y": 0.2978005545659179
         },
         {
          "align": "left",
          "bgcolor": "white",
          "bordercolor": "#1F77B4",
          "borderpad": 3,
          "borderwidth": 1,
          "font": {
           "color": "#1F77B4",
           "size": 14
          },
          "showarrow": false,
          "text": "↑ Rising Rates",
          "x": "2018-03-01T00:00:00",
          "y": 0.14670083184887683
         },
         {
          "align": "left",
          "bgcolor": "white",
          "bordercolor": "#1F77B4",
          "borderpad": 3,
          "borderwidth": 1,
          "font": {
           "color": "#1F77B4",
           "size": 14
          },
          "showarrow": false,
          "text": "↓ Falling Rates",
          "x": "2018-03-01T00:00:00",
          "y": -0.1992305925147474
         }
        ],
        "height": 600,
        "margin": {
         "b": 80,
         "l": 80,
         "r": 60,
         "t": 100
        },
        "paper_bgcolor": "white",
        "plot_bgcolor": "white",
        "shapes": [
         {
          "line": {
           "color": "black",
           "dash": "dash",
           "width": 1
          },
          "type": "line",
          "x0": "2018-03-21T00:00:00",
          "x1": "2024-11-07T00:00:00",
          "y0": 0,
          "y1": 0
         },
         {
          "line": {
           "color": "red",
           "dash": "solid",
           "width": 1.5
          },
          "type": "line",
          "x0": "2018-12-19T00:00:00",
          "x1": "2018-12-19T00:00:00",
          "y0": -0.2328203950098316,
          "y1": 0.19780055456591789
         },
         {
          "line": {
           "color": "orange",
           "dash": "solid",
           "width": 1.5
          },
          "type": "line",
          "x0": "2019-12-11T00:00:00",
          "x1": "2019-12-11T00:00:00",
          "y0": -0.2328203950098316,
          "y1": 0.19780055456591789
         },
         {
          "line": {
           "color": "purple",
           "dash": "solid",
           "width": 1.5
          },
          "type": "line",
          "x0": "2022-11-02T00:00:00",
          "x1": "2022-11-02T00:00:00",
          "y0": -0.2328203950098316,
          "y1": 0.19780055456591789
         },
         {
          "line": {
           "color": "orange",
           "dash": "solid",
           "width": 1.5
          },
          "type": "line",
          "x0": "2023-03-22T00:00:00",
          "x1": "2023-03-22T00:00:00",
          "y0": -0.2328203950098316,
          "y1": 0.19780055456591789
         },
         {
          "line": {
           "color": "green",
           "dash": "solid",
           "width": 1.5
          },
          "type": "line",
          "x0": "2024-03-20T00:00:00",
          "x1": "2024-03-20T00:00:00",
          "y0": -0.2328203950098316,
          "y1": 0.19780055456591789
         },
         {
          "line": {
           "color": "blue",
           "dash": "solid",
           "width": 1.5
          },
          "type": "line",
          "x0": "2024-09-18T00:00:00",
          "x1": "2024-09-18T00:00:00",
          "y0": -0.2328203950098316,
          "y1": 0.19780055456591789
         },
         {
          "fillcolor": "rgba(128, 128, 128, 0.2)",
          "layer": "below",
          "line": {
           "width": 0
          },
          "type": "rect",
          "x0": "2020-02-15",
          "x1": "2020-07-15",
          "y0": -0.3328203950098316,
          "y1": 0.2978005545659179
         }
        ],
        "showlegend": false,
        "template": {
         "data": {
          "bar": [
           {
            "error_x": {
             "color": "#2a3f5f"
            },
            "error_y": {
             "color": "#2a3f5f"
            },
            "marker": {
             "line": {
              "color": "#E5ECF6",
              "width": 0.5
             },
             "pattern": {
              "fillmode": "overlay",
              "size": 10,
              "solidity": 0.2
             }
            },
            "type": "bar"
           }
          ],
          "barpolar": [
           {
            "marker": {
             "line": {
              "color": "#E5ECF6",
              "width": 0.5
             },
             "pattern": {
              "fillmode": "overlay",
              "size": 10,
              "solidity": 0.2
             }
            },
            "type": "barpolar"
           }
          ],
          "carpet": [
           {
            "aaxis": {
             "endlinecolor": "#2a3f5f",
             "gridcolor": "white",
             "linecolor": "white",
             "minorgridcolor": "white",
             "startlinecolor": "#2a3f5f"
            },
            "baxis": {
             "endlinecolor": "#2a3f5f",
             "gridcolor": "white",
             "linecolor": "white",
             "minorgridcolor": "white",
             "startlinecolor": "#2a3f5f"
            },
            "type": "carpet"
           }
          ],
          "choropleth": [
           {
            "colorbar": {
             "outlinewidth": 0,
             "ticks": ""
            },
            "type": "choropleth"
           }
          ],
          "contour": [
           {
            "colorbar": {
             "outlinewidth": 0,
             "ticks": ""
            },
            "colorscale": [
             [
              0,
              "#0d0887"
             ],
             [
              0.1111111111111111,
              "#46039f"
             ],
             [
              0.2222222222222222,
              "#7201a8"
             ],
             [
              0.3333333333333333,
              "#9c179e"
             ],
             [
              0.4444444444444444,
              "#bd3786"
             ],
             [
              0.5555555555555556,
              "#d8576b"
             ],
             [
              0.6666666666666666,
              "#ed7953"
             ],
             [
              0.7777777777777778,
              "#fb9f3a"
             ],
             [
              0.8888888888888888,
              "#fdca26"
             ],
             [
              1,
              "#f0f921"
             ]
            ],
            "type": "contour"
           }
          ],
          "contourcarpet": [
           {
            "colorbar": {
             "outlinewidth": 0,
             "ticks": ""
            },
            "type": "contourcarpet"
           }
          ],
          "heatmap": [
           {
            "colorbar": {
             "outlinewidth": 0,
             "ticks": ""
            },
            "colorscale": [
             [
              0,
              "#0d0887"
             ],
             [
              0.1111111111111111,
              "#46039f"
             ],
             [
              0.2222222222222222,
              "#7201a8"
             ],
             [
              0.3333333333333333,
              "#9c179e"
             ],
             [
              0.4444444444444444,
              "#bd3786"
             ],
             [
              0.5555555555555556,
              "#d8576b"
             ],
             [
              0.6666666666666666,
              "#ed7953"
             ],
             [
              0.7777777777777778,
              "#fb9f3a"
             ],
             [
              0.8888888888888888,
              "#fdca26"
             ],
             [
              1,
              "#f0f921"
             ]
            ],
            "type": "heatmap"
           }
          ],
          "histogram": [
           {
            "marker": {
             "pattern": {
              "fillmode": "overlay",
              "size": 10,
              "solidity": 0.2
             }
            },
            "type": "histogram"
           }
          ],
          "histogram2d": [
           {
            "colorbar": {
             "outlinewidth": 0,
             "ticks": ""
            },
            "colorscale": [
             [
              0,
              "#0d0887"
             ],
             [
              0.1111111111111111,
              "#46039f"
             ],
             [
              0.2222222222222222,
              "#7201a8"
             ],
             [
              0.3333333333333333,
              "#9c179e"
             ],
             [
              0.4444444444444444,
              "#bd3786"
             ],
             [
              0.5555555555555556,
              "#d8576b"
             ],
             [
              0.6666666666666666,
              "#ed7953"
             ],
             [
              0.7777777777777778,
              "#fb9f3a"
             ],
             [
              0.8888888888888888,
              "#fdca26"
             ],
             [
              1,
              "#f0f921"
             ]
            ],
            "type": "histogram2d"
           }
          ],
          "histogram2dcontour": [
           {
            "colorbar": {
             "outlinewidth": 0,
             "ticks": ""
            },
            "colorscale": [
             [
              0,
              "#0d0887"
             ],
             [
              0.1111111111111111,
              "#46039f"
             ],
             [
              0.2222222222222222,
              "#7201a8"
             ],
             [
              0.3333333333333333,
              "#9c179e"
             ],
             [
              0.4444444444444444,
              "#bd3786"
             ],
             [
              0.5555555555555556,
              "#d8576b"
             ],
             [
              0.6666666666666666,
              "#ed7953"
             ],
             [
              0.7777777777777778,
              "#fb9f3a"
             ],
             [
              0.8888888888888888,
              "#fdca26"
             ],
             [
              1,
              "#f0f921"
             ]
            ],
            "type": "histogram2dcontour"
           }
          ],
          "mesh3d": [
           {
            "colorbar": {
             "outlinewidth": 0,
             "ticks": ""
            },
            "type": "mesh3d"
           }
          ],
          "parcoords": [
           {
            "line": {
             "colorbar": {
              "outlinewidth": 0,
              "ticks": ""
             }
            },
            "type": "parcoords"
           }
          ],
          "pie": [
           {
            "automargin": true,
            "type": "pie"
           }
          ],
          "scatter": [
           {
            "fillpattern": {
             "fillmode": "overlay",
             "size": 10,
             "solidity": 0.2
            },
            "type": "scatter"
           }
          ],
          "scatter3d": [
           {
            "line": {
             "colorbar": {
              "outlinewidth": 0,
              "ticks": ""
             }
            },
            "marker": {
             "colorbar": {
              "outlinewidth": 0,
              "ticks": ""
             }
            },
            "type": "scatter3d"
           }
          ],
          "scattercarpet": [
           {
            "marker": {
             "colorbar": {
              "outlinewidth": 0,
              "ticks": ""
             }
            },
            "type": "scattercarpet"
           }
          ],
          "scattergeo": [
           {
            "marker": {
             "colorbar": {
              "outlinewidth": 0,
              "ticks": ""
             }
            },
            "type": "scattergeo"
           }
          ],
          "scattergl": [
           {
            "marker": {
             "colorbar": {
              "outlinewidth": 0,
              "ticks": ""
             }
            },
            "type": "scattergl"
           }
          ],
          "scattermap": [
           {
            "marker": {
             "colorbar": {
              "outlinewidth": 0,
              "ticks": ""
             }
            },
            "type": "scattermap"
           }
          ],
          "scattermapbox": [
           {
            "marker": {
             "colorbar": {
              "outlinewidth": 0,
              "ticks": ""
             }
            },
            "type": "scattermapbox"
           }
          ],
          "scatterpolar": [
           {
            "marker": {
             "colorbar": {
              "outlinewidth": 0,
              "ticks": ""
             }
            },
            "type": "scatterpolar"
           }
          ],
          "scatterpolargl": [
           {
            "marker": {
             "colorbar": {
              "outlinewidth": 0,
              "ticks": ""
             }
            },
            "type": "scatterpolargl"
           }
          ],
          "scatterternary": [
           {
            "marker": {
             "colorbar": {
              "outlinewidth": 0,
              "ticks": ""
             }
            },
            "type": "scatterternary"
           }
          ],
          "surface": [
           {
            "colorbar": {
             "outlinewidth": 0,
             "ticks": ""
            },
            "colorscale": [
             [
              0,
              "#0d0887"
             ],
             [
              0.1111111111111111,
              "#46039f"
             ],
             [
              0.2222222222222222,
              "#7201a8"
             ],
             [
              0.3333333333333333,
              "#9c179e"
             ],
             [
              0.4444444444444444,
              "#bd3786"
             ],
             [
              0.5555555555555556,
              "#d8576b"
             ],
             [
              0.6666666666666666,
              "#ed7953"
             ],
             [
              0.7777777777777778,
              "#fb9f3a"
             ],
             [
              0.8888888888888888,
              "#fdca26"
             ],
             [
              1,
              "#f0f921"
             ]
            ],
            "type": "surface"
           }
          ],
          "table": [
           {
            "cells": {
             "fill": {
              "color": "#EBF0F8"
             },
             "line": {
              "color": "white"
             }
            },
            "header": {
             "fill": {
              "color": "#C8D4E3"
             },
             "line": {
              "color": "white"
             }
            },
            "type": "table"
           }
          ]
         },
         "layout": {
          "annotationdefaults": {
           "arrowcolor": "#2a3f5f",
           "arrowhead": 0,
           "arrowwidth": 1
          },
          "autotypenumbers": "strict",
          "coloraxis": {
           "colorbar": {
            "outlinewidth": 0,
            "ticks": ""
           }
          },
          "colorscale": {
           "diverging": [
            [
             0,
             "#8e0152"
            ],
            [
             0.1,
             "#c51b7d"
            ],
            [
             0.2,
             "#de77ae"
            ],
            [
             0.3,
             "#f1b6da"
            ],
            [
             0.4,
             "#fde0ef"
            ],
            [
             0.5,
             "#f7f7f7"
            ],
            [
             0.6,
             "#e6f5d0"
            ],
            [
             0.7,
             "#b8e186"
            ],
            [
             0.8,
             "#7fbc41"
            ],
            [
             0.9,
             "#4d9221"
            ],
            [
             1,
             "#276419"
            ]
           ],
           "sequential": [
            [
             0,
             "#0d0887"
            ],
            [
             0.1111111111111111,
             "#46039f"
            ],
            [
             0.2222222222222222,
             "#7201a8"
            ],
            [
             0.3333333333333333,
             "#9c179e"
            ],
            [
             0.4444444444444444,
             "#bd3786"
            ],
            [
             0.5555555555555556,
             "#d8576b"
            ],
            [
             0.6666666666666666,
             "#ed7953"
            ],
            [
             0.7777777777777778,
             "#fb9f3a"
            ],
            [
             0.8888888888888888,
             "#fdca26"
            ],
            [
             1,
             "#f0f921"
            ]
           ],
           "sequentialminus": [
            [
             0,
             "#0d0887"
            ],
            [
             0.1111111111111111,
             "#46039f"
            ],
            [
             0.2222222222222222,
             "#7201a8"
            ],
            [
             0.3333333333333333,
             "#9c179e"
            ],
            [
             0.4444444444444444,
             "#bd3786"
            ],
            [
             0.5555555555555556,
             "#d8576b"
            ],
            [
             0.6666666666666666,
             "#ed7953"
            ],
            [
             0.7777777777777778,
             "#fb9f3a"
            ],
            [
             0.8888888888888888,
             "#fdca26"
            ],
            [
             1,
             "#f0f921"
            ]
           ]
          },
          "colorway": [
           "#636efa",
           "#EF553B",
           "#00cc96",
           "#ab63fa",
           "#FFA15A",
           "#19d3f3",
           "#FF6692",
           "#B6E880",
           "#FF97FF",
           "#FECB52"
          ],
          "font": {
           "color": "#2a3f5f"
          },
          "geo": {
           "bgcolor": "white",
           "lakecolor": "white",
           "landcolor": "#E5ECF6",
           "showlakes": true,
           "showland": true,
           "subunitcolor": "white"
          },
          "hoverlabel": {
           "align": "left"
          },
          "hovermode": "closest",
          "mapbox": {
           "style": "light"
          },
          "paper_bgcolor": "white",
          "plot_bgcolor": "#E5ECF6",
          "polar": {
           "angularaxis": {
            "gridcolor": "white",
            "linecolor": "white",
            "ticks": ""
           },
           "bgcolor": "#E5ECF6",
           "radialaxis": {
            "gridcolor": "white",
            "linecolor": "white",
            "ticks": ""
           }
          },
          "scene": {
           "xaxis": {
            "backgroundcolor": "#E5ECF6",
            "gridcolor": "white",
            "gridwidth": 2,
            "linecolor": "white",
            "showbackground": true,
            "ticks": "",
            "zerolinecolor": "white"
           },
           "yaxis": {
            "backgroundcolor": "#E5ECF6",
            "gridcolor": "white",
            "gridwidth": 2,
            "linecolor": "white",
            "showbackground": true,
            "ticks": "",
            "zerolinecolor": "white"
           },
           "zaxis": {
            "backgroundcolor": "#E5ECF6",
            "gridcolor": "white",
            "gridwidth": 2,
            "linecolor": "white",
            "showbackground": true,
            "ticks": "",
            "zerolinecolor": "white"
           }
          },
          "shapedefaults": {
           "line": {
            "color": "#2a3f5f"
           }
          },
          "ternary": {
           "aaxis": {
            "gridcolor": "white",
            "linecolor": "white",
            "ticks": ""
           },
           "baxis": {
            "gridcolor": "white",
            "linecolor": "white",
            "ticks": ""
           },
           "bgcolor": "#E5ECF6",
           "caxis": {
            "gridcolor": "white",
            "linecolor": "white",
            "ticks": ""
           }
          },
          "title": {
           "x": 0.05
          },
          "xaxis": {
           "automargin": true,
           "gridcolor": "white",
           "linecolor": "white",
           "ticks": "",
           "title": {
            "standoff": 15
           },
           "zerolinecolor": "white",
           "zerolinewidth": 2
          },
          "yaxis": {
           "automargin": true,
           "gridcolor": "white",
           "linecolor": "white",
           "ticks": "",
           "title": {
            "standoff": 15
           },
           "zerolinecolor": "white",
           "zerolinewidth": 2
          }
         }
        },
        "title": {
         "font": {
          "color": "black",
          "family": "Arial",
          "size": 20
         },
         "text": "Federal Reserve Interest Rate Trajectory (2019-2024)",
         "x": 0.5,
         "xanchor": "center",
         "y": 0.95,
         "yanchor": "top"
        },
        "width": 1000,
        "xaxis": {
         "dtick": "M3",
         "gridcolor": "lightgray",
         "gridwidth": 1,
         "showgrid": true,
         "tickfont": {
          "color": "black",
          "family": "Arial",
          "size": 12
         },
         "tickformat": "%b\n%Y",
         "title": {
          "font": {
           "color": "black",
           "family": "Arial",
           "size": 16
          },
          "text": "FOMC Meeting Date"
         },
         "zeroline": false
        },
        "yaxis": {
         "gridcolor": "lightgray",
         "gridwidth": 1,
         "showgrid": true,
         "tickfont": {
          "color": "#1F77B4",
          "family": "Arial",
          "size": 12
         },
         "title": {
          "font": {
           "color": "#1F77B4",
           "family": "Arial",
           "size": 16
          },
          "text": "Interest Rate Trajectory Score"
         },
         "zeroline": true,
         "zerolinecolor": "black",
         "zerolinewidth": 1
        }
       }
      }
     },
     "metadata": {},
     "output_type": "display_data"
    }
   ],
   "source": [
    "import plotly.graph_objects as go\n",
    "import pandas as pd\n",
    "import numpy as np\n",
    "from datetime import datetime\n",
    "\n",
    "# Convert date to datetime if it's not already\n",
    "if not pd.api.types.is_datetime64_any_dtype(df['date']):\n",
    "    df['date'] = pd.to_datetime(df['date'])\n",
    "\n",
    "# Filter data for our time range (2019-01 to 2024-03)\n",
    "mask = (df['date'] >= '2018-03-01') & (df['date'] <= '2025-01-31')\n",
    "filtered_df = df.loc[mask].copy()\n",
    "\n",
    "# Make sure the data is sorted by date\n",
    "filtered_df = filtered_df.sort_values('date')\n",
    "\n",
    "# Key events with dates and descriptions for interest rate trajectory\n",
    "key_events = [\n",
    "    {'date': '2018-12-19', 'description': 'Trade War/Volatility', 'color': 'red'},\n",
    "    {'date': '2019-12-11', 'description': '\"Appropriate\" Rate', 'color': 'orange'},\n",
    "    {'date': '2022-11-02', 'description': 'Peak Rates', 'color': 'purple'},\n",
    "    {'date': '2023-03-22', 'description': 'Hikes->Plateau', 'color': 'orange'},\n",
    "    {'date': '2024-03-20', 'description': 'Cuts Later this Year', 'color': 'green'},\n",
    "    {'date': '2024-09-18', 'description': 'First Cut', 'color': 'blue'}\n",
    "]\n",
    "\n",
    "# Create the figure\n",
    "fig = go.Figure()\n",
    "\n",
    "# Add interest rate trajectory score\n",
    "fig.add_trace(\n",
    "    go.Scatter(\n",
    "        x=filtered_df['date'], \n",
    "        y=filtered_df['interest_rate_trajectory_score'],\n",
    "        mode='lines+markers',\n",
    "        name='Interest Rate Trajectory',\n",
    "        line=dict(color='#1F77B4', width=2.5),  # Blue for interest rate trajectory\n",
    "        marker=dict(\n",
    "            size=8,\n",
    "            color='#1F77B4',\n",
    "            line=dict(color='white', width=1)\n",
    "        )\n",
    "    )\n",
    ")\n",
    "\n",
    "# Add reference line at zero\n",
    "fig.add_shape(\n",
    "    type=\"line\",\n",
    "    x0=filtered_df['date'].min(),\n",
    "    y0=0,\n",
    "    x1=filtered_df['date'].max(),\n",
    "    y1=0,\n",
    "    line=dict(color=\"black\", width=1, dash=\"dash\"),\n",
    ")\n",
    "\n",
    "# Add key events as vertical lines with clearly visible annotations\n",
    "for event in key_events:\n",
    "    event_date = pd.Timestamp(event['date'])\n",
    "    \n",
    "    # Find the nearest date in our data\n",
    "    nearest_idx = abs(filtered_df['date'] - event_date).argmin()\n",
    "    \n",
    "    # Find the interest rate score on that date (if available)\n",
    "    y_position = 0\n",
    "    if nearest_idx < len(filtered_df):\n",
    "        y_position = filtered_df.iloc[nearest_idx]['interest_rate_trajectory_score']\n",
    "    \n",
    "    # Add vertical line\n",
    "    fig.add_shape(\n",
    "        type=\"line\",\n",
    "        x0=event_date,\n",
    "        y0=filtered_df['interest_rate_trajectory_score'].min() - 0.1,\n",
    "        x1=event_date,\n",
    "        y1=filtered_df['interest_rate_trajectory_score'].max() + 0.1,\n",
    "        line=dict(\n",
    "            color=event['color'],\n",
    "            width=1.5,\n",
    "            dash=\"solid\",\n",
    "        ),\n",
    "    )\n",
    "    \n",
    "    # Position adjustments for annotations to prevent overlap\n",
    "    y_offsets = {\n",
    "        '2018-12-19': 0.2,\n",
    "        '2019-12-11': 0.2,\n",
    "        '2022-11-02': 0.2,\n",
    "        '2023-03-22': -0.2,\n",
    "        '2024-03-20': 0.2,\n",
    "        '2024-09-18': -0.2\n",
    "    }\n",
    "    \n",
    "    y_offset = y_offsets.get(event['date'], 0)\n",
    "    \n",
    "    # Add clear text labels\n",
    "    fig.add_annotation(\n",
    "        x=event_date,\n",
    "        y=y_position + y_offset,\n",
    "        text=event['description'],\n",
    "        showarrow=False,\n",
    "        font=dict(size=12, color=event['color'], family=\"Arial\", weight=\"bold\"),\n",
    "        align=\"center\",\n",
    "        bgcolor=\"rgba(255, 255, 255, 0.9)\",\n",
    "        bordercolor=event['color'],\n",
    "        borderwidth=2,\n",
    "        borderpad=3,\n",
    "    )\n",
    "\n",
    "# Add recession shading for COVID period\n",
    "fig.add_shape(\n",
    "    type=\"rect\",\n",
    "    x0=\"2020-02-15\", \n",
    "    x1=\"2020-07-15\",\n",
    "    y0=filtered_df['interest_rate_trajectory_score'].min() - 0.2,\n",
    "    y1=filtered_df['interest_rate_trajectory_score'].max() + 0.2,\n",
    "    fillcolor=\"rgba(128, 128, 128, 0.2)\", \n",
    "    line=dict(width=0),\n",
    "    layer=\"below\",\n",
    ")\n",
    "\n",
    "# Add clear text label for COVID recession\n",
    "fig.add_annotation(\n",
    "    x=pd.Timestamp(\"2020-04-15\"),\n",
    "    y=filtered_df['interest_rate_trajectory_score'].max() + 0.2,\n",
    "    text=\"COVID Recession\",\n",
    "    showarrow=False,\n",
    "    font=dict(size=14, color=\"black\"),\n",
    "    align=\"center\",\n",
    "    bgcolor=\"rgba(255, 255, 255, 0.8)\",\n",
    "    bordercolor=\"black\",\n",
    "    borderwidth=1,\n",
    "    borderpad=3,\n",
    ")\n",
    "\n",
    "\n",
    "\n",
    "# Add annotations for interest rate trajectory interpretations\n",
    "fig.add_annotation(\n",
    "    x=pd.Timestamp(\"2018-03-01\"),\n",
    "    y=filtered_df['interest_rate_trajectory_score'].max() * 1.5, \n",
    "    text=\"↑ Rising Rates\",\n",
    "    showarrow=False,\n",
    "    font=dict(size=14, color=\"#1F77B4\"),\n",
    "    align=\"left\",\n",
    "    bgcolor=\"white\",\n",
    "    bordercolor=\"#1F77B4\",\n",
    "    borderwidth=1,\n",
    "    borderpad=3,\n",
    ")\n",
    "\n",
    "fig.add_annotation(\n",
    "    x=pd.Timestamp(\"2018-03-01\"),\n",
    "    y=filtered_df['interest_rate_trajectory_score'].min() * 1.5,\n",
    "    text=\"↓ Falling Rates\",\n",
    "    showarrow=False,\n",
    "    font=dict(size=14, color=\"#1F77B4\"),\n",
    "    align=\"left\",\n",
    "    bgcolor=\"white\",\n",
    "    bordercolor=\"#1F77B4\",\n",
    "    borderwidth=1,\n",
    "    borderpad=3,\n",
    ")\n",
    "\n",
    "# Update layout with clear, print-friendly styling\n",
    "fig.update_layout(\n",
    "    title={\n",
    "        'text': 'Federal Reserve Interest Rate Trajectory (2019-2024)',\n",
    "        'y':0.95,\n",
    "        'x':0.5,\n",
    "        'xanchor': 'center',\n",
    "        'yanchor': 'top',\n",
    "        'font': dict(size=20, family=\"Arial\", color=\"black\")\n",
    "    },\n",
    "    showlegend=False,  # No legend needed\n",
    "    plot_bgcolor='white',\n",
    "    paper_bgcolor='white',\n",
    "    height=600,\n",
    "    width=1000,\n",
    "    margin=dict(l=80, r=60, t=100, b=80)\n",
    ")\n",
    "\n",
    "# Update x-axis\n",
    "fig.update_xaxes(\n",
    "    title_text=\"FOMC Meeting Date\",\n",
    "    title_font=dict(size=16, family=\"Arial\", color=\"black\"),\n",
    "    showgrid=True,\n",
    "    gridcolor='lightgray',\n",
    "    gridwidth=1,\n",
    "    dtick=\"M3\",\n",
    "    tickformat=\"%b\\n%Y\",\n",
    "    tickfont=dict(size=12, family=\"Arial\", color=\"black\"),\n",
    "    zeroline=False\n",
    ")\n",
    "\n",
    "# Update y-axis\n",
    "fig.update_yaxes(\n",
    "    title_text=\"Interest Rate Trajectory Score\",\n",
    "    title_font=dict(size=16, family=\"Arial\", color=\"#1F77B4\"),\n",
    "    showgrid=True,\n",
    "    gridcolor='lightgray',\n",
    "    gridwidth=1,\n",
    "    zeroline=True,\n",
    "    zerolinecolor='black',\n",
    "    zerolinewidth=1,\n",
    "    tickfont=dict(size=12, family=\"Arial\", color=\"#1F77B4\"),\n",
    ")\n",
    "\n",
    "# Show the figure\n",
    "fig.show()\n",
    "\n",
    "# Save as a static image for presentations\n",
    "fig.write_image(\"fed_interest_rate_trajectory.png\", scale=2)  # Higher scale for better resolution\n",
    "\n",
    "# Save as HTML\n",
    "fig.write_html(\"fed_interest_rate_trajectory.html\")"
   ]
  },
  {
   "cell_type": "code",
   "execution_count": 46,
   "metadata": {},
   "outputs": [
    {
     "data": {
      "application/vnd.plotly.v1+json": {
       "config": {
        "plotlyServerURL": "https://plot.ly"
       },
       "data": [
        {
         "line": {
          "color": "#1F77B4",
          "width": 2.5
         },
         "marker": {
          "color": "#1F77B4",
          "line": {
           "color": "white",
           "width": 1
          },
          "size": 8
         },
         "mode": "lines+markers",
         "name": "Balance Sheet Trajectory",
         "type": "scatter",
         "x": [
          "2018-03-21T00:00:00.000000000",
          "2018-06-13T00:00:00.000000000",
          "2018-09-26T00:00:00.000000000",
          "2018-12-19T00:00:00.000000000",
          "2019-01-30T00:00:00.000000000",
          "2019-03-20T00:00:00.000000000",
          "2019-05-01T00:00:00.000000000",
          "2019-06-19T00:00:00.000000000",
          "2019-07-31T00:00:00.000000000",
          "2019-09-18T00:00:00.000000000",
          "2019-10-30T00:00:00.000000000",
          "2019-12-11T00:00:00.000000000",
          "2020-01-29T00:00:00.000000000",
          "2020-03-03T00:00:00.000000000",
          "2020-03-15T00:00:00.000000000",
          "2020-04-29T00:00:00.000000000",
          "2020-06-10T00:00:00.000000000",
          "2020-07-29T00:00:00.000000000",
          "2020-09-16T00:00:00.000000000",
          "2020-11-05T00:00:00.000000000",
          "2020-12-16T00:00:00.000000000",
          "2021-01-27T00:00:00.000000000",
          "2021-03-17T00:00:00.000000000",
          "2021-04-28T00:00:00.000000000",
          "2021-06-16T00:00:00.000000000",
          "2021-07-28T00:00:00.000000000",
          "2021-09-22T00:00:00.000000000",
          "2021-11-03T00:00:00.000000000",
          "2021-12-15T00:00:00.000000000",
          "2022-01-26T00:00:00.000000000",
          "2022-03-16T00:00:00.000000000",
          "2022-05-04T00:00:00.000000000",
          "2022-06-15T00:00:00.000000000",
          "2022-07-27T00:00:00.000000000",
          "2022-09-21T00:00:00.000000000",
          "2022-11-02T00:00:00.000000000",
          "2022-12-14T00:00:00.000000000",
          "2023-02-01T00:00:00.000000000",
          "2023-03-22T00:00:00.000000000",
          "2023-05-03T00:00:00.000000000",
          "2023-06-14T00:00:00.000000000",
          "2023-07-26T00:00:00.000000000",
          "2023-09-20T00:00:00.000000000",
          "2023-11-01T00:00:00.000000000",
          "2023-12-13T00:00:00.000000000",
          "2024-01-31T00:00:00.000000000",
          "2024-03-20T00:00:00.000000000",
          "2024-05-01T00:00:00.000000000",
          "2024-06-12T00:00:00.000000000",
          "2024-07-31T00:00:00.000000000",
          "2024-09-18T00:00:00.000000000",
          "2024-11-07T00:00:00.000000000"
         ],
         "y": {
          "bdata": "ZlOug98Qkb9uo4ZQy+qcv0E270JopX2/OhY15rxwg79T0BdR+ZeBv+pMRugpAoa/CpcWbD3tkL++K31yo3CZvx8t+BHxZJu/cQ1qICiqlz9bzKlYVGKpP54P7vViM4Q//QTdlSvloD8XKu4b8j2DPwle4PGLhbg/3x6qTmkynj9IxHn4RtOaP4+Q63ET+Zc/LdSRerUakD/Y8rJxhFmgPyuSbVU6A6g/9R2210eBkj98n1FT1waYP4a/qIvgFZY/XQFSw7hInz9zbO/ZHGGVP8u8Yich5Yo/Rkrm7s0ybD/72mHXO1ehv7qgYPDnS5y/uiuZQy/Psr8n+OS86C+Vv9PsdfwSNFu/NBQKfgG6ib+2/7v0LgmVv9DYFrSLDI+/fbE3/+iQor8/wXnoZ5KUv1f/O1YUmpM/uw6Apb00nr/elj4D4zKGv5cg7aygnJe/jS7DbXYrhL/ySphJ0ft3vxaoDgW3jGm/XcDd2z1AjL91DZpQ29dTv9MQuvnBb2i/NoRCbEA1hL/eBaOqq795PyUutvyBypG/QoxU4LTQkb8=",
          "dtype": "f8"
         }
        }
       ],
       "layout": {
        "annotations": [
         {
          "align": "center",
          "bgcolor": "rgba(255, 255, 255, 0.9)",
          "bordercolor": "orange",
          "borderpad": 3,
          "borderwidth": 2,
          "font": {
           "color": "orange",
           "family": "Arial",
           "size": 12,
           "weight": "bold"
          },
          "showarrow": false,
          "text": "Liquidity Injections",
          "x": "2019-10-30T00:00:00",
          "y": 0.24957831938090672
         },
         {
          "align": "center",
          "bgcolor": "rgba(255, 255, 255, 0.9)",
          "bordercolor": "green",
          "borderpad": 3,
          "borderwidth": 2,
          "font": {
           "color": "green",
           "family": "Arial",
           "size": 12,
           "weight": "bold"
          },
          "showarrow": false,
          "text": "QE Announced",
          "x": "2020-03-15T00:00:00",
          "y": -0.10421223969281772
         },
         {
          "align": "center",
          "bgcolor": "rgba(255, 255, 255, 0.9)",
          "bordercolor": "red",
          "borderpad": 3,
          "borderwidth": 2,
          "font": {
           "color": "red",
           "family": "Arial",
           "size": 12,
           "weight": "bold"
          },
          "showarrow": false,
          "text": "QT Narrative",
          "x": "2022-03-16T00:00:00",
          "y": 0.1265261135067969
         },
         {
          "align": "center",
          "bgcolor": "rgba(255, 255, 255, 0.8)",
          "bordercolor": "black",
          "borderpad": 3,
          "borderwidth": 1,
          "font": {
           "color": "black",
           "size": 14
          },
          "showarrow": false,
          "text": "COVID Recession",
          "x": "2020-04-15T00:00:00",
          "y": 0.2957877603071823
         },
         {
          "align": "left",
          "bgcolor": "white",
          "bordercolor": "#1F77B4",
          "borderpad": 3,
          "borderwidth": 1,
          "font": {
           "color": "#1F77B4",
           "size": 14
          },
          "showarrow": false,
          "text": "↑ Accommodative",
          "x": "2018-06-01T00:00:00",
          "y": 0.07663020824574585
         },
         {
          "align": "left",
          "bgcolor": "white",
          "bordercolor": "#1F77B4",
          "borderpad": 3,
          "borderwidth": 1,
          "font": {
           "color": "#1F77B4",
           "size": 14
          },
          "showarrow": false,
          "text": "↓ Tightening",
          "x": "2018-06-01T00:00:00",
          "y": -0.05877910919456249
         }
        ],
        "height": 600,
        "margin": {
         "b": 80,
         "l": 80,
         "r": 60,
         "t": 100
        },
        "paper_bgcolor": "white",
        "plot_bgcolor": "white",
        "shapes": [
         {
          "line": {
           "color": "black",
           "dash": "dash",
           "width": 1
          },
          "type": "line",
          "x0": "2018-03-21T00:00:00",
          "x1": "2024-11-07T00:00:00",
          "y0": 0,
          "y1": 0
         },
         {
          "line": {
           "color": "orange",
           "dash": "solid",
           "width": 1.5
          },
          "type": "line",
          "x0": "2019-10-30T00:00:00",
          "x1": "2019-10-30T00:00:00",
          "y0": -0.1734738864932031,
          "y1": 0.1957877603071823
         },
         {
          "line": {
           "color": "green",
           "dash": "solid",
           "width": 1.5
          },
          "type": "line",
          "x0": "2020-03-15T00:00:00",
          "x1": "2020-03-15T00:00:00",
          "y0": -0.1734738864932031,
          "y1": 0.1957877603071823
         },
         {
          "line": {
           "color": "red",
           "dash": "solid",
           "width": 1.5
          },
          "type": "line",
          "x0": "2022-03-16T00:00:00",
          "x1": "2022-03-16T00:00:00",
          "y0": -0.1734738864932031,
          "y1": 0.1957877603071823
         },
         {
          "fillcolor": "rgba(128, 128, 128, 0.2)",
          "layer": "below",
          "line": {
           "width": 0
          },
          "type": "rect",
          "x0": "2020-02-15",
          "x1": "2020-07-15",
          "y0": -0.27347388649320314,
          "y1": 0.2957877603071823
         }
        ],
        "showlegend": false,
        "template": {
         "data": {
          "bar": [
           {
            "error_x": {
             "color": "#2a3f5f"
            },
            "error_y": {
             "color": "#2a3f5f"
            },
            "marker": {
             "line": {
              "color": "#E5ECF6",
              "width": 0.5
             },
             "pattern": {
              "fillmode": "overlay",
              "size": 10,
              "solidity": 0.2
             }
            },
            "type": "bar"
           }
          ],
          "barpolar": [
           {
            "marker": {
             "line": {
              "color": "#E5ECF6",
              "width": 0.5
             },
             "pattern": {
              "fillmode": "overlay",
              "size": 10,
              "solidity": 0.2
             }
            },
            "type": "barpolar"
           }
          ],
          "carpet": [
           {
            "aaxis": {
             "endlinecolor": "#2a3f5f",
             "gridcolor": "white",
             "linecolor": "white",
             "minorgridcolor": "white",
             "startlinecolor": "#2a3f5f"
            },
            "baxis": {
             "endlinecolor": "#2a3f5f",
             "gridcolor": "white",
             "linecolor": "white",
             "minorgridcolor": "white",
             "startlinecolor": "#2a3f5f"
            },
            "type": "carpet"
           }
          ],
          "choropleth": [
           {
            "colorbar": {
             "outlinewidth": 0,
             "ticks": ""
            },
            "type": "choropleth"
           }
          ],
          "contour": [
           {
            "colorbar": {
             "outlinewidth": 0,
             "ticks": ""
            },
            "colorscale": [
             [
              0,
              "#0d0887"
             ],
             [
              0.1111111111111111,
              "#46039f"
             ],
             [
              0.2222222222222222,
              "#7201a8"
             ],
             [
              0.3333333333333333,
              "#9c179e"
             ],
             [
              0.4444444444444444,
              "#bd3786"
             ],
             [
              0.5555555555555556,
              "#d8576b"
             ],
             [
              0.6666666666666666,
              "#ed7953"
             ],
             [
              0.7777777777777778,
              "#fb9f3a"
             ],
             [
              0.8888888888888888,
              "#fdca26"
             ],
             [
              1,
              "#f0f921"
             ]
            ],
            "type": "contour"
           }
          ],
          "contourcarpet": [
           {
            "colorbar": {
             "outlinewidth": 0,
             "ticks": ""
            },
            "type": "contourcarpet"
           }
          ],
          "heatmap": [
           {
            "colorbar": {
             "outlinewidth": 0,
             "ticks": ""
            },
            "colorscale": [
             [
              0,
              "#0d0887"
             ],
             [
              0.1111111111111111,
              "#46039f"
             ],
             [
              0.2222222222222222,
              "#7201a8"
             ],
             [
              0.3333333333333333,
              "#9c179e"
             ],
             [
              0.4444444444444444,
              "#bd3786"
             ],
             [
              0.5555555555555556,
              "#d8576b"
             ],
             [
              0.6666666666666666,
              "#ed7953"
             ],
             [
              0.7777777777777778,
              "#fb9f3a"
             ],
             [
              0.8888888888888888,
              "#fdca26"
             ],
             [
              1,
              "#f0f921"
             ]
            ],
            "type": "heatmap"
           }
          ],
          "histogram": [
           {
            "marker": {
             "pattern": {
              "fillmode": "overlay",
              "size": 10,
              "solidity": 0.2
             }
            },
            "type": "histogram"
           }
          ],
          "histogram2d": [
           {
            "colorbar": {
             "outlinewidth": 0,
             "ticks": ""
            },
            "colorscale": [
             [
              0,
              "#0d0887"
             ],
             [
              0.1111111111111111,
              "#46039f"
             ],
             [
              0.2222222222222222,
              "#7201a8"
             ],
             [
              0.3333333333333333,
              "#9c179e"
             ],
             [
              0.4444444444444444,
              "#bd3786"
             ],
             [
              0.5555555555555556,
              "#d8576b"
             ],
             [
              0.6666666666666666,
              "#ed7953"
             ],
             [
              0.7777777777777778,
              "#fb9f3a"
             ],
             [
              0.8888888888888888,
              "#fdca26"
             ],
             [
              1,
              "#f0f921"
             ]
            ],
            "type": "histogram2d"
           }
          ],
          "histogram2dcontour": [
           {
            "colorbar": {
             "outlinewidth": 0,
             "ticks": ""
            },
            "colorscale": [
             [
              0,
              "#0d0887"
             ],
             [
              0.1111111111111111,
              "#46039f"
             ],
             [
              0.2222222222222222,
              "#7201a8"
             ],
             [
              0.3333333333333333,
              "#9c179e"
             ],
             [
              0.4444444444444444,
              "#bd3786"
             ],
             [
              0.5555555555555556,
              "#d8576b"
             ],
             [
              0.6666666666666666,
              "#ed7953"
             ],
             [
              0.7777777777777778,
              "#fb9f3a"
             ],
             [
              0.8888888888888888,
              "#fdca26"
             ],
             [
              1,
              "#f0f921"
             ]
            ],
            "type": "histogram2dcontour"
           }
          ],
          "mesh3d": [
           {
            "colorbar": {
             "outlinewidth": 0,
             "ticks": ""
            },
            "type": "mesh3d"
           }
          ],
          "parcoords": [
           {
            "line": {
             "colorbar": {
              "outlinewidth": 0,
              "ticks": ""
             }
            },
            "type": "parcoords"
           }
          ],
          "pie": [
           {
            "automargin": true,
            "type": "pie"
           }
          ],
          "scatter": [
           {
            "fillpattern": {
             "fillmode": "overlay",
             "size": 10,
             "solidity": 0.2
            },
            "type": "scatter"
           }
          ],
          "scatter3d": [
           {
            "line": {
             "colorbar": {
              "outlinewidth": 0,
              "ticks": ""
             }
            },
            "marker": {
             "colorbar": {
              "outlinewidth": 0,
              "ticks": ""
             }
            },
            "type": "scatter3d"
           }
          ],
          "scattercarpet": [
           {
            "marker": {
             "colorbar": {
              "outlinewidth": 0,
              "ticks": ""
             }
            },
            "type": "scattercarpet"
           }
          ],
          "scattergeo": [
           {
            "marker": {
             "colorbar": {
              "outlinewidth": 0,
              "ticks": ""
             }
            },
            "type": "scattergeo"
           }
          ],
          "scattergl": [
           {
            "marker": {
             "colorbar": {
              "outlinewidth": 0,
              "ticks": ""
             }
            },
            "type": "scattergl"
           }
          ],
          "scattermap": [
           {
            "marker": {
             "colorbar": {
              "outlinewidth": 0,
              "ticks": ""
             }
            },
            "type": "scattermap"
           }
          ],
          "scattermapbox": [
           {
            "marker": {
             "colorbar": {
              "outlinewidth": 0,
              "ticks": ""
             }
            },
            "type": "scattermapbox"
           }
          ],
          "scatterpolar": [
           {
            "marker": {
             "colorbar": {
              "outlinewidth": 0,
              "ticks": ""
             }
            },
            "type": "scatterpolar"
           }
          ],
          "scatterpolargl": [
           {
            "marker": {
             "colorbar": {
              "outlinewidth": 0,
              "ticks": ""
             }
            },
            "type": "scatterpolargl"
           }
          ],
          "scatterternary": [
           {
            "marker": {
             "colorbar": {
              "outlinewidth": 0,
              "ticks": ""
             }
            },
            "type": "scatterternary"
           }
          ],
          "surface": [
           {
            "colorbar": {
             "outlinewidth": 0,
             "ticks": ""
            },
            "colorscale": [
             [
              0,
              "#0d0887"
             ],
             [
              0.1111111111111111,
              "#46039f"
             ],
             [
              0.2222222222222222,
              "#7201a8"
             ],
             [
              0.3333333333333333,
              "#9c179e"
             ],
             [
              0.4444444444444444,
              "#bd3786"
             ],
             [
              0.5555555555555556,
              "#d8576b"
             ],
             [
              0.6666666666666666,
              "#ed7953"
             ],
             [
              0.7777777777777778,
              "#fb9f3a"
             ],
             [
              0.8888888888888888,
              "#fdca26"
             ],
             [
              1,
              "#f0f921"
             ]
            ],
            "type": "surface"
           }
          ],
          "table": [
           {
            "cells": {
             "fill": {
              "color": "#EBF0F8"
             },
             "line": {
              "color": "white"
             }
            },
            "header": {
             "fill": {
              "color": "#C8D4E3"
             },
             "line": {
              "color": "white"
             }
            },
            "type": "table"
           }
          ]
         },
         "layout": {
          "annotationdefaults": {
           "arrowcolor": "#2a3f5f",
           "arrowhead": 0,
           "arrowwidth": 1
          },
          "autotypenumbers": "strict",
          "coloraxis": {
           "colorbar": {
            "outlinewidth": 0,
            "ticks": ""
           }
          },
          "colorscale": {
           "diverging": [
            [
             0,
             "#8e0152"
            ],
            [
             0.1,
             "#c51b7d"
            ],
            [
             0.2,
             "#de77ae"
            ],
            [
             0.3,
             "#f1b6da"
            ],
            [
             0.4,
             "#fde0ef"
            ],
            [
             0.5,
             "#f7f7f7"
            ],
            [
             0.6,
             "#e6f5d0"
            ],
            [
             0.7,
             "#b8e186"
            ],
            [
             0.8,
             "#7fbc41"
            ],
            [
             0.9,
             "#4d9221"
            ],
            [
             1,
             "#276419"
            ]
           ],
           "sequential": [
            [
             0,
             "#0d0887"
            ],
            [
             0.1111111111111111,
             "#46039f"
            ],
            [
             0.2222222222222222,
             "#7201a8"
            ],
            [
             0.3333333333333333,
             "#9c179e"
            ],
            [
             0.4444444444444444,
             "#bd3786"
            ],
            [
             0.5555555555555556,
             "#d8576b"
            ],
            [
             0.6666666666666666,
             "#ed7953"
            ],
            [
             0.7777777777777778,
             "#fb9f3a"
            ],
            [
             0.8888888888888888,
             "#fdca26"
            ],
            [
             1,
             "#f0f921"
            ]
           ],
           "sequentialminus": [
            [
             0,
             "#0d0887"
            ],
            [
             0.1111111111111111,
             "#46039f"
            ],
            [
             0.2222222222222222,
             "#7201a8"
            ],
            [
             0.3333333333333333,
             "#9c179e"
            ],
            [
             0.4444444444444444,
             "#bd3786"
            ],
            [
             0.5555555555555556,
             "#d8576b"
            ],
            [
             0.6666666666666666,
             "#ed7953"
            ],
            [
             0.7777777777777778,
             "#fb9f3a"
            ],
            [
             0.8888888888888888,
             "#fdca26"
            ],
            [
             1,
             "#f0f921"
            ]
           ]
          },
          "colorway": [
           "#636efa",
           "#EF553B",
           "#00cc96",
           "#ab63fa",
           "#FFA15A",
           "#19d3f3",
           "#FF6692",
           "#B6E880",
           "#FF97FF",
           "#FECB52"
          ],
          "font": {
           "color": "#2a3f5f"
          },
          "geo": {
           "bgcolor": "white",
           "lakecolor": "white",
           "landcolor": "#E5ECF6",
           "showlakes": true,
           "showland": true,
           "subunitcolor": "white"
          },
          "hoverlabel": {
           "align": "left"
          },
          "hovermode": "closest",
          "mapbox": {
           "style": "light"
          },
          "paper_bgcolor": "white",
          "plot_bgcolor": "#E5ECF6",
          "polar": {
           "angularaxis": {
            "gridcolor": "white",
            "linecolor": "white",
            "ticks": ""
           },
           "bgcolor": "#E5ECF6",
           "radialaxis": {
            "gridcolor": "white",
            "linecolor": "white",
            "ticks": ""
           }
          },
          "scene": {
           "xaxis": {
            "backgroundcolor": "#E5ECF6",
            "gridcolor": "white",
            "gridwidth": 2,
            "linecolor": "white",
            "showbackground": true,
            "ticks": "",
            "zerolinecolor": "white"
           },
           "yaxis": {
            "backgroundcolor": "#E5ECF6",
            "gridcolor": "white",
            "gridwidth": 2,
            "linecolor": "white",
            "showbackground": true,
            "ticks": "",
            "zerolinecolor": "white"
           },
           "zaxis": {
            "backgroundcolor": "#E5ECF6",
            "gridcolor": "white",
            "gridwidth": 2,
            "linecolor": "white",
            "showbackground": true,
            "ticks": "",
            "zerolinecolor": "white"
           }
          },
          "shapedefaults": {
           "line": {
            "color": "#2a3f5f"
           }
          },
          "ternary": {
           "aaxis": {
            "gridcolor": "white",
            "linecolor": "white",
            "ticks": ""
           },
           "baxis": {
            "gridcolor": "white",
            "linecolor": "white",
            "ticks": ""
           },
           "bgcolor": "#E5ECF6",
           "caxis": {
            "gridcolor": "white",
            "linecolor": "white",
            "ticks": ""
           }
          },
          "title": {
           "x": 0.05
          },
          "xaxis": {
           "automargin": true,
           "gridcolor": "white",
           "linecolor": "white",
           "ticks": "",
           "title": {
            "standoff": 15
           },
           "zerolinecolor": "white",
           "zerolinewidth": 2
          },
          "yaxis": {
           "automargin": true,
           "gridcolor": "white",
           "linecolor": "white",
           "ticks": "",
           "title": {
            "standoff": 15
           },
           "zerolinecolor": "white",
           "zerolinewidth": 2
          }
         }
        },
        "title": {
         "font": {
          "color": "black",
          "family": "Arial",
          "size": 20
         },
         "text": "Federal Reserve Balance Sheet Trajectory (2018-2024)",
         "x": 0.5,
         "xanchor": "center",
         "y": 0.95,
         "yanchor": "top"
        },
        "width": 1000,
        "xaxis": {
         "dtick": "M6",
         "gridcolor": "lightgray",
         "gridwidth": 1,
         "showgrid": true,
         "tickfont": {
          "color": "black",
          "family": "Arial",
          "size": 12
         },
         "tickformat": "%b\n%Y",
         "title": {
          "font": {
           "color": "black",
           "family": "Arial",
           "size": 16
          },
          "text": "FOMC Meeting Date"
         },
         "zeroline": false
        },
        "yaxis": {
         "gridcolor": "lightgray",
         "gridwidth": 1,
         "showgrid": true,
         "tickfont": {
          "color": "#1F77B4",
          "family": "Arial",
          "size": 12
         },
         "title": {
          "font": {
           "color": "#1F77B4",
           "family": "Arial",
           "size": 16
          },
          "text": "Balance Sheet Trajectory Score"
         },
         "zeroline": true,
         "zerolinecolor": "black",
         "zerolinewidth": 1
        }
       }
      }
     },
     "metadata": {},
     "output_type": "display_data"
    }
   ],
   "source": [
    "import plotly.graph_objects as go\n",
    "import pandas as pd\n",
    "import numpy as np\n",
    "from datetime import datetime\n",
    "\n",
    "# Convert date to datetime if it's not already\n",
    "if not pd.api.types.is_datetime64_any_dtype(df['date']):\n",
    "    df['date'] = pd.to_datetime(df['date'])\n",
    "\n",
    "# Filter data starting from 2018\n",
    "mask = (df['date'] >= '2018-01-01') & (df['date'] <= '2025-01-01')\n",
    "filtered_df = df.loc[mask].copy()\n",
    "\n",
    "# Make sure the data is sorted by date\n",
    "filtered_df = filtered_df.sort_values('date')\n",
    "\n",
    "# Key events with dates and descriptions for balance sheet trajectory\n",
    "key_events = [\n",
    "    {'date': '2019-10-30', 'description': 'Liquidity Injections', 'color': 'orange'},\n",
    "    {'date': '2020-03-15', 'description': 'QE Announced', 'color': 'green'},\n",
    "    {'date': '2022-03-16', 'description': 'QT Narrative', 'color': 'red'}\n",
    "]\n",
    "\n",
    "# Create the figure\n",
    "fig = go.Figure()\n",
    "\n",
    "# Add balance sheet trajectory score\n",
    "fig.add_trace(\n",
    "    go.Scatter(\n",
    "        x=filtered_df['date'], \n",
    "        y=filtered_df['balance_sheet_trajectory_score'],\n",
    "        mode='lines+markers',\n",
    "        name='Balance Sheet Trajectory',\n",
    "        line=dict(color='#1F77B4', width=2.5),  # Blue for balance sheet trajectory\n",
    "        marker=dict(\n",
    "            size=8,\n",
    "            color='#1F77B4',\n",
    "            line=dict(color='white', width=1)\n",
    "        )\n",
    "    )\n",
    ")\n",
    "\n",
    "# Add reference line at zero\n",
    "fig.add_shape(\n",
    "    type=\"line\",\n",
    "    x0=filtered_df['date'].min(),\n",
    "    y0=0,\n",
    "    x1=filtered_df['date'].max(),\n",
    "    y1=0,\n",
    "    line=dict(color=\"black\", width=1, dash=\"dash\"),\n",
    ")\n",
    "\n",
    "# Add key events as vertical lines with clearly visible annotations\n",
    "for event in key_events:\n",
    "    event_date = pd.Timestamp(event['date'])\n",
    "    \n",
    "    # Find the nearest date in our data\n",
    "    nearest_idx = abs(filtered_df['date'] - event_date).argmin()\n",
    "    \n",
    "    # Find the balance sheet score on that date (if available)\n",
    "    y_position = 0\n",
    "    if nearest_idx < len(filtered_df):\n",
    "        y_position = filtered_df.iloc[nearest_idx]['balance_sheet_trajectory_score']\n",
    "    \n",
    "    # Add vertical line\n",
    "    fig.add_shape(\n",
    "        type=\"line\",\n",
    "        x0=event_date,\n",
    "        y0=filtered_df['balance_sheet_trajectory_score'].min() - 0.1,\n",
    "        x1=event_date,\n",
    "        y1=filtered_df['balance_sheet_trajectory_score'].max() + 0.1,\n",
    "        line=dict(\n",
    "            color=event['color'],\n",
    "            width=1.5,\n",
    "            dash=\"solid\",\n",
    "        ),\n",
    "    )\n",
    "    \n",
    "    # Position adjustments for annotations to prevent overlap\n",
    "    y_offsets = {\n",
    "        '2019-10-30': 0.2,\n",
    "        '2020-03-15': -0.2,\n",
    "        '2022-03-16': 0.2\n",
    "    }\n",
    "    \n",
    "    y_offset = y_offsets.get(event['date'], 0)\n",
    "    \n",
    "    # Add clear text labels\n",
    "    fig.add_annotation(\n",
    "        x=event_date,\n",
    "        y=y_position + y_offset,\n",
    "        text=event['description'],\n",
    "        showarrow=False,\n",
    "        font=dict(size=12, color=event['color'], family=\"Arial\", weight=\"bold\"),\n",
    "        align=\"center\",\n",
    "        bgcolor=\"rgba(255, 255, 255, 0.9)\",\n",
    "        bordercolor=event['color'],\n",
    "        borderwidth=2,\n",
    "        borderpad=3,\n",
    "    )\n",
    "\n",
    "# Add recession shading for COVID period\n",
    "fig.add_shape(\n",
    "    type=\"rect\",\n",
    "    x0=\"2020-02-15\", \n",
    "    x1=\"2020-07-15\",\n",
    "    y0=filtered_df['balance_sheet_trajectory_score'].min() - 0.2,\n",
    "    y1=filtered_df['balance_sheet_trajectory_score'].max() + 0.2,\n",
    "    fillcolor=\"rgba(128, 128, 128, 0.2)\", \n",
    "    line=dict(width=0),\n",
    "    layer=\"below\",\n",
    ")\n",
    "\n",
    "# Add clear text label for COVID recession\n",
    "fig.add_annotation(\n",
    "    x=pd.Timestamp(\"2020-04-15\"),\n",
    "    y=filtered_df['balance_sheet_trajectory_score'].max() + 0.2,\n",
    "    text=\"COVID Recession\",\n",
    "    showarrow=False,\n",
    "    font=dict(size=14, color=\"black\"),\n",
    "    align=\"center\",\n",
    "    bgcolor=\"rgba(255, 255, 255, 0.8)\",\n",
    "    bordercolor=\"black\",\n",
    "    borderwidth=1,\n",
    "    borderpad=3,\n",
    ")\n",
    "\n",
    "# Add annotations for balance sheet trajectory interpretations - moved to earlier date to avoid overlap\n",
    "fig.add_annotation(\n",
    "    x=pd.Timestamp(\"2018-06-01\"),  # Earlier date to avoid overlap\n",
    "    y=filtered_df['balance_sheet_trajectory_score'].max() * 0.8,\n",
    "    text=\"↑ Accommodative\",\n",
    "    showarrow=False,\n",
    "    font=dict(size=14, color=\"#1F77B4\"),\n",
    "    align=\"left\",\n",
    "    bgcolor=\"white\",\n",
    "    bordercolor=\"#1F77B4\",\n",
    "    borderwidth=1,\n",
    "    borderpad=3,\n",
    ")\n",
    "\n",
    "fig.add_annotation(\n",
    "    x=pd.Timestamp(\"2018-06-01\"),  # Earlier date to avoid overlap\n",
    "    y=filtered_df['balance_sheet_trajectory_score'].min() * 0.8,\n",
    "    text=\"↓ Tightening\",\n",
    "    showarrow=False,\n",
    "    font=dict(size=14, color=\"#1F77B4\"),\n",
    "    align=\"left\",\n",
    "    bgcolor=\"white\",\n",
    "    bordercolor=\"#1F77B4\",\n",
    "    borderwidth=1,\n",
    "    borderpad=3,\n",
    ")\n",
    "\n",
    "# Update layout with clear, print-friendly styling\n",
    "fig.update_layout(\n",
    "    title={\n",
    "        'text': 'Federal Reserve Balance Sheet Trajectory (2018-2024)',\n",
    "        'y':0.95,\n",
    "        'x':0.5,\n",
    "        'xanchor': 'center',\n",
    "        'yanchor': 'top',\n",
    "        'font': dict(size=20, family=\"Arial\", color=\"black\")\n",
    "    },\n",
    "    showlegend=False,  # No legend needed\n",
    "    plot_bgcolor='white',\n",
    "    paper_bgcolor='white',\n",
    "    height=600,\n",
    "    width=1000,\n",
    "    margin=dict(l=80, r=60, t=100, b=80)\n",
    ")\n",
    "\n",
    "# Update x-axis\n",
    "fig.update_xaxes(\n",
    "    title_text=\"FOMC Meeting Date\",\n",
    "    title_font=dict(size=16, family=\"Arial\", color=\"black\"),\n",
    "    showgrid=True,\n",
    "    gridcolor='lightgray',\n",
    "    gridwidth=1,\n",
    "    dtick=\"M6\",  # Increased to 6-month intervals due to longer time range\n",
    "    tickformat=\"%b\\n%Y\",\n",
    "    tickfont=dict(size=12, family=\"Arial\", color=\"black\"),\n",
    "    zeroline=False\n",
    ")\n",
    "\n",
    "# Update y-axis\n",
    "fig.update_yaxes(\n",
    "    title_text=\"Balance Sheet Trajectory Score\",\n",
    "    title_font=dict(size=16, family=\"Arial\", color=\"#1F77B4\"),\n",
    "    showgrid=True,\n",
    "    gridcolor='lightgray',\n",
    "    gridwidth=1,\n",
    "    zeroline=True,\n",
    "    zerolinecolor='black',\n",
    "    zerolinewidth=1,\n",
    "    tickfont=dict(size=12, family=\"Arial\", color=\"#1F77B4\"),\n",
    ")\n",
    "\n",
    "# Show the figure\n",
    "fig.show()\n",
    "\n",
    "# Save as a static image for presentations\n",
    "fig.write_image(\"fed_balance_sheet_trajectory.png\", scale=2)  # Higher scale for better resolution\n",
    "\n",
    "# Save as HTML\n",
    "fig.write_html(\"fed_balance_sheet_trajectory.html\")"
   ]
  },
  {
   "cell_type": "code",
   "execution_count": 47,
   "metadata": {},
   "outputs": [
    {
     "data": {
      "application/vnd.plotly.v1+json": {
       "config": {
        "plotlyServerURL": "https://plot.ly"
       },
       "data": [
        {
         "line": {
          "color": "#1F77B4",
          "width": 2.5
         },
         "marker": {
          "color": "#1F77B4",
          "line": {
           "color": "white",
           "width": 1
          },
          "size": 8
         },
         "mode": "lines+markers",
         "name": "Forward Guidance",
         "type": "scatter",
         "x": [
          "2020-01-29T00:00:00.000000000",
          "2020-03-03T00:00:00.000000000",
          "2020-03-15T00:00:00.000000000",
          "2020-04-29T00:00:00.000000000",
          "2020-06-10T00:00:00.000000000",
          "2020-07-29T00:00:00.000000000",
          "2020-09-16T00:00:00.000000000",
          "2020-11-05T00:00:00.000000000",
          "2020-12-16T00:00:00.000000000",
          "2021-01-27T00:00:00.000000000",
          "2021-03-17T00:00:00.000000000",
          "2021-04-28T00:00:00.000000000",
          "2021-06-16T00:00:00.000000000",
          "2021-07-28T00:00:00.000000000",
          "2021-09-22T00:00:00.000000000",
          "2021-11-03T00:00:00.000000000",
          "2021-12-15T00:00:00.000000000",
          "2022-01-26T00:00:00.000000000",
          "2022-03-16T00:00:00.000000000",
          "2022-05-04T00:00:00.000000000",
          "2022-06-15T00:00:00.000000000",
          "2022-07-27T00:00:00.000000000",
          "2022-09-21T00:00:00.000000000",
          "2022-11-02T00:00:00.000000000",
          "2022-12-14T00:00:00.000000000",
          "2023-02-01T00:00:00.000000000",
          "2023-03-22T00:00:00.000000000",
          "2023-05-03T00:00:00.000000000",
          "2023-06-14T00:00:00.000000000",
          "2023-07-26T00:00:00.000000000",
          "2023-09-20T00:00:00.000000000",
          "2023-11-01T00:00:00.000000000",
          "2023-12-13T00:00:00.000000000",
          "2024-01-31T00:00:00.000000000",
          "2024-03-20T00:00:00.000000000",
          "2024-05-01T00:00:00.000000000",
          "2024-06-12T00:00:00.000000000",
          "2024-07-31T00:00:00.000000000",
          "2024-09-18T00:00:00.000000000",
          "2024-11-07T00:00:00.000000000"
         ],
         "y": {
          "bdata": "dmpEL8TPV78aC9cPvcpvP+bbcCYIJ32/uywr7x3BZz89fmx2SD9lPxUXcmpComa/Uj3lakhuh7+cZGMnm4FrP7hfHZEmapE/80M4fUxnmT8alBsjwe2YPyfDl8GMbns/iV2yzEwSYz/Dwy8N6Jh7vz7T23MSfpM//FKKqvh0pj85tSqCGO+RP9lzB+f9v4S/rNYMaetMjr8L8O6DrS6OvzXiUlilGKG/B2GYMBCgiD/Rc1P4xVFiPxaOXQu+boO/CtHUKLbojz91eXVLO1Bwv43U8qnI5YK/JMHECx0NMT9j00GMUOV0P8/dyTTxgHu/hDTQTWejnT+4H6w6n9hUv7iCW6MWyJE/2kSJzJ7Yk78PGqlZnpEFv8w4OxYqeXK/pDKmVHbYc7+cSVxpl29kP9dbn9RFlY6/G85CwBMcir8=",
          "dtype": "f8"
         }
        }
       ],
       "layout": {
        "annotations": [
         {
          "align": "center",
          "bgcolor": "rgba(255, 255, 255, 0.9)",
          "bordercolor": "green",
          "borderpad": 3,
          "borderwidth": 2,
          "font": {
           "color": "green",
           "family": "Arial",
           "size": 12,
           "weight": "bold"
          },
          "showarrow": false,
          "text": "Clear Tapering Plan",
          "x": "2021-11-03T00:00:00",
          "y": 0.1438611705950844
         },
         {
          "align": "center",
          "bgcolor": "rgba(255, 255, 255, 0.9)",
          "bordercolor": "orange",
          "borderpad": 3,
          "borderwidth": 2,
          "font": {
           "color": "orange",
           "family": "Arial",
           "size": 12,
           "weight": "bold"
          },
          "showarrow": false,
          "text": "Rate Hike for ?",
          "x": "2022-06-15T00:00:00",
          "y": -0.1333911581341834
         },
         {
          "align": "left",
          "bgcolor": "white",
          "bordercolor": "#1F77B4",
          "borderpad": 3,
          "borderwidth": 1,
          "font": {
           "color": "#1F77B4",
           "size": 14
          },
          "showarrow": false,
          "text": "↑ Stronger Forward Guidance",
          "x": "2020-03-01T00:00:00",
          "y": 0.03508893647606753
         },
         {
          "align": "left",
          "bgcolor": "white",
          "bordercolor": "#1F77B4",
          "borderpad": 3,
          "borderwidth": 1,
          "font": {
           "color": "#1F77B4",
           "size": 14
          },
          "showarrow": false,
          "text": "↓ Weaker Forward Guidance",
          "x": "2020-03-01T00:00:00",
          "y": -0.026712926507346718
         }
        ],
        "height": 600,
        "margin": {
         "b": 80,
         "l": 80,
         "r": 60,
         "t": 100
        },
        "paper_bgcolor": "white",
        "plot_bgcolor": "white",
        "shapes": [
         {
          "line": {
           "color": "black",
           "dash": "dash",
           "width": 1
          },
          "type": "line",
          "x0": "2020-01-29T00:00:00",
          "x1": "2024-11-07T00:00:00",
          "y0": 0,
          "y1": 0
         },
         {
          "line": {
           "color": "green",
           "dash": "solid",
           "width": 1.5
          },
          "type": "line",
          "x0": "2021-11-03T00:00:00",
          "x1": "2021-11-03T00:00:00",
          "y0": -0.1333911581341834,
          "y1": 0.1438611705950844
         },
         {
          "line": {
           "color": "orange",
           "dash": "solid",
           "width": 1.5
          },
          "type": "line",
          "x0": "2022-06-15T00:00:00",
          "x1": "2022-06-15T00:00:00",
          "y0": -0.1333911581341834,
          "y1": 0.1438611705950844
         }
        ],
        "showlegend": false,
        "template": {
         "data": {
          "bar": [
           {
            "error_x": {
             "color": "#2a3f5f"
            },
            "error_y": {
             "color": "#2a3f5f"
            },
            "marker": {
             "line": {
              "color": "#E5ECF6",
              "width": 0.5
             },
             "pattern": {
              "fillmode": "overlay",
              "size": 10,
              "solidity": 0.2
             }
            },
            "type": "bar"
           }
          ],
          "barpolar": [
           {
            "marker": {
             "line": {
              "color": "#E5ECF6",
              "width": 0.5
             },
             "pattern": {
              "fillmode": "overlay",
              "size": 10,
              "solidity": 0.2
             }
            },
            "type": "barpolar"
           }
          ],
          "carpet": [
           {
            "aaxis": {
             "endlinecolor": "#2a3f5f",
             "gridcolor": "white",
             "linecolor": "white",
             "minorgridcolor": "white",
             "startlinecolor": "#2a3f5f"
            },
            "baxis": {
             "endlinecolor": "#2a3f5f",
             "gridcolor": "white",
             "linecolor": "white",
             "minorgridcolor": "white",
             "startlinecolor": "#2a3f5f"
            },
            "type": "carpet"
           }
          ],
          "choropleth": [
           {
            "colorbar": {
             "outlinewidth": 0,
             "ticks": ""
            },
            "type": "choropleth"
           }
          ],
          "contour": [
           {
            "colorbar": {
             "outlinewidth": 0,
             "ticks": ""
            },
            "colorscale": [
             [
              0,
              "#0d0887"
             ],
             [
              0.1111111111111111,
              "#46039f"
             ],
             [
              0.2222222222222222,
              "#7201a8"
             ],
             [
              0.3333333333333333,
              "#9c179e"
             ],
             [
              0.4444444444444444,
              "#bd3786"
             ],
             [
              0.5555555555555556,
              "#d8576b"
             ],
             [
              0.6666666666666666,
              "#ed7953"
             ],
             [
              0.7777777777777778,
              "#fb9f3a"
             ],
             [
              0.8888888888888888,
              "#fdca26"
             ],
             [
              1,
              "#f0f921"
             ]
            ],
            "type": "contour"
           }
          ],
          "contourcarpet": [
           {
            "colorbar": {
             "outlinewidth": 0,
             "ticks": ""
            },
            "type": "contourcarpet"
           }
          ],
          "heatmap": [
           {
            "colorbar": {
             "outlinewidth": 0,
             "ticks": ""
            },
            "colorscale": [
             [
              0,
              "#0d0887"
             ],
             [
              0.1111111111111111,
              "#46039f"
             ],
             [
              0.2222222222222222,
              "#7201a8"
             ],
             [
              0.3333333333333333,
              "#9c179e"
             ],
             [
              0.4444444444444444,
              "#bd3786"
             ],
             [
              0.5555555555555556,
              "#d8576b"
             ],
             [
              0.6666666666666666,
              "#ed7953"
             ],
             [
              0.7777777777777778,
              "#fb9f3a"
             ],
             [
              0.8888888888888888,
              "#fdca26"
             ],
             [
              1,
              "#f0f921"
             ]
            ],
            "type": "heatmap"
           }
          ],
          "histogram": [
           {
            "marker": {
             "pattern": {
              "fillmode": "overlay",
              "size": 10,
              "solidity": 0.2
             }
            },
            "type": "histogram"
           }
          ],
          "histogram2d": [
           {
            "colorbar": {
             "outlinewidth": 0,
             "ticks": ""
            },
            "colorscale": [
             [
              0,
              "#0d0887"
             ],
             [
              0.1111111111111111,
              "#46039f"
             ],
             [
              0.2222222222222222,
              "#7201a8"
             ],
             [
              0.3333333333333333,
              "#9c179e"
             ],
             [
              0.4444444444444444,
              "#bd3786"
             ],
             [
              0.5555555555555556,
              "#d8576b"
             ],
             [
              0.6666666666666666,
              "#ed7953"
             ],
             [
              0.7777777777777778,
              "#fb9f3a"
             ],
             [
              0.8888888888888888,
              "#fdca26"
             ],
             [
              1,
              "#f0f921"
             ]
            ],
            "type": "histogram2d"
           }
          ],
          "histogram2dcontour": [
           {
            "colorbar": {
             "outlinewidth": 0,
             "ticks": ""
            },
            "colorscale": [
             [
              0,
              "#0d0887"
             ],
             [
              0.1111111111111111,
              "#46039f"
             ],
             [
              0.2222222222222222,
              "#7201a8"
             ],
             [
              0.3333333333333333,
              "#9c179e"
             ],
             [
              0.4444444444444444,
              "#bd3786"
             ],
             [
              0.5555555555555556,
              "#d8576b"
             ],
             [
              0.6666666666666666,
              "#ed7953"
             ],
             [
              0.7777777777777778,
              "#fb9f3a"
             ],
             [
              0.8888888888888888,
              "#fdca26"
             ],
             [
              1,
              "#f0f921"
             ]
            ],
            "type": "histogram2dcontour"
           }
          ],
          "mesh3d": [
           {
            "colorbar": {
             "outlinewidth": 0,
             "ticks": ""
            },
            "type": "mesh3d"
           }
          ],
          "parcoords": [
           {
            "line": {
             "colorbar": {
              "outlinewidth": 0,
              "ticks": ""
             }
            },
            "type": "parcoords"
           }
          ],
          "pie": [
           {
            "automargin": true,
            "type": "pie"
           }
          ],
          "scatter": [
           {
            "fillpattern": {
             "fillmode": "overlay",
             "size": 10,
             "solidity": 0.2
            },
            "type": "scatter"
           }
          ],
          "scatter3d": [
           {
            "line": {
             "colorbar": {
              "outlinewidth": 0,
              "ticks": ""
             }
            },
            "marker": {
             "colorbar": {
              "outlinewidth": 0,
              "ticks": ""
             }
            },
            "type": "scatter3d"
           }
          ],
          "scattercarpet": [
           {
            "marker": {
             "colorbar": {
              "outlinewidth": 0,
              "ticks": ""
             }
            },
            "type": "scattercarpet"
           }
          ],
          "scattergeo": [
           {
            "marker": {
             "colorbar": {
              "outlinewidth": 0,
              "ticks": ""
             }
            },
            "type": "scattergeo"
           }
          ],
          "scattergl": [
           {
            "marker": {
             "colorbar": {
              "outlinewidth": 0,
              "ticks": ""
             }
            },
            "type": "scattergl"
           }
          ],
          "scattermap": [
           {
            "marker": {
             "colorbar": {
              "outlinewidth": 0,
              "ticks": ""
             }
            },
            "type": "scattermap"
           }
          ],
          "scattermapbox": [
           {
            "marker": {
             "colorbar": {
              "outlinewidth": 0,
              "ticks": ""
             }
            },
            "type": "scattermapbox"
           }
          ],
          "scatterpolar": [
           {
            "marker": {
             "colorbar": {
              "outlinewidth": 0,
              "ticks": ""
             }
            },
            "type": "scatterpolar"
           }
          ],
          "scatterpolargl": [
           {
            "marker": {
             "colorbar": {
              "outlinewidth": 0,
              "ticks": ""
             }
            },
            "type": "scatterpolargl"
           }
          ],
          "scatterternary": [
           {
            "marker": {
             "colorbar": {
              "outlinewidth": 0,
              "ticks": ""
             }
            },
            "type": "scatterternary"
           }
          ],
          "surface": [
           {
            "colorbar": {
             "outlinewidth": 0,
             "ticks": ""
            },
            "colorscale": [
             [
              0,
              "#0d0887"
             ],
             [
              0.1111111111111111,
              "#46039f"
             ],
             [
              0.2222222222222222,
              "#7201a8"
             ],
             [
              0.3333333333333333,
              "#9c179e"
             ],
             [
              0.4444444444444444,
              "#bd3786"
             ],
             [
              0.5555555555555556,
              "#d8576b"
             ],
             [
              0.6666666666666666,
              "#ed7953"
             ],
             [
              0.7777777777777778,
              "#fb9f3a"
             ],
             [
              0.8888888888888888,
              "#fdca26"
             ],
             [
              1,
              "#f0f921"
             ]
            ],
            "type": "surface"
           }
          ],
          "table": [
           {
            "cells": {
             "fill": {
              "color": "#EBF0F8"
             },
             "line": {
              "color": "white"
             }
            },
            "header": {
             "fill": {
              "color": "#C8D4E3"
             },
             "line": {
              "color": "white"
             }
            },
            "type": "table"
           }
          ]
         },
         "layout": {
          "annotationdefaults": {
           "arrowcolor": "#2a3f5f",
           "arrowhead": 0,
           "arrowwidth": 1
          },
          "autotypenumbers": "strict",
          "coloraxis": {
           "colorbar": {
            "outlinewidth": 0,
            "ticks": ""
           }
          },
          "colorscale": {
           "diverging": [
            [
             0,
             "#8e0152"
            ],
            [
             0.1,
             "#c51b7d"
            ],
            [
             0.2,
             "#de77ae"
            ],
            [
             0.3,
             "#f1b6da"
            ],
            [
             0.4,
             "#fde0ef"
            ],
            [
             0.5,
             "#f7f7f7"
            ],
            [
             0.6,
             "#e6f5d0"
            ],
            [
             0.7,
             "#b8e186"
            ],
            [
             0.8,
             "#7fbc41"
            ],
            [
             0.9,
             "#4d9221"
            ],
            [
             1,
             "#276419"
            ]
           ],
           "sequential": [
            [
             0,
             "#0d0887"
            ],
            [
             0.1111111111111111,
             "#46039f"
            ],
            [
             0.2222222222222222,
             "#7201a8"
            ],
            [
             0.3333333333333333,
             "#9c179e"
            ],
            [
             0.4444444444444444,
             "#bd3786"
            ],
            [
             0.5555555555555556,
             "#d8576b"
            ],
            [
             0.6666666666666666,
             "#ed7953"
            ],
            [
             0.7777777777777778,
             "#fb9f3a"
            ],
            [
             0.8888888888888888,
             "#fdca26"
            ],
            [
             1,
             "#f0f921"
            ]
           ],
           "sequentialminus": [
            [
             0,
             "#0d0887"
            ],
            [
             0.1111111111111111,
             "#46039f"
            ],
            [
             0.2222222222222222,
             "#7201a8"
            ],
            [
             0.3333333333333333,
             "#9c179e"
            ],
            [
             0.4444444444444444,
             "#bd3786"
            ],
            [
             0.5555555555555556,
             "#d8576b"
            ],
            [
             0.6666666666666666,
             "#ed7953"
            ],
            [
             0.7777777777777778,
             "#fb9f3a"
            ],
            [
             0.8888888888888888,
             "#fdca26"
            ],
            [
             1,
             "#f0f921"
            ]
           ]
          },
          "colorway": [
           "#636efa",
           "#EF553B",
           "#00cc96",
           "#ab63fa",
           "#FFA15A",
           "#19d3f3",
           "#FF6692",
           "#B6E880",
           "#FF97FF",
           "#FECB52"
          ],
          "font": {
           "color": "#2a3f5f"
          },
          "geo": {
           "bgcolor": "white",
           "lakecolor": "white",
           "landcolor": "#E5ECF6",
           "showlakes": true,
           "showland": true,
           "subunitcolor": "white"
          },
          "hoverlabel": {
           "align": "left"
          },
          "hovermode": "closest",
          "mapbox": {
           "style": "light"
          },
          "paper_bgcolor": "white",
          "plot_bgcolor": "#E5ECF6",
          "polar": {
           "angularaxis": {
            "gridcolor": "white",
            "linecolor": "white",
            "ticks": ""
           },
           "bgcolor": "#E5ECF6",
           "radialaxis": {
            "gridcolor": "white",
            "linecolor": "white",
            "ticks": ""
           }
          },
          "scene": {
           "xaxis": {
            "backgroundcolor": "#E5ECF6",
            "gridcolor": "white",
            "gridwidth": 2,
            "linecolor": "white",
            "showbackground": true,
            "ticks": "",
            "zerolinecolor": "white"
           },
           "yaxis": {
            "backgroundcolor": "#E5ECF6",
            "gridcolor": "white",
            "gridwidth": 2,
            "linecolor": "white",
            "showbackground": true,
            "ticks": "",
            "zerolinecolor": "white"
           },
           "zaxis": {
            "backgroundcolor": "#E5ECF6",
            "gridcolor": "white",
            "gridwidth": 2,
            "linecolor": "white",
            "showbackground": true,
            "ticks": "",
            "zerolinecolor": "white"
           }
          },
          "shapedefaults": {
           "line": {
            "color": "#2a3f5f"
           }
          },
          "ternary": {
           "aaxis": {
            "gridcolor": "white",
            "linecolor": "white",
            "ticks": ""
           },
           "baxis": {
            "gridcolor": "white",
            "linecolor": "white",
            "ticks": ""
           },
           "bgcolor": "#E5ECF6",
           "caxis": {
            "gridcolor": "white",
            "linecolor": "white",
            "ticks": ""
           }
          },
          "title": {
           "x": 0.05
          },
          "xaxis": {
           "automargin": true,
           "gridcolor": "white",
           "linecolor": "white",
           "ticks": "",
           "title": {
            "standoff": 15
           },
           "zerolinecolor": "white",
           "zerolinewidth": 2
          },
          "yaxis": {
           "automargin": true,
           "gridcolor": "white",
           "linecolor": "white",
           "ticks": "",
           "title": {
            "standoff": 15
           },
           "zerolinecolor": "white",
           "zerolinewidth": 2
          }
         }
        },
        "title": {
         "font": {
          "color": "black",
          "family": "Arial",
          "size": 20
         },
         "text": "Federal Reserve Forward Guidance (2020-2024)",
         "x": 0.5,
         "xanchor": "center",
         "y": 0.95,
         "yanchor": "top"
        },
        "width": 1000,
        "xaxis": {
         "dtick": "M3",
         "gridcolor": "lightgray",
         "gridwidth": 1,
         "showgrid": true,
         "tickfont": {
          "color": "black",
          "family": "Arial",
          "size": 12
         },
         "tickformat": "%b\n%Y",
         "title": {
          "font": {
           "color": "black",
           "family": "Arial",
           "size": 16
          },
          "text": "FOMC Meeting Date"
         },
         "zeroline": false
        },
        "yaxis": {
         "gridcolor": "lightgray",
         "gridwidth": 1,
         "showgrid": true,
         "tickfont": {
          "color": "#1F77B4",
          "family": "Arial",
          "size": 12
         },
         "title": {
          "font": {
           "color": "#1F77B4",
           "family": "Arial",
           "size": 16
          },
          "text": "Forward Guidance Score"
         },
         "zeroline": true,
         "zerolinecolor": "black",
         "zerolinewidth": 1
        }
       }
      }
     },
     "metadata": {},
     "output_type": "display_data"
    }
   ],
   "source": [
    "import plotly.graph_objects as go\n",
    "import pandas as pd\n",
    "import numpy as np\n",
    "from datetime import datetime\n",
    "\n",
    "# Convert date to datetime if it's not already\n",
    "if not pd.api.types.is_datetime64_any_dtype(df['date']):\n",
    "    df['date'] = pd.to_datetime(df['date'])\n",
    "\n",
    "# Filter data starting from January 2020\n",
    "mask = (df['date'] >= '2020-01-01') & (df['date'] <= '2025-01-01')\n",
    "filtered_df = df.loc[mask].copy()\n",
    "\n",
    "# Make sure the data is sorted by date\n",
    "filtered_df = filtered_df.sort_values('date')\n",
    "\n",
    "# Key events with dates and descriptions for forward guidance\n",
    "key_events = [\n",
    "    {'date': '2021-11-03', 'description': 'Clear Tapering Plan', 'color': 'green'},\n",
    "    {'date': '2022-06-15', 'description': 'Rate Hike for ?', 'color': 'orange'}\n",
    "]\n",
    "\n",
    "# Create the figure\n",
    "fig = go.Figure()\n",
    "\n",
    "# Add forward guidance score\n",
    "fig.add_trace(\n",
    "    go.Scatter(\n",
    "        x=filtered_df['date'], \n",
    "        y=filtered_df['forward_guidance_guidance_score'],\n",
    "        mode='lines+markers',\n",
    "        name='Forward Guidance',\n",
    "        line=dict(color='#1F77B4', width=2.5),  # Blue for forward guidance\n",
    "        marker=dict(\n",
    "            size=8,\n",
    "            color='#1F77B4',\n",
    "            line=dict(color='white', width=1)\n",
    "        )\n",
    "    )\n",
    ")\n",
    "\n",
    "# Add reference line at zero\n",
    "fig.add_shape(\n",
    "    type=\"line\",\n",
    "    x0=filtered_df['date'].min(),\n",
    "    y0=0,\n",
    "    x1=filtered_df['date'].max(),\n",
    "    y1=0,\n",
    "    line=dict(color=\"black\", width=1, dash=\"dash\"),\n",
    ")\n",
    "\n",
    "# Add key events as vertical lines with clearly visible annotations\n",
    "for event in key_events:\n",
    "    event_date = pd.Timestamp(event['date'])\n",
    "    \n",
    "    # Find the nearest date in our data\n",
    "    nearest_idx = abs(filtered_df['date'] - event_date).argmin()\n",
    "    \n",
    "    # Find the forward guidance score on that date (if available)\n",
    "    y_position = 0\n",
    "    if nearest_idx < len(filtered_df):\n",
    "        y_position = filtered_df.iloc[nearest_idx]['forward_guidance_guidance_score']\n",
    "    \n",
    "    # Add vertical line\n",
    "    fig.add_shape(\n",
    "        type=\"line\",\n",
    "        x0=event_date,\n",
    "        y0=filtered_df['forward_guidance_guidance_score'].min() - 0.1,\n",
    "        x1=event_date,\n",
    "        y1=filtered_df['forward_guidance_guidance_score'].max() + 0.1,\n",
    "        line=dict(\n",
    "            color=event['color'],\n",
    "            width=1.5,\n",
    "            dash=\"solid\",\n",
    "        ),\n",
    "    )\n",
    "    \n",
    "    # Position adjustments for annotations to prevent overlap\n",
    "    y_offsets = {\n",
    "        '2021-11-03': 0.1,\n",
    "        '2022-06-15': -0.1\n",
    "    }\n",
    "    \n",
    "    y_offset = y_offsets.get(event['date'], 0)\n",
    "    \n",
    "    # Add clear text labels\n",
    "    fig.add_annotation(\n",
    "        x=event_date,\n",
    "        y=y_position + y_offset,\n",
    "        text=event['description'],\n",
    "        showarrow=False,\n",
    "        font=dict(size=12, color=event['color'], family=\"Arial\", weight=\"bold\"),\n",
    "        align=\"center\",\n",
    "        bgcolor=\"rgba(255, 255, 255, 0.9)\",\n",
    "        bordercolor=event['color'],\n",
    "        borderwidth=2,\n",
    "        borderpad=3,\n",
    "    )\n",
    "\n",
    "# Add annotations for forward guidance score interpretations\n",
    "fig.add_annotation(\n",
    "    x=pd.Timestamp(\"2020-03-01\"),\n",
    "    y=filtered_df['forward_guidance_guidance_score'].max() * 0.8,\n",
    "    text=\"↑ Stronger Forward Guidance\",\n",
    "    showarrow=False,\n",
    "    font=dict(size=14, color=\"#1F77B4\"),\n",
    "    align=\"left\",\n",
    "    bgcolor=\"white\",\n",
    "    bordercolor=\"#1F77B4\",\n",
    "    borderwidth=1,\n",
    "    borderpad=3,\n",
    ")\n",
    "\n",
    "fig.add_annotation(\n",
    "    x=pd.Timestamp(\"2020-03-01\"),\n",
    "    y=filtered_df['forward_guidance_guidance_score'].min() * 0.8,\n",
    "    text=\"↓ Weaker Forward Guidance\",\n",
    "    showarrow=False,\n",
    "    font=dict(size=14, color=\"#1F77B4\"),\n",
    "    align=\"left\",\n",
    "    bgcolor=\"white\",\n",
    "    bordercolor=\"#1F77B4\",\n",
    "    borderwidth=1,\n",
    "    borderpad=3,\n",
    ")\n",
    "\n",
    "# Update layout with clear, print-friendly styling\n",
    "fig.update_layout(\n",
    "    title={\n",
    "        'text': 'Federal Reserve Forward Guidance (2020-2024)',\n",
    "        'y':0.95,\n",
    "        'x':0.5,\n",
    "        'xanchor': 'center',\n",
    "        'yanchor': 'top',\n",
    "        'font': dict(size=20, family=\"Arial\", color=\"black\")\n",
    "    },\n",
    "    showlegend=False,  # No legend needed\n",
    "    plot_bgcolor='white',\n",
    "    paper_bgcolor='white',\n",
    "    height=600,\n",
    "    width=1000,\n",
    "    margin=dict(l=80, r=60, t=100, b=80)\n",
    ")\n",
    "\n",
    "# Update x-axis\n",
    "fig.update_xaxes(\n",
    "    title_text=\"FOMC Meeting Date\",\n",
    "    title_font=dict(size=16, family=\"Arial\", color=\"black\"),\n",
    "    showgrid=True,\n",
    "    gridcolor='lightgray',\n",
    "    gridwidth=1,\n",
    "    dtick=\"M3\",\n",
    "    tickformat=\"%b\\n%Y\",\n",
    "    tickfont=dict(size=12, family=\"Arial\", color=\"black\"),\n",
    "    zeroline=False\n",
    ")\n",
    "\n",
    "# Update y-axis\n",
    "fig.update_yaxes(\n",
    "    title_text=\"Forward Guidance Score\",\n",
    "    title_font=dict(size=16, family=\"Arial\", color=\"#1F77B4\"),\n",
    "    showgrid=True,\n",
    "    gridcolor='lightgray',\n",
    "    gridwidth=1,\n",
    "    zeroline=True,\n",
    "    zerolinecolor='black',\n",
    "    zerolinewidth=1,\n",
    "    tickfont=dict(size=12, family=\"Arial\", color=\"#1F77B4\"),\n",
    ")\n",
    "\n",
    "# Show the figure\n",
    "fig.show()\n",
    "\n",
    "# Save as a static image for presentations\n",
    "fig.write_image(\"fed_forward_guidance.png\", scale=2)  # Higher scale for better resolution\n",
    "\n",
    "# Save as HTML\n",
    "fig.write_html(\"fed_forward_guidance.html\")"
   ]
  },
  {
   "cell_type": "code",
   "execution_count": 10,
   "metadata": {},
   "outputs": [
    {
     "data": {
      "image/png": "[encoded data removed]",
      "text/plain": [
       "<Figure size 1500x500 with 2 Axes>"
      ]
     },
     "metadata": {},
     "output_type": "display_data"
    }
   ],
   "source": [
    "from statsmodels.graphics.tsaplots import plot_acf, plot_pacf\n",
    "\n",
    "\n",
    "col = 'inflation_level_score'\n",
    "# Create figure with 2 subplots\n",
    "fig, (ax1, ax2) = plt.subplots(1, 2, figsize=(15, 5))\n",
    "\n",
    "# Plot ACF\n",
    "plot_acf(plot_df[col].dropna(), \n",
    "         lags=20,\n",
    "         alpha=0.05,  # 95% confidence interval\n",
    "         title='Autocorrelation Function',\n",
    "         ax=ax1)\n",
    "\n",
    "# Plot PACF\n",
    "plot_pacf(plot_df[col].dropna(), \n",
    "          lags=20,\n",
    "          alpha=0.05,  # 95% confidence interval\n",
    "          title='Partial Autocorrelation Function',\n",
    "          ax=ax2)\n",
    "\n",
    "plt.tight_layout()\n",
    "plt.show()\n"
   ]
  },
  {
   "cell_type": "markdown",
   "metadata": {},
   "source": [
    "We gonna estimate path of the interest rates on the differenced scores.\n",
    "effect on different rates at different times (from 1d, 3d, 5d, 10d, 20d, 30d)\n",
    "\n",
    "We also want to see whether there is a autocorrelation in the differences in scores. "
   ]
  },
  {
   "cell_type": "code",
   "execution_count": 57,
   "metadata": {},
   "outputs": [
    {
     "name": "stderr",
     "output_type": "stream",
     "text": [
      "/var/folders/bg/7dlg6wfn7l1cn6q3xxnwfj_80000gn/T/ipykernel_90147/2728664674.py:24: SettingWithCopyWarning:\n",
      "\n",
      "\n",
      "A value is trying to be set on a copy of a slice from a DataFrame.\n",
      "Try using .loc[row_indexer,col_indexer] = value instead\n",
      "\n",
      "See the caveats in the documentation: https://pandas.pydata.org/pandas-docs/stable/user_guide/indexing.html#returning-a-view-versus-a-copy\n",
      "\n"
     ]
    },
    {
     "data": {
      "text/html": [
       "<div>\n",
       "<style scoped>\n",
       "    .dataframe tbody tr th:only-of-type {\n",
       "        vertical-align: middle;\n",
       "    }\n",
       "\n",
       "    .dataframe tbody tr th {\n",
       "        vertical-align: top;\n",
       "    }\n",
       "\n",
       "    .dataframe thead th {\n",
       "        text-align: right;\n",
       "    }\n",
       "</style>\n",
       "<table border=\"1\" class=\"dataframe\">\n",
       "  <thead>\n",
       "    <tr style=\"text-align: right;\">\n",
       "      <th></th>\n",
       "      <th>date</th>\n",
       "      <th>Meeting Date_x</th>\n",
       "      <th>1y</th>\n",
       "      <th>2y</th>\n",
       "      <th>5y</th>\n",
       "      <th>7y</th>\n",
       "      <th>10y</th>\n",
       "      <th>30y</th>\n",
       "      <th>1y1y</th>\n",
       "      <th>2y1y</th>\n",
       "      <th>...</th>\n",
       "      <th>2s5s_1d</th>\n",
       "      <th>1y2s5s_1d</th>\n",
       "      <th>5s10s_1d</th>\n",
       "      <th>1y5s10s_1d</th>\n",
       "      <th>10s30s_1d</th>\n",
       "      <th>2y1y/3y2y_1d</th>\n",
       "      <th>3y2y/5y2y_1d</th>\n",
       "      <th>5y2y/7y3y_1d</th>\n",
       "      <th>5y5y/10y10y_1d</th>\n",
       "      <th>10y10y/20y10y_1d</th>\n",
       "    </tr>\n",
       "  </thead>\n",
       "  <tbody>\n",
       "    <tr>\n",
       "      <th>0</th>\n",
       "      <td>2007-01-31</td>\n",
       "      <td>0</td>\n",
       "      <td>5.2489</td>\n",
       "      <td>5.1481</td>\n",
       "      <td>5.0977</td>\n",
       "      <td>5.1647</td>\n",
       "      <td>5.1929</td>\n",
       "      <td>4.0418</td>\n",
       "      <td>5.0553</td>\n",
       "      <td>5.0253</td>\n",
       "      <td>...</td>\n",
       "      <td>-0.0236</td>\n",
       "      <td>0.0514</td>\n",
       "      <td>0.0561</td>\n",
       "      <td>-0.0159</td>\n",
       "      <td>-1.1588</td>\n",
       "      <td>0.1177</td>\n",
       "      <td>0.1203</td>\n",
       "      <td>0.0986</td>\n",
       "      <td>-1.8997</td>\n",
       "      <td>-0.9001</td>\n",
       "    </tr>\n",
       "    <tr>\n",
       "      <th>1</th>\n",
       "      <td>2007-03-21</td>\n",
       "      <td>0</td>\n",
       "      <td>4.8911</td>\n",
       "      <td>4.7240</td>\n",
       "      <td>4.7649</td>\n",
       "      <td>4.8295</td>\n",
       "      <td>4.9030</td>\n",
       "      <td>3.8442</td>\n",
       "      <td>4.5469</td>\n",
       "      <td>4.6041</td>\n",
       "      <td>...</td>\n",
       "      <td>0.0322</td>\n",
       "      <td>0.2037</td>\n",
       "      <td>0.1388</td>\n",
       "      <td>0.0733</td>\n",
       "      <td>-1.0741</td>\n",
       "      <td>0.2307</td>\n",
       "      <td>0.1483</td>\n",
       "      <td>0.2425</td>\n",
       "      <td>-1.8423</td>\n",
       "      <td>-0.8520</td>\n",
       "    </tr>\n",
       "    <tr>\n",
       "      <th>2</th>\n",
       "      <td>2007-05-09</td>\n",
       "      <td>0</td>\n",
       "      <td>5.1191</td>\n",
       "      <td>4.9555</td>\n",
       "      <td>4.9478</td>\n",
       "      <td>5.0076</td>\n",
       "      <td>5.0704</td>\n",
       "      <td>3.9592</td>\n",
       "      <td>4.7961</td>\n",
       "      <td>4.8065</td>\n",
       "      <td>...</td>\n",
       "      <td>0.0005</td>\n",
       "      <td>0.1509</td>\n",
       "      <td>0.1261</td>\n",
       "      <td>0.0630</td>\n",
       "      <td>-1.1021</td>\n",
       "      <td>0.2030</td>\n",
       "      <td>0.1494</td>\n",
       "      <td>0.2480</td>\n",
       "      <td>-1.8796</td>\n",
       "      <td>-0.8690</td>\n",
       "    </tr>\n",
       "    <tr>\n",
       "      <th>3</th>\n",
       "      <td>2007-06-28</td>\n",
       "      <td>0</td>\n",
       "      <td>5.3206</td>\n",
       "      <td>5.3334</td>\n",
       "      <td>5.5665</td>\n",
       "      <td>5.5601</td>\n",
       "      <td>5.6176</td>\n",
       "      <td>4.3401</td>\n",
       "      <td>5.3147</td>\n",
       "      <td>5.4441</td>\n",
       "      <td>...</td>\n",
       "      <td>0.1470</td>\n",
       "      <td>0.2590</td>\n",
       "      <td>0.1493</td>\n",
       "      <td>0.0322</td>\n",
       "      <td>-1.2557</td>\n",
       "      <td>0.1758</td>\n",
       "      <td>0.1967</td>\n",
       "      <td>0.1212</td>\n",
       "      <td>-2.2233</td>\n",
       "      <td>-0.9695</td>\n",
       "    </tr>\n",
       "    <tr>\n",
       "      <th>4</th>\n",
       "      <td>2007-08-07</td>\n",
       "      <td>0</td>\n",
       "      <td>4.9408</td>\n",
       "      <td>4.9227</td>\n",
       "      <td>5.1283</td>\n",
       "      <td>5.2180</td>\n",
       "      <td>5.3132</td>\n",
       "      <td>4.1335</td>\n",
       "      <td>4.8473</td>\n",
       "      <td>5.0841</td>\n",
       "      <td>...</td>\n",
       "      <td>0.1881</td>\n",
       "      <td>0.3215</td>\n",
       "      <td>0.1897</td>\n",
       "      <td>0.0726</td>\n",
       "      <td>-1.1978</td>\n",
       "      <td>0.2607</td>\n",
       "      <td>0.1964</td>\n",
       "      <td>0.1886</td>\n",
       "      <td>-2.1614</td>\n",
       "      <td>-0.9363</td>\n",
       "    </tr>\n",
       "    <tr>\n",
       "      <th>...</th>\n",
       "      <td>...</td>\n",
       "      <td>...</td>\n",
       "      <td>...</td>\n",
       "      <td>...</td>\n",
       "      <td>...</td>\n",
       "      <td>...</td>\n",
       "      <td>...</td>\n",
       "      <td>...</td>\n",
       "      <td>...</td>\n",
       "      <td>...</td>\n",
       "      <td>...</td>\n",
       "      <td>...</td>\n",
       "      <td>...</td>\n",
       "      <td>...</td>\n",
       "      <td>...</td>\n",
       "      <td>...</td>\n",
       "      <td>...</td>\n",
       "      <td>...</td>\n",
       "      <td>...</td>\n",
       "      <td>...</td>\n",
       "      <td>...</td>\n",
       "    </tr>\n",
       "    <tr>\n",
       "      <th>142</th>\n",
       "      <td>2024-07-31</td>\n",
       "      <td>0</td>\n",
       "      <td>4.1905</td>\n",
       "      <td>3.7928</td>\n",
       "      <td>3.4695</td>\n",
       "      <td>3.4587</td>\n",
       "      <td>3.4901</td>\n",
       "      <td>3.4041</td>\n",
       "      <td>3.4759</td>\n",
       "      <td>3.2282</td>\n",
       "      <td>...</td>\n",
       "      <td>-0.2739</td>\n",
       "      <td>-0.1104</td>\n",
       "      <td>0.0449</td>\n",
       "      <td>0.1329</td>\n",
       "      <td>-0.0599</td>\n",
       "      <td>0.0275</td>\n",
       "      <td>0.1887</td>\n",
       "      <td>0.1652</td>\n",
       "      <td>0.1657</td>\n",
       "      <td>-0.7072</td>\n",
       "    </tr>\n",
       "    <tr>\n",
       "      <th>143</th>\n",
       "      <td>2024-09-18</td>\n",
       "      <td>0</td>\n",
       "      <td>3.3589</td>\n",
       "      <td>3.1346</td>\n",
       "      <td>3.0403</td>\n",
       "      <td>3.0751</td>\n",
       "      <td>3.1430</td>\n",
       "      <td>3.1168</td>\n",
       "      <td>2.9079</td>\n",
       "      <td>2.9043</td>\n",
       "      <td>...</td>\n",
       "      <td>-0.0620</td>\n",
       "      <td>0.1121</td>\n",
       "      <td>0.1134</td>\n",
       "      <td>0.1615</td>\n",
       "      <td>-0.0103</td>\n",
       "      <td>0.1087</td>\n",
       "      <td>0.1704</td>\n",
       "      <td>0.1488</td>\n",
       "      <td>0.1742</td>\n",
       "      <td>-0.6931</td>\n",
       "    </tr>\n",
       "    <tr>\n",
       "      <th>144</th>\n",
       "      <td>2024-11-07</td>\n",
       "      <td>0</td>\n",
       "      <td>3.9715</td>\n",
       "      <td>3.8402</td>\n",
       "      <td>3.7342</td>\n",
       "      <td>3.7354</td>\n",
       "      <td>3.7622</td>\n",
       "      <td>3.6402</td>\n",
       "      <td>3.7232</td>\n",
       "      <td>3.6735</td>\n",
       "      <td>...</td>\n",
       "      <td>-0.1424</td>\n",
       "      <td>-0.0964</td>\n",
       "      <td>-0.0052</td>\n",
       "      <td>0.0394</td>\n",
       "      <td>-0.1568</td>\n",
       "      <td>-0.0614</td>\n",
       "      <td>0.0526</td>\n",
       "      <td>0.0869</td>\n",
       "      <td>0.0653</td>\n",
       "      <td>-0.7797</td>\n",
       "    </tr>\n",
       "    <tr>\n",
       "      <th>145</th>\n",
       "      <td>2024-12-18</td>\n",
       "      <td>0</td>\n",
       "      <td>4.1749</td>\n",
       "      <td>4.1066</td>\n",
       "      <td>3.9968</td>\n",
       "      <td>3.9679</td>\n",
       "      <td>3.9594</td>\n",
       "      <td>3.7647</td>\n",
       "      <td>4.0584</td>\n",
       "      <td>3.9810</td>\n",
       "      <td>...</td>\n",
       "      <td>-0.0545</td>\n",
       "      <td>-0.0349</td>\n",
       "      <td>-0.0118</td>\n",
       "      <td>0.0099</td>\n",
       "      <td>-0.1900</td>\n",
       "      <td>-0.0292</td>\n",
       "      <td>-0.0018</td>\n",
       "      <td>0.0292</td>\n",
       "      <td>0.0132</td>\n",
       "      <td>-0.8106</td>\n",
       "    </tr>\n",
       "    <tr>\n",
       "      <th>146</th>\n",
       "      <td>2025-01-29</td>\n",
       "      <td>0</td>\n",
       "      <td>4.0469</td>\n",
       "      <td>3.9882</td>\n",
       "      <td>3.9807</td>\n",
       "      <td>3.9924</td>\n",
       "      <td>4.0189</td>\n",
       "      <td>3.8919</td>\n",
       "      <td>3.9187</td>\n",
       "      <td>3.9535</td>\n",
       "      <td>...</td>\n",
       "      <td>-0.0184</td>\n",
       "      <td>0.0368</td>\n",
       "      <td>0.0435</td>\n",
       "      <td>0.0616</td>\n",
       "      <td>-0.1227</td>\n",
       "      <td>0.0167</td>\n",
       "      <td>0.0644</td>\n",
       "      <td>0.0658</td>\n",
       "      <td>0.0686</td>\n",
       "      <td>-0.8051</td>\n",
       "    </tr>\n",
       "  </tbody>\n",
       "</table>\n",
       "<p>147 rows × 55 columns</p>\n",
       "</div>"
      ],
      "text/plain": [
       "          date  Meeting Date_x      1y      2y      5y      7y     10y  \\\n",
       "0   2007-01-31               0  5.2489  5.1481  5.0977  5.1647  5.1929   \n",
       "1   2007-03-21               0  4.8911  4.7240  4.7649  4.8295  4.9030   \n",
       "2   2007-05-09               0  5.1191  4.9555  4.9478  5.0076  5.0704   \n",
       "3   2007-06-28               0  5.3206  5.3334  5.5665  5.5601  5.6176   \n",
       "4   2007-08-07               0  4.9408  4.9227  5.1283  5.2180  5.3132   \n",
       "..         ...             ...     ...     ...     ...     ...     ...   \n",
       "142 2024-07-31               0  4.1905  3.7928  3.4695  3.4587  3.4901   \n",
       "143 2024-09-18               0  3.3589  3.1346  3.0403  3.0751  3.1430   \n",
       "144 2024-11-07               0  3.9715  3.8402  3.7342  3.7354  3.7622   \n",
       "145 2024-12-18               0  4.1749  4.1066  3.9968  3.9679  3.9594   \n",
       "146 2025-01-29               0  4.0469  3.9882  3.9807  3.9924  4.0189   \n",
       "\n",
       "        30y    1y1y    2y1y  ...  2s5s_1d  1y2s5s_1d  5s10s_1d  1y5s10s_1d  \\\n",
       "0    4.0418  5.0553  5.0253  ...  -0.0236     0.0514    0.0561     -0.0159   \n",
       "1    3.8442  4.5469  4.6041  ...   0.0322     0.2037    0.1388      0.0733   \n",
       "2    3.9592  4.7961  4.8065  ...   0.0005     0.1509    0.1261      0.0630   \n",
       "3    4.3401  5.3147  5.4441  ...   0.1470     0.2590    0.1493      0.0322   \n",
       "4    4.1335  4.8473  5.0841  ...   0.1881     0.3215    0.1897      0.0726   \n",
       "..      ...     ...     ...  ...      ...        ...       ...         ...   \n",
       "142  3.4041  3.4759  3.2282  ...  -0.2739    -0.1104    0.0449      0.1329   \n",
       "143  3.1168  2.9079  2.9043  ...  -0.0620     0.1121    0.1134      0.1615   \n",
       "144  3.6402  3.7232  3.6735  ...  -0.1424    -0.0964   -0.0052      0.0394   \n",
       "145  3.7647  4.0584  3.9810  ...  -0.0545    -0.0349   -0.0118      0.0099   \n",
       "146  3.8919  3.9187  3.9535  ...  -0.0184     0.0368    0.0435      0.0616   \n",
       "\n",
       "     10s30s_1d  2y1y/3y2y_1d  3y2y/5y2y_1d  5y2y/7y3y_1d  5y5y/10y10y_1d  \\\n",
       "0      -1.1588        0.1177        0.1203        0.0986         -1.8997   \n",
       "1      -1.0741        0.2307        0.1483        0.2425         -1.8423   \n",
       "2      -1.1021        0.2030        0.1494        0.2480         -1.8796   \n",
       "3      -1.2557        0.1758        0.1967        0.1212         -2.2233   \n",
       "4      -1.1978        0.2607        0.1964        0.1886         -2.1614   \n",
       "..         ...           ...           ...           ...             ...   \n",
       "142    -0.0599        0.0275        0.1887        0.1652          0.1657   \n",
       "143    -0.0103        0.1087        0.1704        0.1488          0.1742   \n",
       "144    -0.1568       -0.0614        0.0526        0.0869          0.0653   \n",
       "145    -0.1900       -0.0292       -0.0018        0.0292          0.0132   \n",
       "146    -0.1227        0.0167        0.0644        0.0658          0.0686   \n",
       "\n",
       "     10y10y/20y10y_1d  \n",
       "0             -0.9001  \n",
       "1             -0.8520  \n",
       "2             -0.8690  \n",
       "3             -0.9695  \n",
       "4             -0.9363  \n",
       "..                ...  \n",
       "142           -0.7072  \n",
       "143           -0.6931  \n",
       "144           -0.7797  \n",
       "145           -0.8106  \n",
       "146           -0.8051  \n",
       "\n",
       "[147 rows x 55 columns]"
      ]
     },
     "execution_count": 57,
     "metadata": {},
     "output_type": "execute_result"
    }
   ],
   "source": [
    "rates_path = \"/Users/dzz1th/Job/mgi/Soroka/data/pc_data/us_yields.csv\"\n",
    "rates_df = pd.read_csv(rates_path, index_col=0)\n",
    "rates_df.index = pd.to_datetime(rates_df.index)\n",
    "rates_df.columns = ['1M', '3M', '6M', '1Y', '2Y', '5Y', '10Y', '30Y']\n",
    "\n",
    "for term in rates_df.columns:\n",
    "    for d in [1, 3, 5, 10, 20, 30]:\n",
    "        rates_df[f'{term}_{d}d'] = rates_df[term].shift(-d) - rates_df[term]\n",
    "\n",
    "excel_file = \"DataForOlehV2.xlsx\"\n",
    "long_history = pd.read_excel(\n",
    "    excel_file,\n",
    "    sheet_name=\"Long History\", # 0-based index\n",
    "    nrows=442\n",
    ")\n",
    "\n",
    "long_history.rename(columns={'Unnamed: 0': 'date'}, inplace=True)\n",
    "long_history['date'] = pd.to_datetime(long_history['date'])\n",
    "\n",
    "long_history.head()\n",
    "df0 = long_history[long_history['Meeting Date'] == 0]\n",
    "df1 = long_history[long_history['Meeting Date'] == 1]\n",
    "\n",
    "df1['date'] = df1['date'] - pd.Timedelta(days=1)\n",
    "df1.columns = [f'{col}_1d' if col not in ['Meeting Date', 'date'] else col for col in df1.columns]\n",
    "result_df = pd.merge(df0, df1, on='date', how='inner')\n",
    "\n",
    "result_df\n"
   ]
  },
  {
   "cell_type": "code",
   "execution_count": 58,
   "metadata": {},
   "outputs": [],
   "source": [
    "sheet_name = \"Policy Rate\"\n",
    "\n",
    "\n",
    "meeting_decisions = pd.read_excel(\n",
    "    excel_file,\n",
    "    sheet_name=sheet_name,\n",
    "    header=1,  # 0-based index\n",
    "    nrows=147\n",
    ")\n",
    "\n",
    "meeting_decisions = meeting_decisions[['Meeting Date', 'Rate', 'Hike/Cut']]\n",
    "meeting_decisions['Meeting Date'] = pd.to_datetime(meeting_decisions['Meeting Date'])\n",
    "\n",
    "meeting_decisions.head()\n",
    "\n",
    "df = pd.merge(df, meeting_decisions, right_on='Meeting Date', left_on='date', how='left')"
   ]
  },
  {
   "cell_type": "code",
   "execution_count": 78,
   "metadata": {},
   "outputs": [
    {
     "name": "stdout",
     "output_type": "stream",
     "text": [
      "\n",
      "Results for 5y:\n",
      "R-squared: 0.153\n",
      "Adjusted R-squared: 0.015\n",
      "Significant features (p < 0.05):\n",
      "  inflation_dynamics_ord_diff_1: coef = -0.5816 (p = 0.0461)\n",
      "  interest_rate_trajectory_ord_diff_1: coef = 0.5151 (p = 0.0979)\n",
      "  forward_guidance_guidance_ord_diff_1: coef = 0.2135 (p = 0.6994)\n",
      "--------------------------------------------------\n",
      "\n",
      "Results for 7y:\n",
      "R-squared: 0.158\n",
      "Adjusted R-squared: 0.021\n",
      "Significant features (p < 0.05):\n",
      "  inflation_dynamics_ord_diff_1: coef = -0.5640 (p = 0.0599)\n",
      "  interest_rate_trajectory_ord_diff_1: coef = 0.5977 (p = 0.0635)\n",
      "  forward_guidance_guidance_ord_diff_1: coef = 0.3664 (p = 0.5208)\n",
      "--------------------------------------------------\n",
      "\n",
      "Results for 10y:\n",
      "R-squared: 0.166\n",
      "Adjusted R-squared: 0.030\n",
      "Significant features (p < 0.05):\n",
      "  inflation_dynamics_ord_diff_1: coef = -0.5233 (p = 0.0846)\n",
      "  interest_rate_trajectory_ord_diff_1: coef = 0.6729 (p = 0.0406)\n",
      "  forward_guidance_guidance_ord_diff_1: coef = 0.4901 (p = 0.3986)\n",
      "--------------------------------------------------\n",
      "\n",
      "Results for 30y:\n",
      "R-squared: 0.131\n",
      "Adjusted R-squared: -0.010\n",
      "Significant features (p < 0.05):\n",
      "  inflation_dynamics_ord_diff_1: coef = -0.3196 (p = 0.2943)\n",
      "  interest_rate_trajectory_ord_diff_1: coef = 0.6242 (p = 0.0604)\n",
      "  forward_guidance_guidance_ord_diff_1: coef = 0.6461 (p = 0.2745)\n",
      "--------------------------------------------------\n",
      "\n",
      "Results for 2y1y:\n",
      "R-squared: 0.131\n",
      "Adjusted R-squared: -0.011\n",
      "Significant features (p < 0.05):\n",
      "  inflation_dynamics_ord_diff_1: coef = -0.6519 (p = 0.0393)\n",
      "  interest_rate_trajectory_ord_diff_1: coef = 0.4093 (p = 0.2212)\n",
      "  forward_guidance_guidance_ord_diff_1: coef = 0.0343 (p = 0.9543)\n",
      "--------------------------------------------------\n",
      "\n",
      "Results for 3y1y:\n",
      "R-squared: 0.156\n",
      "Adjusted R-squared: 0.019\n",
      "Significant features (p < 0.05):\n",
      "  inflation_dynamics_ord_diff_1: coef = -0.7418 (p = 0.0355)\n",
      "  interest_rate_trajectory_ord_diff_1: coef = 0.5640 (p = 0.1320)\n",
      "  forward_guidance_guidance_ord_diff_1: coef = 0.7039 (p = 0.2940)\n",
      "--------------------------------------------------\n",
      "\n",
      "Results for 3y2y:\n",
      "R-squared: 0.171\n",
      "Adjusted R-squared: 0.036\n",
      "Significant features (p < 0.05):\n",
      "  inflation_dynamics_ord_diff_1: coef = -0.7562 (p = 0.0377)\n",
      "  interest_rate_trajectory_ord_diff_1: coef = 0.6855 (p = 0.0776)\n",
      "  forward_guidance_guidance_ord_diff_1: coef = 0.8087 (p = 0.2434)\n",
      "--------------------------------------------------\n",
      "\n",
      "Results for 5y2y:\n",
      "R-squared: 0.162\n",
      "Adjusted R-squared: 0.025\n",
      "Significant features (p < 0.05):\n",
      "  inflation_dynamics_ord_diff_1: coef = -0.5299 (p = 0.1461)\n",
      "  interest_rate_trajectory_ord_diff_1: coef = 0.8298 (p = 0.0367)\n",
      "  forward_guidance_guidance_ord_diff_1: coef = 0.8009 (p = 0.2549)\n",
      "--------------------------------------------------\n",
      "\n",
      "Results for 5y5y:\n",
      "R-squared: 0.170\n",
      "Adjusted R-squared: 0.035\n",
      "Significant features (p < 0.05):\n",
      "  inflation_dynamics_ord_diff_1: coef = -0.4642 (p = 0.1910)\n",
      "  interest_rate_trajectory_ord_diff_1: coef = 0.8576 (p = 0.0274)\n",
      "  forward_guidance_guidance_ord_diff_1: coef = 0.8307 (p = 0.2269)\n",
      "--------------------------------------------------\n",
      "\n",
      "Results for 10y5y:\n",
      "R-squared: 0.124\n",
      "Adjusted R-squared: -0.019\n",
      "Significant features (p < 0.05):\n",
      "  inflation_dynamics_ord_diff_1: coef = -0.2190 (p = 0.5273)\n",
      "  interest_rate_trajectory_ord_diff_1: coef = 0.7421 (p = 0.0509)\n",
      "  forward_guidance_guidance_ord_diff_1: coef = 0.7315 (p = 0.2783)\n",
      "--------------------------------------------------\n",
      "\n",
      "Results for 10y10y:\n",
      "R-squared: 0.119\n",
      "Adjusted R-squared: -0.024\n",
      "Significant features (p < 0.05):\n",
      "  inflation_dynamics_ord_diff_1: coef = -0.2203 (p = 0.5196)\n",
      "  interest_rate_trajectory_ord_diff_1: coef = 0.6763 (p = 0.0706)\n",
      "  forward_guidance_guidance_ord_diff_1: coef = 0.7485 (p = 0.2615)\n",
      "--------------------------------------------------\n",
      "\n",
      "Results for 2s5s:\n",
      "R-squared: 0.134\n",
      "Adjusted R-squared: -0.008\n",
      "Significant features (p < 0.05):\n",
      "  inflation_dynamics_ord_diff_1: coef = -0.1961 (p = 0.1697)\n",
      "  interest_rate_trajectory_ord_diff_1: coef = 0.1712 (p = 0.2629)\n",
      "  forward_guidance_guidance_ord_diff_1: coef = 0.5429 (p = 0.0525)\n",
      "--------------------------------------------------\n",
      "\n",
      "Results for 1y2s5s:\n",
      "R-squared: 0.155\n",
      "Adjusted R-squared: 0.017\n",
      "Significant features (p < 0.05):\n",
      "  inflation_dynamics_ord_diff_1: coef = -0.1590 (p = 0.4024)\n",
      "  interest_rate_trajectory_ord_diff_1: coef = 0.2193 (p = 0.2837)\n",
      "  forward_guidance_guidance_ord_diff_1: coef = 0.9141 (p = 0.0160)\n",
      "--------------------------------------------------\n",
      "\n",
      "Results for 10s30s:\n",
      "R-squared: 0.127\n",
      "Adjusted R-squared: -0.015\n",
      "Significant features (p < 0.05):\n",
      "  inflation_dynamics_ord_diff_1: coef = 0.2037 (p = 0.0712)\n",
      "  interest_rate_trajectory_ord_diff_1: coef = -0.0487 (p = 0.6830)\n",
      "  forward_guidance_guidance_ord_diff_1: coef = 0.1560 (p = 0.4689)\n",
      "--------------------------------------------------\n",
      "\n",
      "Results for 2y1y/3y2y:\n",
      "R-squared: 0.170\n",
      "Adjusted R-squared: 0.035\n",
      "Significant features (p < 0.05):\n",
      "  inflation_dynamics_ord_diff_1: coef = -0.1043 (p = 0.5230)\n",
      "  interest_rate_trajectory_ord_diff_1: coef = 0.2762 (p = 0.1201)\n",
      "  forward_guidance_guidance_ord_diff_1: coef = 0.7745 (p = 0.0177)\n",
      "--------------------------------------------------\n",
      "\n",
      "Results for 3y2y/5y2y:\n",
      "R-squared: 0.154\n",
      "Adjusted R-squared: 0.016\n",
      "Significant features (p < 0.05):\n",
      "  inflation_dynamics_ord_diff_1: coef = 0.2263 (p = 0.0856)\n",
      "  interest_rate_trajectory_ord_diff_1: coef = 0.1444 (p = 0.3024)\n",
      "  forward_guidance_guidance_ord_diff_1: coef = -0.0078 (p = 0.9751)\n",
      "--------------------------------------------------\n",
      "\n",
      "Results for 5y5y/10y10y:\n",
      "R-squared: 0.161\n",
      "Adjusted R-squared: 0.025\n",
      "Significant features (p < 0.05):\n",
      "  inflation_dynamics_ord_diff_1: coef = 0.2439 (p = 0.0311)\n",
      "  interest_rate_trajectory_ord_diff_1: coef = -0.1813 (p = 0.1305)\n",
      "  forward_guidance_guidance_ord_diff_1: coef = -0.0822 (p = 0.7003)\n",
      "--------------------------------------------------\n",
      "\n",
      "Results for 10y10y/20y10y:\n",
      "R-squared: 0.188\n",
      "Adjusted R-squared: 0.056\n",
      "Significant features (p < 0.05):\n",
      "  inflation_dynamics_ord_diff_1: coef = 0.1251 (p = 0.1456)\n",
      "  interest_rate_trajectory_ord_diff_1: coef = -0.2036 (p = 0.0300)\n",
      "  forward_guidance_guidance_ord_diff_1: coef = -0.0093 (p = 0.9550)\n",
      "--------------------------------------------------\n",
      "\n",
      "Summary of all models:\n",
      "             rate        r2    adj_r2  num_significant\n",
      "17  10y10y/20y10y  0.188377  0.056253                3\n",
      "6            3y2y  0.171042  0.036095                3\n",
      "14      2y1y/3y2y  0.170342  0.035281                3\n",
      "8            5y5y  0.169960  0.034838                3\n",
      "2             10y  0.166178  0.030439                3\n",
      "7            5y2y  0.161669  0.025196                3\n",
      "16    5y5y/10y10y  0.161326  0.024798                3\n",
      "1              7y  0.157959  0.020882                3\n",
      "5            3y1y  0.156023  0.018631                3\n",
      "12         1y2s5s  0.154851  0.017268                3\n",
      "15      3y2y/5y2y  0.153862  0.016119                3\n",
      "0              5y  0.153040  0.015163                3\n",
      "11           2s5s  0.133534 -0.007518                3\n",
      "3             30y  0.131457 -0.009934                3\n",
      "4            2y1y  0.130782 -0.010719                3\n",
      "13         10s30s  0.126671 -0.015499                3\n",
      "9           10y5y  0.124020 -0.018581                3\n",
      "10         10y10y  0.119379 -0.023978                3\n"
     ]
    }
   ],
   "source": [
    "import statsmodels.api as sm\n",
    "\n",
    "regression_df = pd.merge(df, result_df, on='date', how='left')\n",
    "regression_df = regression_df.dropna()\n",
    "regression_df.head()\n",
    "\n",
    "target_cols = ['1y', '2y', '5y', '7y', '10y', '30y', '1y1y',\n",
    "        '2y1y', '3y1y', '3y2y', '5y2y', '5y5y', '10y5y', '10y10y', '15y5y',\n",
    "        '20y10y', '2s5s', '1y2s5s', '5s10s', '1y5s10s', '10s30s', '2y1y/3y2y',\n",
    "        '3y2y/5y2y', '5y2y/7y3y', '5y5y/10y10y', '10y10y/20y10y']\n",
    "\n",
    "target_cols = ['5y', '7y', '10y', '30y', '2y1y', '3y1y', '3y2y', '5y2y', '5y5y', '10y5y', '10y10y', \\\n",
    "               '2s5s', '1y2s5s', '10s30s', '2y1y/3y2y', '3y2y/5y2y', '5y5y/10y10y', '10y10y/20y10y']\n",
    "\n",
    "# target_cols = ['10y', '30y', '3y1y', '5y2y', '5y5y', '10y5y', '10y10y', '15y5y', '20y10y', \\\n",
    "#                '1y2s5s', '5s10s', '1y5s10s', '2y1y/3y2y', '3y2y/5y2y', '5y2y/7y3y']\n",
    "\n",
    "base_cols = ['employment_level', 'employment_dynamics',\t'inflation_level', 'inflation_dynamics', 'interest_rate_trajectory', 'balance_sheet_trajectory', 'forward_guidance_guidance']\n",
    "\n",
    "# for col in base_cols:\n",
    "#     num_diffs = 3\n",
    "#     diff_cols = [f'{col}_pct_diff_{i}' for i in range(1, num_diffs+1)]\n",
    "#     regression_df[f'{col}_avg'] = regression_df[diff_cols].mean(axis=1, skipna=True)\n",
    "\n",
    "score_diff_cols = [col for col in regression_df.columns if 'ord_diff_1' in col] \n",
    "regression_df = regression_df[(regression_df['date'] >= '2018-01-01') & (regression_df['date'] <= '2025-01-01')]\n",
    "\n",
    "results = {}\n",
    "for target_col in target_cols:\n",
    "    y = regression_df[target_col+'_1d'] - regression_df[target_col]\n",
    "    X = regression_df[score_diff_cols]\n",
    "    X = X.apply(lambda x: x.where(abs(x) >= 0.01, 0))\n",
    "    X = sm.add_constant(X)\n",
    "    model = sm.OLS(y, X).fit()\n",
    "    \n",
    "    results[target_col] = {\n",
    "       'r2': model.rsquared,\n",
    "       'adj_r2': model.rsquared_adj,\n",
    "       'significant_features': [\n",
    "              (feat, coef, pval) \n",
    "              for feat, coef, pval in zip(model.params.index, model.params, model.pvalues) \n",
    "              if feat in ('inflation_dynamics_ord_diff_1', 'interest_rate_trajectory_ord_diff_1', 'forward_guidance_guidance_ord_diff_1')\n",
    "              ]\n",
    "       }\n",
    "\n",
    "# Print results in a readable format\n",
    "for rate_col, res in results.items():\n",
    "    print(f\"\\nResults for {rate_col}:\")\n",
    "    print(f\"R-squared: {res['r2']:.3f}\")\n",
    "    print(f\"Adjusted R-squared: {res['adj_r2']:.3f}\")\n",
    "    print(\"Significant features (p < 0.05):\")\n",
    "    for feat, coef, pval in res['significant_features']:\n",
    "        print(f\"  {feat}: coef = {coef:.4f} (p = {pval:.4f})\")\n",
    "    print(\"-\" * 50)\n",
    "\n",
    "# Optional: Create a summary DataFrame\n",
    "summary_df = pd.DataFrame({\n",
    "    'rate': [k for k in results.keys()],\n",
    "    'r2': [v['r2'] for v in results.values()],\n",
    "    'adj_r2': [v['adj_r2'] for v in results.values()],\n",
    "    'num_significant': [len(v['significant_features']) for v in results.values()]\n",
    "})\n",
    "\n",
    "print(\"\\nSummary of all models:\")\n",
    "print(summary_df.sort_values('adj_r2', ascending=False))\n"
   ]
  },
  {
   "cell_type": "code",
   "execution_count": 25,
   "metadata": {},
   "outputs": [
    {
     "data": {
      "text/html": [
       "<div>\n",
       "<style scoped>\n",
       "    .dataframe tbody tr th:only-of-type {\n",
       "        vertical-align: middle;\n",
       "    }\n",
       "\n",
       "    .dataframe tbody tr th {\n",
       "        vertical-align: top;\n",
       "    }\n",
       "\n",
       "    .dataframe thead th {\n",
       "        text-align: right;\n",
       "    }\n",
       "</style>\n",
       "<table border=\"1\" class=\"dataframe\">\n",
       "  <thead>\n",
       "    <tr style=\"text-align: right;\">\n",
       "      <th></th>\n",
       "      <th>date</th>\n",
       "      <th>employment_level_score</th>\n",
       "      <th>employment_dynamics_score</th>\n",
       "      <th>inflation_level_score</th>\n",
       "      <th>inflation_dynamics_score</th>\n",
       "      <th>interest_rate_trajectory_score</th>\n",
       "      <th>balance_sheet_trajectory_score</th>\n",
       "      <th>forward_guidance_guidance_score</th>\n",
       "      <th>employment_level_diff_1</th>\n",
       "      <th>employment_dynamics_diff_1</th>\n",
       "      <th>...</th>\n",
       "      <th>10Y_5d</th>\n",
       "      <th>10Y_10d</th>\n",
       "      <th>10Y_20d</th>\n",
       "      <th>10Y_30d</th>\n",
       "      <th>30Y_1d</th>\n",
       "      <th>30Y_3d</th>\n",
       "      <th>30Y_5d</th>\n",
       "      <th>30Y_10d</th>\n",
       "      <th>30Y_20d</th>\n",
       "      <th>30Y_30d</th>\n",
       "    </tr>\n",
       "  </thead>\n",
       "  <tbody>\n",
       "    <tr>\n",
       "      <th>3</th>\n",
       "      <td>2012-01-25</td>\n",
       "      <td>0.023410</td>\n",
       "      <td>0.003363</td>\n",
       "      <td>-0.019899</td>\n",
       "      <td>-0.013874</td>\n",
       "      <td>-0.099669</td>\n",
       "      <td>-0.012848</td>\n",
       "      <td>0.023812</td>\n",
       "      <td>-0.001836</td>\n",
       "      <td>-0.004426</td>\n",
       "      <td>...</td>\n",
       "      <td>-0.14</td>\n",
       "      <td>0.00</td>\n",
       "      <td>0.00</td>\n",
       "      <td>-0.03</td>\n",
       "      <td>-0.03</td>\n",
       "      <td>-0.14</td>\n",
       "      <td>-0.12</td>\n",
       "      <td>0.01</td>\n",
       "      <td>0.02</td>\n",
       "      <td>-0.01</td>\n",
       "    </tr>\n",
       "    <tr>\n",
       "      <th>4</th>\n",
       "      <td>2012-04-25</td>\n",
       "      <td>0.035849</td>\n",
       "      <td>0.003156</td>\n",
       "      <td>-0.011705</td>\n",
       "      <td>-0.029855</td>\n",
       "      <td>-0.060423</td>\n",
       "      <td>0.000129</td>\n",
       "      <td>0.017694</td>\n",
       "      <td>0.012440</td>\n",
       "      <td>-0.000207</td>\n",
       "      <td>...</td>\n",
       "      <td>-0.05</td>\n",
       "      <td>-0.14</td>\n",
       "      <td>-0.28</td>\n",
       "      <td>-0.35</td>\n",
       "      <td>-0.02</td>\n",
       "      <td>-0.03</td>\n",
       "      <td>-0.04</td>\n",
       "      <td>-0.12</td>\n",
       "      <td>-0.34</td>\n",
       "      <td>-0.42</td>\n",
       "    </tr>\n",
       "    <tr>\n",
       "      <th>5</th>\n",
       "      <td>2012-06-20</td>\n",
       "      <td>0.082186</td>\n",
       "      <td>0.051927</td>\n",
       "      <td>0.007753</td>\n",
       "      <td>-0.001931</td>\n",
       "      <td>-0.077777</td>\n",
       "      <td>-0.039677</td>\n",
       "      <td>-0.000921</td>\n",
       "      <td>0.046337</td>\n",
       "      <td>0.048771</td>\n",
       "      <td>...</td>\n",
       "      <td>0.00</td>\n",
       "      <td>0.00</td>\n",
       "      <td>-0.13</td>\n",
       "      <td>-0.09</td>\n",
       "      <td>-0.04</td>\n",
       "      <td>-0.03</td>\n",
       "      <td>-0.02</td>\n",
       "      <td>0.02</td>\n",
       "      <td>-0.13</td>\n",
       "      <td>-0.12</td>\n",
       "    </tr>\n",
       "    <tr>\n",
       "      <th>6</th>\n",
       "      <td>2012-09-13</td>\n",
       "      <td>0.080908</td>\n",
       "      <td>0.078294</td>\n",
       "      <td>0.003208</td>\n",
       "      <td>-0.037309</td>\n",
       "      <td>-0.097706</td>\n",
       "      <td>-0.026618</td>\n",
       "      <td>0.000884</td>\n",
       "      <td>-0.001278</td>\n",
       "      <td>0.026367</td>\n",
       "      <td>...</td>\n",
       "      <td>0.05</td>\n",
       "      <td>-0.09</td>\n",
       "      <td>-0.05</td>\n",
       "      <td>0.11</td>\n",
       "      <td>0.14</td>\n",
       "      <td>0.05</td>\n",
       "      <td>0.01</td>\n",
       "      <td>-0.12</td>\n",
       "      <td>-0.09</td>\n",
       "      <td>0.03</td>\n",
       "    </tr>\n",
       "    <tr>\n",
       "      <th>7</th>\n",
       "      <td>2012-12-12</td>\n",
       "      <td>0.087800</td>\n",
       "      <td>0.060784</td>\n",
       "      <td>0.001817</td>\n",
       "      <td>-0.016119</td>\n",
       "      <td>0.007385</td>\n",
       "      <td>-0.023860</td>\n",
       "      <td>0.020173</td>\n",
       "      <td>0.006892</td>\n",
       "      <td>-0.017510</td>\n",
       "      <td>...</td>\n",
       "      <td>0.10</td>\n",
       "      <td>0.05</td>\n",
       "      <td>0.16</td>\n",
       "      <td>0.14</td>\n",
       "      <td>0.00</td>\n",
       "      <td>0.04</td>\n",
       "      <td>0.09</td>\n",
       "      <td>0.04</td>\n",
       "      <td>0.16</td>\n",
       "      <td>0.12</td>\n",
       "    </tr>\n",
       "    <tr>\n",
       "      <th>...</th>\n",
       "      <td>...</td>\n",
       "      <td>...</td>\n",
       "      <td>...</td>\n",
       "      <td>...</td>\n",
       "      <td>...</td>\n",
       "      <td>...</td>\n",
       "      <td>...</td>\n",
       "      <td>...</td>\n",
       "      <td>...</td>\n",
       "      <td>...</td>\n",
       "      <td>...</td>\n",
       "      <td>...</td>\n",
       "      <td>...</td>\n",
       "      <td>...</td>\n",
       "      <td>...</td>\n",
       "      <td>...</td>\n",
       "      <td>...</td>\n",
       "      <td>...</td>\n",
       "      <td>...</td>\n",
       "      <td>...</td>\n",
       "      <td>...</td>\n",
       "    </tr>\n",
       "    <tr>\n",
       "      <th>75</th>\n",
       "      <td>2024-05-01</td>\n",
       "      <td>-0.032950</td>\n",
       "      <td>-0.043307</td>\n",
       "      <td>-0.020087</td>\n",
       "      <td>-0.098073</td>\n",
       "      <td>-0.003459</td>\n",
       "      <td>0.002983</td>\n",
       "      <td>-0.004510</td>\n",
       "      <td>-0.015770</td>\n",
       "      <td>0.024720</td>\n",
       "      <td>...</td>\n",
       "      <td>-0.15</td>\n",
       "      <td>-0.27</td>\n",
       "      <td>-0.02</td>\n",
       "      <td>-0.32</td>\n",
       "      <td>-0.02</td>\n",
       "      <td>-0.10</td>\n",
       "      <td>-0.10</td>\n",
       "      <td>-0.22</td>\n",
       "      <td>0.00</td>\n",
       "      <td>-0.27</td>\n",
       "    </tr>\n",
       "    <tr>\n",
       "      <th>76</th>\n",
       "      <td>2024-06-12</td>\n",
       "      <td>-0.027478</td>\n",
       "      <td>-0.055662</td>\n",
       "      <td>-0.036874</td>\n",
       "      <td>-0.058620</td>\n",
       "      <td>-0.026029</td>\n",
       "      <td>0.009867</td>\n",
       "      <td>-0.004845</td>\n",
       "      <td>0.005473</td>\n",
       "      <td>-0.012355</td>\n",
       "      <td>...</td>\n",
       "      <td>-0.09</td>\n",
       "      <td>0.01</td>\n",
       "      <td>-0.03</td>\n",
       "      <td>-0.03</td>\n",
       "      <td>-0.07</td>\n",
       "      <td>-0.07</td>\n",
       "      <td>-0.11</td>\n",
       "      <td>-0.02</td>\n",
       "      <td>0.00</td>\n",
       "      <td>0.07</td>\n",
       "    </tr>\n",
       "    <tr>\n",
       "      <th>77</th>\n",
       "      <td>2024-07-31</td>\n",
       "      <td>0.028365</td>\n",
       "      <td>-0.007092</td>\n",
       "      <td>-0.021015</td>\n",
       "      <td>-0.061208</td>\n",
       "      <td>0.029425</td>\n",
       "      <td>-0.006286</td>\n",
       "      <td>0.002495</td>\n",
       "      <td>0.055843</td>\n",
       "      <td>0.048569</td>\n",
       "      <td>...</td>\n",
       "      <td>-0.13</td>\n",
       "      <td>-0.26</td>\n",
       "      <td>-0.25</td>\n",
       "      <td>-0.44</td>\n",
       "      <td>-0.08</td>\n",
       "      <td>-0.29</td>\n",
       "      <td>-0.09</td>\n",
       "      <td>-0.23</td>\n",
       "      <td>-0.22</td>\n",
       "      <td>-0.39</td>\n",
       "    </tr>\n",
       "    <tr>\n",
       "      <th>78</th>\n",
       "      <td>2024-09-18</td>\n",
       "      <td>0.024656</td>\n",
       "      <td>0.007801</td>\n",
       "      <td>-0.057443</td>\n",
       "      <td>-0.050143</td>\n",
       "      <td>0.012767</td>\n",
       "      <td>0.017374</td>\n",
       "      <td>-0.014933</td>\n",
       "      <td>-0.003709</td>\n",
       "      <td>0.014894</td>\n",
       "      <td>...</td>\n",
       "      <td>0.09</td>\n",
       "      <td>0.09</td>\n",
       "      <td>0.32</td>\n",
       "      <td>0.59</td>\n",
       "      <td>0.03</td>\n",
       "      <td>0.06</td>\n",
       "      <td>0.11</td>\n",
       "      <td>0.11</td>\n",
       "      <td>0.27</td>\n",
       "      <td>0.46</td>\n",
       "    </tr>\n",
       "    <tr>\n",
       "      <th>79</th>\n",
       "      <td>2024-11-07</td>\n",
       "      <td>0.026063</td>\n",
       "      <td>-0.004469</td>\n",
       "      <td>-0.066415</td>\n",
       "      <td>-0.054073</td>\n",
       "      <td>-0.002679</td>\n",
       "      <td>0.017398</td>\n",
       "      <td>-0.012749</td>\n",
       "      <td>0.001407</td>\n",
       "      <td>-0.012270</td>\n",
       "      <td>...</td>\n",
       "      <td>0.12</td>\n",
       "      <td>0.12</td>\n",
       "      <td>-0.14</td>\n",
       "      <td>0.26</td>\n",
       "      <td>-0.05</td>\n",
       "      <td>0.06</td>\n",
       "      <td>0.06</td>\n",
       "      <td>0.09</td>\n",
       "      <td>-0.19</td>\n",
       "      <td>0.22</td>\n",
       "    </tr>\n",
       "  </tbody>\n",
       "</table>\n",
       "<p>76 rows × 85 columns</p>\n",
       "</div>"
      ],
      "text/plain": [
       "         date  employment_level_score  employment_dynamics_score  \\\n",
       "3  2012-01-25                0.023410                   0.003363   \n",
       "4  2012-04-25                0.035849                   0.003156   \n",
       "5  2012-06-20                0.082186                   0.051927   \n",
       "6  2012-09-13                0.080908                   0.078294   \n",
       "7  2012-12-12                0.087800                   0.060784   \n",
       "..        ...                     ...                        ...   \n",
       "75 2024-05-01               -0.032950                  -0.043307   \n",
       "76 2024-06-12               -0.027478                  -0.055662   \n",
       "77 2024-07-31                0.028365                  -0.007092   \n",
       "78 2024-09-18                0.024656                   0.007801   \n",
       "79 2024-11-07                0.026063                  -0.004469   \n",
       "\n",
       "    inflation_level_score  inflation_dynamics_score  \\\n",
       "3               -0.019899                 -0.013874   \n",
       "4               -0.011705                 -0.029855   \n",
       "5                0.007753                 -0.001931   \n",
       "6                0.003208                 -0.037309   \n",
       "7                0.001817                 -0.016119   \n",
       "..                    ...                       ...   \n",
       "75              -0.020087                 -0.098073   \n",
       "76              -0.036874                 -0.058620   \n",
       "77              -0.021015                 -0.061208   \n",
       "78              -0.057443                 -0.050143   \n",
       "79              -0.066415                 -0.054073   \n",
       "\n",
       "    interest_rate_trajectory_score  balance_sheet_trajectory_score  \\\n",
       "3                        -0.099669                       -0.012848   \n",
       "4                        -0.060423                        0.000129   \n",
       "5                        -0.077777                       -0.039677   \n",
       "6                        -0.097706                       -0.026618   \n",
       "7                         0.007385                       -0.023860   \n",
       "..                             ...                             ...   \n",
       "75                       -0.003459                        0.002983   \n",
       "76                       -0.026029                        0.009867   \n",
       "77                        0.029425                       -0.006286   \n",
       "78                        0.012767                        0.017374   \n",
       "79                       -0.002679                        0.017398   \n",
       "\n",
       "    forward_guidance_guidance_score  employment_level_diff_1  \\\n",
       "3                          0.023812                -0.001836   \n",
       "4                          0.017694                 0.012440   \n",
       "5                         -0.000921                 0.046337   \n",
       "6                          0.000884                -0.001278   \n",
       "7                          0.020173                 0.006892   \n",
       "..                              ...                      ...   \n",
       "75                        -0.004510                -0.015770   \n",
       "76                        -0.004845                 0.005473   \n",
       "77                         0.002495                 0.055843   \n",
       "78                        -0.014933                -0.003709   \n",
       "79                        -0.012749                 0.001407   \n",
       "\n",
       "    employment_dynamics_diff_1  ...  10Y_5d  10Y_10d  10Y_20d  10Y_30d  \\\n",
       "3                    -0.004426  ...   -0.14     0.00     0.00    -0.03   \n",
       "4                    -0.000207  ...   -0.05    -0.14    -0.28    -0.35   \n",
       "5                     0.048771  ...    0.00     0.00    -0.13    -0.09   \n",
       "6                     0.026367  ...    0.05    -0.09    -0.05     0.11   \n",
       "7                    -0.017510  ...    0.10     0.05     0.16     0.14   \n",
       "..                         ...  ...     ...      ...      ...      ...   \n",
       "75                    0.024720  ...   -0.15    -0.27    -0.02    -0.32   \n",
       "76                   -0.012355  ...   -0.09     0.01    -0.03    -0.03   \n",
       "77                    0.048569  ...   -0.13    -0.26    -0.25    -0.44   \n",
       "78                    0.014894  ...    0.09     0.09     0.32     0.59   \n",
       "79                   -0.012270  ...    0.12     0.12    -0.14     0.26   \n",
       "\n",
       "    30Y_1d  30Y_3d  30Y_5d  30Y_10d  30Y_20d  30Y_30d  \n",
       "3    -0.03   -0.14   -0.12     0.01     0.02    -0.01  \n",
       "4    -0.02   -0.03   -0.04    -0.12    -0.34    -0.42  \n",
       "5    -0.04   -0.03   -0.02     0.02    -0.13    -0.12  \n",
       "6     0.14    0.05    0.01    -0.12    -0.09     0.03  \n",
       "7     0.00    0.04    0.09     0.04     0.16     0.12  \n",
       "..     ...     ...     ...      ...      ...      ...  \n",
       "75   -0.02   -0.10   -0.10    -0.22     0.00    -0.27  \n",
       "76   -0.07   -0.07   -0.11    -0.02     0.00     0.07  \n",
       "77   -0.08   -0.29   -0.09    -0.23    -0.22    -0.39  \n",
       "78    0.03    0.06    0.11     0.11     0.27     0.46  \n",
       "79   -0.05    0.06    0.06     0.09    -0.19     0.22  \n",
       "\n",
       "[76 rows x 85 columns]"
      ]
     },
     "execution_count": 25,
     "metadata": {},
     "output_type": "execute_result"
    }
   ],
   "source": [
    "regression_df = pd.merge(df, rates_df, left_on='date', right_index=True, how='left')\n",
    "regression_df = regression_df.dropna()\n",
    "\n",
    "regression_df"
   ]
  },
  {
   "cell_type": "code",
   "execution_count": 77,
   "metadata": {},
   "outputs": [
    {
     "name": "stdout",
     "output_type": "stream",
     "text": [
      "\n",
      "Summary of all models:\n",
      "Empty DataFrame\n",
      "Columns: [rate, r2, adj_r2, num_significant]\n",
      "Index: []\n"
     ]
    }
   ],
   "source": [
    "import statsmodels.api as sm\n",
    "from itertools import product\n",
    "\n",
    "# Get list of score difference columns\n",
    "score_diff_cols = [col for col in regression_df.columns if 'diff_' in col]\n",
    "\n",
    "# Get list of rate change columns\n",
    "rate_cols = [col for col in regression_df.columns \n",
    "             if any(term in col for term in ['1M', '3M', '6M', '1Y', '2Y', '5Y', '10Y', '30Y']) \n",
    "             and col.endswith('d')]\n",
    "\n",
    "# Dictionary to store results\n",
    "results = {}\n",
    "\n",
    "# Perform OLS for each rate term and lag\n",
    "for rate_col in rate_cols:\n",
    "    # Create X (features) with constant\n",
    "    X = sm.add_constant(regression_df[score_diff_cols])\n",
    "    # Create y (target)\n",
    "    y = regression_df[rate_col]\n",
    "    \n",
    "    # Fit OLS\n",
    "    model = sm.OLS(y, X).fit()\n",
    "    \n",
    "    # Store results\n",
    "    results[rate_col] = {\n",
    "        'r2': model.rsquared,\n",
    "        'adj_r2': model.rsquared_adj,\n",
    "        'significant_features': [\n",
    "            (feat, coef, pval) \n",
    "            for feat, coef, pval in zip(model.params.index, model.params, model.pvalues) \n",
    "            if pval < 0.05\n",
    "        ]\n",
    "    }\n",
    "\n",
    "# Print results in a readable format\n",
    "for rate_col, res in results.items():\n",
    "    print(f\"\\nResults for {rate_col}:\")\n",
    "    print(f\"R-squared: {res['r2']:.3f}\")\n",
    "    print(f\"Adjusted R-squared: {res['adj_r2']:.3f}\")\n",
    "    print(\"Significant features (p < 0.05):\")\n",
    "    for feat, coef, pval in res['significant_features']:\n",
    "        print(f\"  {feat}: coef = {coef:.4f} (p = {pval:.4f})\")\n",
    "    print(\"-\" * 50)\n",
    "\n",
    "# Optional: Create a summary DataFrame\n",
    "summary_df = pd.DataFrame({\n",
    "    'rate': [k for k in results.keys()],\n",
    "    'r2': [v['r2'] for v in results.values()],\n",
    "    'adj_r2': [v['adj_r2'] for v in results.values()],\n",
    "    'num_significant': [len(v['significant_features']) for v in results.values()]\n",
    "})\n",
    "\n",
    "print(\"\\nSummary of all models:\")\n",
    "print(summary_df.sort_values('adj_r2', ascending=False))"
   ]
  },
  {
   "cell_type": "code",
   "execution_count": 90,
   "metadata": {},
   "outputs": [
    {
     "data": {
      "image/png": "[encoded data removed]",
      "text/plain": [
       "<Figure size 1200x600 with 2 Axes>"
      ]
     },
     "metadata": {},
     "output_type": "display_data"
    }
   ],
   "source": [
    "# Plot R² by term and lag\n",
    "plt.figure(figsize=(12, 6))\n",
    "terms = ['1M', '3M', '6M', '1Y', '2Y', '5Y', '10Y', '30Y']\n",
    "lags = [1, 3, 5, 10, 20, 30]\n",
    "\n",
    "r2_matrix = np.zeros((len(terms), len(lags)))\n",
    "for i, term in enumerate(terms):\n",
    "    for j, lag in enumerate(lags):\n",
    "        col = f\"{term}_{lag}d\"\n",
    "        if col in results:\n",
    "            r2_matrix[i, j] = results[col]['r2']\n",
    "\n",
    "plt.imshow(r2_matrix, aspect='auto', cmap='YlOrRd')\n",
    "plt.colorbar(label='R²')\n",
    "plt.xticks(range(len(lags)), lags)\n",
    "plt.yticks(range(len(terms)), terms)\n",
    "plt.xlabel('Lag (days)')\n",
    "plt.ylabel('Rate Term')\n",
    "plt.title('R² by Rate Term and Lag')\n",
    "plt.tight_layout()\n",
    "plt.show()"
   ]
  },
  {
   "cell_type": "code",
   "execution_count": 91,
   "metadata": {},
   "outputs": [
    {
     "name": "stdout",
     "output_type": "stream",
     "text": [
      "Regression results for  10Y_30d\n",
      "                            OLS Regression Results                            \n",
      "==============================================================================\n",
      "Dep. Variable:                10Y_30d   R-squared:                       0.360\n",
      "Model:                            OLS   Adj. R-squared:                  0.111\n",
      "Method:                 Least Squares   F-statistic:                     1.447\n",
      "Date:                Fri, 07 Mar 2025   Prob (F-statistic):              0.139\n",
      "Time:                        13:44:22   Log-Likelihood:                 2.9573\n",
      "No. Observations:                  76   AIC:                             38.09\n",
      "Df Residuals:                      54   BIC:                             89.36\n",
      "Df Model:                          21                                         \n",
      "Covariance Type:            nonrobust                                         \n",
      "====================================================================================================\n",
      "                                       coef    std err          t      P>|t|      [0.025      0.975]\n",
      "----------------------------------------------------------------------------------------------------\n",
      "const                               -0.0037      0.032     -0.116      0.908      -0.068       0.061\n",
      "employment_level_diff_1             -0.9538      1.761     -0.542      0.590      -4.484       2.577\n",
      "employment_dynamics_diff_1           1.7056      1.689      1.010      0.317      -1.681       5.092\n",
      "inflation_level_diff_1              -1.2984      1.368     -0.949      0.347      -4.041       1.444\n",
      "inflation_dynamics_diff_1            2.6465      1.511      1.751      0.086      -0.383       5.676\n",
      "interest_rate_trajectory_diff_1      0.8742      1.142      0.765      0.447      -1.416       3.164\n",
      "balance_sheet_trajectory_diff_1      3.8108      2.254      1.691      0.097      -0.707       8.329\n",
      "forward_guidance_guidance_diff_1     2.5055      2.589      0.968      0.337      -2.685       7.695\n",
      "employment_level_diff_2             -1.3044      1.734     -0.752      0.455      -4.780       2.171\n",
      "employment_dynamics_diff_2           2.1852      1.559      1.402      0.167      -0.940       5.311\n",
      "inflation_level_diff_2              -2.3822      1.279     -1.862      0.068      -4.947       0.183\n",
      "inflation_dynamics_diff_2            0.6818      1.541      0.443      0.660      -2.407       3.771\n",
      "interest_rate_trajectory_diff_2     -2.3528      1.099     -2.141      0.037      -4.556      -0.150\n",
      "balance_sheet_trajectory_diff_2      0.4631      2.430      0.191      0.850      -4.408       5.335\n",
      "forward_guidance_guidance_diff_2    -1.5646      2.512     -0.623      0.536      -6.600       3.471\n",
      "employment_level_diff_3             -1.0964      1.751     -0.626      0.534      -4.607       2.414\n",
      "employment_dynamics_diff_3          -0.1104      1.608     -0.069      0.946      -3.334       3.113\n",
      "inflation_level_diff_3               0.2582      1.134      0.228      0.821      -2.015       2.531\n",
      "inflation_dynamics_diff_3           -2.2131      1.412     -1.568      0.123      -5.043       0.617\n",
      "interest_rate_trajectory_diff_3      0.4485      0.936      0.479      0.634      -1.428       2.325\n",
      "balance_sheet_trajectory_diff_3      0.0499      2.051      0.024      0.981      -4.062       4.162\n",
      "forward_guidance_guidance_diff_3     2.7374      2.605      1.051      0.298      -2.485       7.960\n",
      "==============================================================================\n",
      "Omnibus:                        0.487   Durbin-Watson:                   1.758\n",
      "Prob(Omnibus):                  0.784   Jarque-Bera (JB):                0.630\n",
      "Skew:                           0.157   Prob(JB):                        0.730\n",
      "Kurtosis:                       2.684   Cond. No.                         117.\n",
      "==============================================================================\n",
      "\n",
      "Notes:\n",
      "[1] Standard Errors assume that the covariance matrix of the errors is correctly specified.\n",
      "const                              -0.003730\n",
      "employment_level_diff_1            -0.953781\n",
      "employment_dynamics_diff_1          1.705567\n",
      "inflation_level_diff_1             -1.298430\n",
      "inflation_dynamics_diff_1           2.646549\n",
      "interest_rate_trajectory_diff_1     0.874168\n",
      "balance_sheet_trajectory_diff_1     3.810828\n",
      "forward_guidance_guidance_diff_1    2.505479\n",
      "employment_level_diff_2            -1.304414\n",
      "employment_dynamics_diff_2          2.185234\n",
      "inflation_level_diff_2             -2.382171\n",
      "inflation_dynamics_diff_2           0.681792\n",
      "interest_rate_trajectory_diff_2    -2.352783\n",
      "balance_sheet_trajectory_diff_2     0.463064\n",
      "forward_guidance_guidance_diff_2   -1.564611\n",
      "employment_level_diff_3            -1.096361\n",
      "employment_dynamics_diff_3         -0.110414\n",
      "inflation_level_diff_3              0.258154\n",
      "inflation_dynamics_diff_3          -2.213122\n",
      "interest_rate_trajectory_diff_3     0.448529\n",
      "balance_sheet_trajectory_diff_3     0.049920\n",
      "forward_guidance_guidance_diff_3    2.737379\n",
      "dtype: float64\n",
      "const                               0.908122\n",
      "employment_level_diff_1             0.590288\n",
      "employment_dynamics_diff_1          0.317136\n",
      "inflation_level_diff_1              0.346768\n",
      "inflation_dynamics_diff_1           0.085583\n",
      "interest_rate_trajectory_diff_1     0.447455\n",
      "balance_sheet_trajectory_diff_1     0.096597\n",
      "forward_guidance_guidance_diff_1    0.337431\n",
      "employment_level_diff_2             0.455061\n",
      "employment_dynamics_diff_2          0.166715\n",
      "inflation_level_diff_2              0.068074\n",
      "inflation_dynamics_diff_2           0.659895\n",
      "interest_rate_trajectory_diff_2     0.036803\n",
      "balance_sheet_trajectory_diff_2     0.849572\n",
      "forward_guidance_guidance_diff_2    0.535922\n",
      "employment_level_diff_3             0.533830\n",
      "employment_dynamics_diff_3          0.945507\n",
      "inflation_level_diff_3              0.820751\n",
      "inflation_dynamics_diff_3           0.122754\n",
      "interest_rate_trajectory_diff_3     0.633733\n",
      "balance_sheet_trajectory_diff_3     0.980672\n",
      "forward_guidance_guidance_diff_3    0.298018\n",
      "dtype: float64\n",
      "0.3600449661298689\n",
      "__________________________\n"
     ]
    }
   ],
   "source": [
    "X = sm.add_constant(regression_df[score_diff_cols])\n",
    "y = regression_df['10Y_30d']\n",
    "model = sm.OLS(y, X).fit()\n",
    "print('Regression results for ', '10Y_30d')\n",
    "print(model.summary())\n",
    "print(model.params)\n",
    "print(model.pvalues)\n",
    "print(model.rsquared)\n",
    "print('__________________________')"
   ]
  },
  {
   "cell_type": "code",
   "execution_count": 88,
   "metadata": {},
   "outputs": [
    {
     "data": {
      "image/png": "[encoded data removed]",
      "text/plain": [
       "<Figure size 640x480 with 1 Axes>"
      ]
     },
     "metadata": {},
     "output_type": "display_data"
    }
   ],
   "source": [
    "residuals = model.resid\n",
    "plt.hist(residuals)\n",
    "plt.show()\n"
   ]
  },
  {
   "cell_type": "code",
   "execution_count": 77,
   "metadata": {},
   "outputs": [
    {
     "name": "stdout",
     "output_type": "stream",
     "text": [
      "Regression results for  10Y_3d\n",
      "                            OLS Regression Results                            \n",
      "==============================================================================\n",
      "Dep. Variable:                 10Y_3d   R-squared:                       0.287\n",
      "Model:                            OLS   Adj. R-squared:                  0.212\n",
      "Method:                 Least Squares   F-statistic:                     3.799\n",
      "Date:                Thu, 06 Mar 2025   Prob (F-statistic):            0.00160\n",
      "Time:                        23:35:46   Log-Likelihood:                 113.82\n",
      "No. Observations:                  74   AIC:                            -211.6\n",
      "Df Residuals:                      66   BIC:                            -193.2\n",
      "Df Model:                           7                                         \n",
      "Covariance Type:            nonrobust                                         \n",
      "====================================================================================================\n",
      "                                       coef    std err          t      P>|t|      [0.025      0.975]\n",
      "----------------------------------------------------------------------------------------------------\n",
      "const                               -0.0005      0.006     -0.077      0.939      -0.013       0.012\n",
      "employment_level_diff_1             -0.3510      0.245     -1.433      0.157      -0.840       0.138\n",
      "employment_dynamics_diff_1           0.2689      0.209      1.285      0.203      -0.149       0.687\n",
      "inflation_level_diff_1               0.7394      0.193      3.835      0.000       0.354       1.124\n",
      "inflation_dynamics_diff_1            0.0946      0.213      0.443      0.659      -0.332       0.521\n",
      "interest_rate_trajectory_diff_1      0.1429      0.172      0.829      0.410      -0.201       0.487\n",
      "balance_sheet_trajectory_diff_1      0.3350      0.342      0.978      0.332      -0.349       1.019\n",
      "forward_guidance_guidance_diff_1     0.3602      0.368      0.978      0.332      -0.375       1.096\n",
      "==============================================================================\n",
      "Omnibus:                        9.925   Durbin-Watson:                   1.542\n",
      "Prob(Omnibus):                  0.007   Jarque-Bera (JB):               15.353\n",
      "Skew:                          -0.472   Prob(JB):                     0.000464\n",
      "Kurtosis:                       5.022   Cond. No.                         63.2\n",
      "==============================================================================\n",
      "\n",
      "Notes:\n",
      "[1] Standard Errors assume that the covariance matrix of the errors is correctly specified.\n",
      "const                              -0.000493\n",
      "employment_level_diff_1            -0.350982\n",
      "employment_dynamics_diff_1          0.268867\n",
      "inflation_level_diff_1              0.739359\n",
      "inflation_dynamics_diff_1           0.094630\n",
      "interest_rate_trajectory_diff_1     0.142916\n",
      "balance_sheet_trajectory_diff_1     0.334983\n",
      "forward_guidance_guidance_diff_1    0.360250\n",
      "dtype: float64\n",
      "const                               0.939195\n",
      "employment_level_diff_1             0.156627\n",
      "employment_dynamics_diff_1          0.203457\n",
      "inflation_level_diff_1              0.000283\n",
      "inflation_dynamics_diff_1           0.658954\n",
      "interest_rate_trajectory_diff_1     0.410155\n",
      "balance_sheet_trajectory_diff_1     0.331533\n",
      "forward_guidance_guidance_diff_1    0.331610\n",
      "dtype: float64\n",
      "0.2872058088743825\n",
      "__________________________\n",
      "Regression results for  10Y_5d\n",
      "                            OLS Regression Results                            \n",
      "==============================================================================\n",
      "Dep. Variable:                 10Y_5d   R-squared:                       0.354\n",
      "Model:                            OLS   Adj. R-squared:                  0.285\n",
      "Method:                 Least Squares   F-statistic:                     5.156\n",
      "Date:                Thu, 06 Mar 2025   Prob (F-statistic):           0.000102\n",
      "Time:                        23:35:46   Log-Likelihood:                 117.09\n",
      "No. Observations:                  74   AIC:                            -218.2\n",
      "Df Residuals:                      66   BIC:                            -199.7\n",
      "Df Model:                           7                                         \n",
      "Covariance Type:            nonrobust                                         \n",
      "====================================================================================================\n",
      "                                       coef    std err          t      P>|t|      [0.025      0.975]\n",
      "----------------------------------------------------------------------------------------------------\n",
      "const                                0.0012      0.006      0.192      0.848      -0.011       0.013\n",
      "employment_level_diff_1             -0.0797      0.234     -0.340      0.735      -0.548       0.388\n",
      "employment_dynamics_diff_1           0.2108      0.200      1.053      0.296      -0.189       0.611\n",
      "inflation_level_diff_1               0.8285      0.184      4.491      0.000       0.460       1.197\n",
      "inflation_dynamics_diff_1            0.0391      0.204      0.191      0.849      -0.369       0.447\n",
      "interest_rate_trajectory_diff_1      0.0758      0.165      0.459      0.647      -0.254       0.405\n",
      "balance_sheet_trajectory_diff_1      0.6902      0.328      2.107      0.039       0.036       1.344\n",
      "forward_guidance_guidance_diff_1     0.6490      0.352      1.842      0.070      -0.055       1.353\n",
      "==============================================================================\n",
      "Omnibus:                       10.584   Durbin-Watson:                   1.840\n",
      "Prob(Omnibus):                  0.005   Jarque-Bera (JB):               13.797\n",
      "Skew:                          -0.604   Prob(JB):                      0.00101\n",
      "Kurtosis:                       4.736   Cond. No.                         63.2\n",
      "==============================================================================\n",
      "\n",
      "Notes:\n",
      "[1] Standard Errors assume that the covariance matrix of the errors is correctly specified.\n",
      "const                               0.001184\n",
      "employment_level_diff_1            -0.079696\n",
      "employment_dynamics_diff_1          0.210831\n",
      "inflation_level_diff_1              0.828453\n",
      "inflation_dynamics_diff_1           0.039081\n",
      "interest_rate_trajectory_diff_1     0.075779\n",
      "balance_sheet_trajectory_diff_1     0.690174\n",
      "forward_guidance_guidance_diff_1    0.648992\n",
      "dtype: float64\n",
      "const                               0.848282\n",
      "employment_level_diff_1             0.734907\n",
      "employment_dynamics_diff_1          0.296304\n",
      "inflation_level_diff_1              0.000029\n",
      "inflation_dynamics_diff_1           0.848820\n",
      "interest_rate_trajectory_diff_1     0.647485\n",
      "balance_sheet_trajectory_diff_1     0.038966\n",
      "forward_guidance_guidance_diff_1    0.070029\n",
      "dtype: float64\n",
      "0.3535359684243514\n",
      "__________________________\n",
      "Regression results for  5Y_3d\n",
      "                            OLS Regression Results                            \n",
      "==============================================================================\n",
      "Dep. Variable:                  5Y_3d   R-squared:                       0.279\n",
      "Model:                            OLS   Adj. R-squared:                  0.202\n",
      "Method:                 Least Squares   F-statistic:                     3.640\n",
      "Date:                Thu, 06 Mar 2025   Prob (F-statistic):            0.00223\n",
      "Time:                        23:35:46   Log-Likelihood:                 97.860\n",
      "No. Observations:                  74   AIC:                            -179.7\n",
      "Df Residuals:                      66   BIC:                            -161.3\n",
      "Df Model:                           7                                         \n",
      "Covariance Type:            nonrobust                                         \n",
      "====================================================================================================\n",
      "                                       coef    std err          t      P>|t|      [0.025      0.975]\n",
      "----------------------------------------------------------------------------------------------------\n",
      "const                                0.0042      0.008      0.525      0.602      -0.012       0.020\n",
      "employment_level_diff_1             -0.2173      0.304     -0.715      0.477      -0.824       0.390\n",
      "employment_dynamics_diff_1           0.0924      0.260      0.356      0.723      -0.426       0.611\n",
      "inflation_level_diff_1               0.9904      0.239      4.140      0.000       0.513       1.468\n",
      "inflation_dynamics_diff_1            0.0423      0.265      0.160      0.874      -0.486       0.571\n",
      "interest_rate_trajectory_diff_1      0.1974      0.214      0.923      0.359      -0.230       0.625\n",
      "balance_sheet_trajectory_diff_1      0.3110      0.425      0.732      0.467      -0.537       1.159\n",
      "forward_guidance_guidance_diff_1     0.5578      0.457      1.221      0.227      -0.355       1.470\n",
      "==============================================================================\n",
      "Omnibus:                        6.856   Durbin-Watson:                   1.529\n",
      "Prob(Omnibus):                  0.032   Jarque-Bera (JB):                7.832\n",
      "Skew:                           0.417   Prob(JB):                       0.0199\n",
      "Kurtosis:                       4.359   Cond. No.                         63.2\n",
      "==============================================================================\n",
      "\n",
      "Notes:\n",
      "[1] Standard Errors assume that the covariance matrix of the errors is correctly specified.\n",
      "const                               0.004193\n",
      "employment_level_diff_1            -0.217253\n",
      "employment_dynamics_diff_1          0.092415\n",
      "inflation_level_diff_1              0.990406\n",
      "inflation_dynamics_diff_1           0.042288\n",
      "interest_rate_trajectory_diff_1     0.197435\n",
      "balance_sheet_trajectory_diff_1     0.311016\n",
      "forward_guidance_guidance_diff_1    0.557778\n",
      "dtype: float64\n",
      "const                               0.601551\n",
      "employment_level_diff_1             0.477205\n",
      "employment_dynamics_diff_1          0.723069\n",
      "inflation_level_diff_1              0.000101\n",
      "inflation_dynamics_diff_1           0.873605\n",
      "interest_rate_trajectory_diff_1     0.359375\n",
      "balance_sheet_trajectory_diff_1     0.466713\n",
      "forward_guidance_guidance_diff_1    0.226568\n",
      "dtype: float64\n",
      "0.2785216152769894\n",
      "__________________________\n",
      "Regression results for  1Y_3d\n",
      "                            OLS Regression Results                            \n",
      "==============================================================================\n",
      "Dep. Variable:                  1Y_3d   R-squared:                       0.270\n",
      "Model:                            OLS   Adj. R-squared:                  0.192\n",
      "Method:                 Least Squares   F-statistic:                     3.482\n",
      "Date:                Thu, 06 Mar 2025   Prob (F-statistic):            0.00310\n",
      "Time:                        23:35:46   Log-Likelihood:                 77.179\n",
      "No. Observations:                  74   AIC:                            -138.4\n",
      "Df Residuals:                      66   BIC:                            -119.9\n",
      "Df Model:                           7                                         \n",
      "Covariance Type:            nonrobust                                         \n",
      "====================================================================================================\n",
      "                                       coef    std err          t      P>|t|      [0.025      0.975]\n",
      "----------------------------------------------------------------------------------------------------\n",
      "const                               -0.0100      0.011     -0.949      0.346      -0.031       0.011\n",
      "employment_level_diff_1             -0.6579      0.402     -1.637      0.106      -1.460       0.145\n",
      "employment_dynamics_diff_1           0.2097      0.343      0.611      0.544      -0.476       0.895\n",
      "inflation_level_diff_1               1.2845      0.316      4.061      0.000       0.653       1.916\n",
      "inflation_dynamics_diff_1           -0.1947      0.350     -0.556      0.580      -0.894       0.504\n",
      "interest_rate_trajectory_diff_1     -0.1941      0.283     -0.686      0.495      -0.759       0.371\n",
      "balance_sheet_trajectory_diff_1      0.3218      0.562      0.573      0.569      -0.800       1.444\n",
      "forward_guidance_guidance_diff_1     0.3583      0.604      0.593      0.555      -0.848       1.565\n",
      "==============================================================================\n",
      "Omnibus:                       33.392   Durbin-Watson:                   1.885\n",
      "Prob(Omnibus):                  0.000   Jarque-Bera (JB):              116.232\n",
      "Skew:                          -1.292   Prob(JB):                     5.76e-26\n",
      "Kurtosis:                       8.569   Cond. No.                         63.2\n",
      "==============================================================================\n",
      "\n",
      "Notes:\n",
      "[1] Standard Errors assume that the covariance matrix of the errors is correctly specified.\n",
      "const                              -0.010034\n",
      "employment_level_diff_1            -0.657871\n",
      "employment_dynamics_diff_1          0.209688\n",
      "inflation_level_diff_1              1.284466\n",
      "inflation_dynamics_diff_1          -0.194664\n",
      "interest_rate_trajectory_diff_1    -0.194145\n",
      "balance_sheet_trajectory_diff_1     0.321835\n",
      "forward_guidance_guidance_diff_1    0.358287\n",
      "dtype: float64\n",
      "const                               0.345832\n",
      "employment_level_diff_1             0.106402\n",
      "employment_dynamics_diff_1          0.543564\n",
      "inflation_level_diff_1              0.000132\n",
      "inflation_dynamics_diff_1           0.580157\n",
      "interest_rate_trajectory_diff_1     0.494915\n",
      "balance_sheet_trajectory_diff_1     0.568697\n",
      "forward_guidance_guidance_diff_1    0.555273\n",
      "dtype: float64\n",
      "0.26969647999683066\n",
      "__________________________\n",
      "Regression results for  2Y_3d\n",
      "                            OLS Regression Results                            \n",
      "==============================================================================\n",
      "Dep. Variable:                  2Y_3d   R-squared:                       0.250\n",
      "Model:                            OLS   Adj. R-squared:                  0.171\n",
      "Method:                 Least Squares   F-statistic:                     3.145\n",
      "Date:                Thu, 06 Mar 2025   Prob (F-statistic):            0.00627\n",
      "Time:                        23:35:46   Log-Likelihood:                 79.944\n",
      "No. Observations:                  74   AIC:                            -143.9\n",
      "Df Residuals:                      66   BIC:                            -125.5\n",
      "Df Model:                           7                                         \n",
      "Covariance Type:            nonrobust                                         \n",
      "====================================================================================================\n",
      "                                       coef    std err          t      P>|t|      [0.025      0.975]\n",
      "----------------------------------------------------------------------------------------------------\n",
      "const                                0.0099      0.010      0.977      0.332      -0.010       0.030\n",
      "employment_level_diff_1             -0.0679      0.387     -0.175      0.861      -0.841       0.705\n",
      "employment_dynamics_diff_1          -0.3108      0.331     -0.939      0.351      -0.971       0.350\n",
      "inflation_level_diff_1               1.2823      0.305      4.208      0.000       0.674       1.891\n",
      "inflation_dynamics_diff_1           -0.2127      0.337     -0.631      0.531      -0.886       0.461\n",
      "interest_rate_trajectory_diff_1      0.1590      0.273      0.583      0.562      -0.385       0.703\n",
      "balance_sheet_trajectory_diff_1      0.2587      0.541      0.478      0.634      -0.822       1.339\n",
      "forward_guidance_guidance_diff_1     0.7402      0.582      1.271      0.208      -0.422       1.902\n",
      "==============================================================================\n",
      "Omnibus:                        3.998   Durbin-Watson:                   2.161\n",
      "Prob(Omnibus):                  0.135   Jarque-Bera (JB):                3.292\n",
      "Skew:                           0.361   Prob(JB):                        0.193\n",
      "Kurtosis:                       3.740   Cond. No.                         63.2\n",
      "==============================================================================\n",
      "\n",
      "Notes:\n",
      "[1] Standard Errors assume that the covariance matrix of the errors is correctly specified.\n",
      "const                               0.009948\n",
      "employment_level_diff_1            -0.067902\n",
      "employment_dynamics_diff_1         -0.310787\n",
      "inflation_level_diff_1              1.282271\n",
      "inflation_dynamics_diff_1          -0.212709\n",
      "interest_rate_trajectory_diff_1     0.158970\n",
      "balance_sheet_trajectory_diff_1     0.258686\n",
      "forward_guidance_guidance_diff_1    0.740174\n",
      "dtype: float64\n",
      "const                               0.332027\n",
      "employment_level_diff_1             0.861312\n",
      "employment_dynamics_diff_1          0.350931\n",
      "inflation_level_diff_1              0.000080\n",
      "inflation_dynamics_diff_1           0.530506\n",
      "interest_rate_trajectory_diff_1     0.561636\n",
      "balance_sheet_trajectory_diff_1     0.634251\n",
      "forward_guidance_guidance_diff_1    0.208019\n",
      "dtype: float64\n",
      "0.25014304702502355\n",
      "__________________________\n",
      "Regression results for  5Y_3d\n",
      "                            OLS Regression Results                            \n",
      "==============================================================================\n",
      "Dep. Variable:                  5Y_3d   R-squared:                       0.279\n",
      "Model:                            OLS   Adj. R-squared:                  0.202\n",
      "Method:                 Least Squares   F-statistic:                     3.640\n",
      "Date:                Thu, 06 Mar 2025   Prob (F-statistic):            0.00223\n",
      "Time:                        23:35:46   Log-Likelihood:                 97.860\n",
      "No. Observations:                  74   AIC:                            -179.7\n",
      "Df Residuals:                      66   BIC:                            -161.3\n",
      "Df Model:                           7                                         \n",
      "Covariance Type:            nonrobust                                         \n",
      "====================================================================================================\n",
      "                                       coef    std err          t      P>|t|      [0.025      0.975]\n",
      "----------------------------------------------------------------------------------------------------\n",
      "const                                0.0042      0.008      0.525      0.602      -0.012       0.020\n",
      "employment_level_diff_1             -0.2173      0.304     -0.715      0.477      -0.824       0.390\n",
      "employment_dynamics_diff_1           0.0924      0.260      0.356      0.723      -0.426       0.611\n",
      "inflation_level_diff_1               0.9904      0.239      4.140      0.000       0.513       1.468\n",
      "inflation_dynamics_diff_1            0.0423      0.265      0.160      0.874      -0.486       0.571\n",
      "interest_rate_trajectory_diff_1      0.1974      0.214      0.923      0.359      -0.230       0.625\n",
      "balance_sheet_trajectory_diff_1      0.3110      0.425      0.732      0.467      -0.537       1.159\n",
      "forward_guidance_guidance_diff_1     0.5578      0.457      1.221      0.227      -0.355       1.470\n",
      "==============================================================================\n",
      "Omnibus:                        6.856   Durbin-Watson:                   1.529\n",
      "Prob(Omnibus):                  0.032   Jarque-Bera (JB):                7.832\n",
      "Skew:                           0.417   Prob(JB):                       0.0199\n",
      "Kurtosis:                       4.359   Cond. No.                         63.2\n",
      "==============================================================================\n",
      "\n",
      "Notes:\n",
      "[1] Standard Errors assume that the covariance matrix of the errors is correctly specified.\n",
      "const                               0.004193\n",
      "employment_level_diff_1            -0.217253\n",
      "employment_dynamics_diff_1          0.092415\n",
      "inflation_level_diff_1              0.990406\n",
      "inflation_dynamics_diff_1           0.042288\n",
      "interest_rate_trajectory_diff_1     0.197435\n",
      "balance_sheet_trajectory_diff_1     0.311016\n",
      "forward_guidance_guidance_diff_1    0.557778\n",
      "dtype: float64\n",
      "const                               0.601551\n",
      "employment_level_diff_1             0.477205\n",
      "employment_dynamics_diff_1          0.723069\n",
      "inflation_level_diff_1              0.000101\n",
      "inflation_dynamics_diff_1           0.873605\n",
      "interest_rate_trajectory_diff_1     0.359375\n",
      "balance_sheet_trajectory_diff_1     0.466713\n",
      "forward_guidance_guidance_diff_1    0.226568\n",
      "dtype: float64\n",
      "0.2785216152769894\n",
      "__________________________\n",
      "Regression results for  10Y_3d\n",
      "                            OLS Regression Results                            \n",
      "==============================================================================\n",
      "Dep. Variable:                 10Y_3d   R-squared:                       0.287\n",
      "Model:                            OLS   Adj. R-squared:                  0.212\n",
      "Method:                 Least Squares   F-statistic:                     3.799\n",
      "Date:                Thu, 06 Mar 2025   Prob (F-statistic):            0.00160\n",
      "Time:                        23:35:46   Log-Likelihood:                 113.82\n",
      "No. Observations:                  74   AIC:                            -211.6\n",
      "Df Residuals:                      66   BIC:                            -193.2\n",
      "Df Model:                           7                                         \n",
      "Covariance Type:            nonrobust                                         \n",
      "====================================================================================================\n",
      "                                       coef    std err          t      P>|t|      [0.025      0.975]\n",
      "----------------------------------------------------------------------------------------------------\n",
      "const                               -0.0005      0.006     -0.077      0.939      -0.013       0.012\n",
      "employment_level_diff_1             -0.3510      0.245     -1.433      0.157      -0.840       0.138\n",
      "employment_dynamics_diff_1           0.2689      0.209      1.285      0.203      -0.149       0.687\n",
      "inflation_level_diff_1               0.7394      0.193      3.835      0.000       0.354       1.124\n",
      "inflation_dynamics_diff_1            0.0946      0.213      0.443      0.659      -0.332       0.521\n",
      "interest_rate_trajectory_diff_1      0.1429      0.172      0.829      0.410      -0.201       0.487\n",
      "balance_sheet_trajectory_diff_1      0.3350      0.342      0.978      0.332      -0.349       1.019\n",
      "forward_guidance_guidance_diff_1     0.3602      0.368      0.978      0.332      -0.375       1.096\n",
      "==============================================================================\n",
      "Omnibus:                        9.925   Durbin-Watson:                   1.542\n",
      "Prob(Omnibus):                  0.007   Jarque-Bera (JB):               15.353\n",
      "Skew:                          -0.472   Prob(JB):                     0.000464\n",
      "Kurtosis:                       5.022   Cond. No.                         63.2\n",
      "==============================================================================\n",
      "\n",
      "Notes:\n",
      "[1] Standard Errors assume that the covariance matrix of the errors is correctly specified.\n",
      "const                              -0.000493\n",
      "employment_level_diff_1            -0.350982\n",
      "employment_dynamics_diff_1          0.268867\n",
      "inflation_level_diff_1              0.739359\n",
      "inflation_dynamics_diff_1           0.094630\n",
      "interest_rate_trajectory_diff_1     0.142916\n",
      "balance_sheet_trajectory_diff_1     0.334983\n",
      "forward_guidance_guidance_diff_1    0.360250\n",
      "dtype: float64\n",
      "const                               0.939195\n",
      "employment_level_diff_1             0.156627\n",
      "employment_dynamics_diff_1          0.203457\n",
      "inflation_level_diff_1              0.000283\n",
      "inflation_dynamics_diff_1           0.658954\n",
      "interest_rate_trajectory_diff_1     0.410155\n",
      "balance_sheet_trajectory_diff_1     0.331533\n",
      "forward_guidance_guidance_diff_1    0.331610\n",
      "dtype: float64\n",
      "0.2872058088743825\n",
      "__________________________\n",
      "Regression results for  30Y_3d\n",
      "                            OLS Regression Results                            \n",
      "==============================================================================\n",
      "Dep. Variable:                 30Y_3d   R-squared:                       0.283\n",
      "Model:                            OLS   Adj. R-squared:                  0.207\n",
      "Method:                 Least Squares   F-statistic:                     3.722\n",
      "Date:                Thu, 06 Mar 2025   Prob (F-statistic):            0.00188\n",
      "Time:                        23:35:46   Log-Likelihood:                 134.57\n",
      "No. Observations:                  74   AIC:                            -253.1\n",
      "Df Residuals:                      66   BIC:                            -234.7\n",
      "Df Model:                           7                                         \n",
      "Covariance Type:            nonrobust                                         \n",
      "====================================================================================================\n",
      "                                       coef    std err          t      P>|t|      [0.025      0.975]\n",
      "----------------------------------------------------------------------------------------------------\n",
      "const                               -0.0030      0.005     -0.626      0.533      -0.013       0.007\n",
      "employment_level_diff_1             -0.3339      0.185     -1.804      0.076      -0.703       0.036\n",
      "employment_dynamics_diff_1           0.2978      0.158      1.883      0.064      -0.018       0.614\n",
      "inflation_level_diff_1               0.5276      0.146      3.622      0.001       0.237       0.818\n",
      "inflation_dynamics_diff_1            0.0215      0.161      0.134      0.894      -0.300       0.343\n",
      "interest_rate_trajectory_diff_1      0.0520      0.130      0.399      0.691      -0.208       0.312\n",
      "balance_sheet_trajectory_diff_1      0.2782      0.259      1.075      0.286      -0.238       0.795\n",
      "forward_guidance_guidance_diff_1     0.2676      0.278      0.962      0.340      -0.288       0.823\n",
      "==============================================================================\n",
      "Omnibus:                       24.135   Durbin-Watson:                   1.764\n",
      "Prob(Omnibus):                  0.000   Jarque-Bera (JB):               58.639\n",
      "Skew:                          -1.019   Prob(JB):                     1.85e-13\n",
      "Kurtosis:                       6.856   Cond. No.                         63.2\n",
      "==============================================================================\n",
      "\n",
      "Notes:\n",
      "[1] Standard Errors assume that the covariance matrix of the errors is correctly specified.\n",
      "const                              -0.003048\n",
      "employment_level_diff_1            -0.333920\n",
      "employment_dynamics_diff_1          0.297834\n",
      "inflation_level_diff_1              0.527618\n",
      "inflation_dynamics_diff_1           0.021535\n",
      "interest_rate_trajectory_diff_1     0.052028\n",
      "balance_sheet_trajectory_diff_1     0.278157\n",
      "forward_guidance_guidance_diff_1    0.267623\n",
      "dtype: float64\n",
      "const                               0.533230\n",
      "employment_level_diff_1             0.075726\n",
      "employment_dynamics_diff_1          0.064043\n",
      "inflation_level_diff_1              0.000568\n",
      "inflation_dynamics_diff_1           0.894158\n",
      "interest_rate_trajectory_diff_1     0.690866\n",
      "balance_sheet_trajectory_diff_1     0.286192\n",
      "forward_guidance_guidance_diff_1    0.339667\n",
      "dtype: float64\n",
      "0.28305558449632395\n",
      "__________________________\n"
     ]
    }
   ],
   "source": [
    "target_cols = ['10Y_3d', '10Y_5d', '5Y_3d', '1Y_3d', '2Y_3d', '5Y_3d', '10Y_3d', '30Y_3d']\n",
    "\n",
    "for col in target_cols:\n",
    "    X = sm.add_constant(regression_df[score_diff_cols])\n",
    "    y = regression_df[col]\n",
    "    model = sm.OLS(y, X).fit()\n",
    "    print('Regression results for ', col)\n",
    "    print(model.summary())\n",
    "    print(model.params)\n",
    "    print(model.pvalues)\n",
    "    print(model.rsquared)\n",
    "    print('__________________________')"
   ]
  },
  {
   "cell_type": "code",
   "execution_count": null,
   "metadata": {},
   "outputs": [],
   "source": []
  }
 ],
 "metadata": {
  "kernelspec": {
   "display_name": "ucl",
   "language": "python",
   "name": "python3"
  },
  "language_info": {
   "codemirror_mode": {
    "name": "ipython",
    "version": 3
   },
   "file_extension": ".py",
   "mimetype": "text/x-python",
   "name": "python",
   "nbconvert_exporter": "python",
   "pygments_lexer": "ipython3",
   "version": "3.10.16"
  }
 },
 "nbformat": 4,
 "nbformat_minor": 2
}
